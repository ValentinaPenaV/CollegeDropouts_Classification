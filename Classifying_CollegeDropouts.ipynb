{
 "cells": [
  {
   "cell_type": "markdown",
   "metadata": {
    "toc": true
   },
   "source": [
    "<h1>Table of Contents<span class=\"tocSkip\"></span></h1>\n",
    "<div class=\"toc\"><ul class=\"toc-item\"><li><span><a href=\"#Problem-Definition\" data-toc-modified-id=\"Problem-Definition-1\"><span class=\"toc-item-num\">1&nbsp;&nbsp;</span>Problem Definition</a></span></li><li><span><a href=\"#Importing-data-and-pre-processing\" data-toc-modified-id=\"Importing-data-and-pre-processing-2\"><span class=\"toc-item-num\">2&nbsp;&nbsp;</span>Importing data and pre-processing</a></span></li><li><span><a href=\"#Working-with-baseline-df\" data-toc-modified-id=\"Working-with-baseline-df-3\"><span class=\"toc-item-num\">3&nbsp;&nbsp;</span>Working with baseline df</a></span><ul class=\"toc-item\"><li><ul class=\"toc-item\"><li><span><a href=\"#Notes-on-prepping-the-data:\" data-toc-modified-id=\"Notes-on-prepping-the-data:-3.0.1\"><span class=\"toc-item-num\">3.0.1&nbsp;&nbsp;</span>Notes on prepping the data:</a></span><ul class=\"toc-item\"><li><span><a href=\"#Data-dropped:\" data-toc-modified-id=\"Data-dropped:-3.0.1.1\"><span class=\"toc-item-num\">3.0.1.1&nbsp;&nbsp;</span>Data dropped:</a></span></li><li><span><a href=\"#Data-transformed:\" data-toc-modified-id=\"Data-transformed:-3.0.1.2\"><span class=\"toc-item-num\">3.0.1.2&nbsp;&nbsp;</span>Data transformed:</a></span></li><li><span><a href=\"#Diagnostic-plots:\" data-toc-modified-id=\"Diagnostic-plots:-3.0.1.3\"><span class=\"toc-item-num\">3.0.1.3&nbsp;&nbsp;</span>Diagnostic plots:</a></span></li></ul></li></ul></li><li><span><a href=\"#Moving-onto-actual-data-cleaning...\" data-toc-modified-id=\"Moving-onto-actual-data-cleaning...-3.1\"><span class=\"toc-item-num\">3.1&nbsp;&nbsp;</span>Moving onto actual data cleaning...</a></span></li></ul></li><li><span><a href=\"#Visualizing-data-at-the-module-(course)-level\" data-toc-modified-id=\"Visualizing-data-at-the-module-(course)-level-4\"><span class=\"toc-item-num\">4&nbsp;&nbsp;</span>Visualizing data at the module (course) level</a></span><ul class=\"toc-item\"><li><span><a href=\"#Approach:\" data-toc-modified-id=\"Approach:-4.1\"><span class=\"toc-item-num\">4.1&nbsp;&nbsp;</span>Approach:</a></span></li></ul></li><li><span><a href=\"#Modeling\" data-toc-modified-id=\"Modeling-5\"><span class=\"toc-item-num\">5&nbsp;&nbsp;</span>Modeling</a></span><ul class=\"toc-item\"><li><span><a href=\"#EDA\" data-toc-modified-id=\"EDA-5.1\"><span class=\"toc-item-num\">5.1&nbsp;&nbsp;</span>EDA</a></span><ul class=\"toc-item\"><li><ul class=\"toc-item\"><li><span><a href=\"#THOUGHTS:\" data-toc-modified-id=\"THOUGHTS:-5.1.0.1\"><span class=\"toc-item-num\">5.1.0.1&nbsp;&nbsp;</span>THOUGHTS:</a></span></li><li><span><a href=\"#THOUGHTS:\" data-toc-modified-id=\"THOUGHTS:-5.1.0.2\"><span class=\"toc-item-num\">5.1.0.2&nbsp;&nbsp;</span>THOUGHTS:</a></span></li></ul></li></ul></li><li><span><a href=\"#Model-1:\" data-toc-modified-id=\"Model-1:-5.2\"><span class=\"toc-item-num\">5.2&nbsp;&nbsp;</span>Model 1:</a></span><ul class=\"toc-item\"><li><span><a href=\"#Features:\" data-toc-modified-id=\"Features:-5.2.1\"><span class=\"toc-item-num\">5.2.1&nbsp;&nbsp;</span>Features:</a></span></li><li><span><a href=\"#kNN-model:\" data-toc-modified-id=\"kNN-model:-5.2.2\"><span class=\"toc-item-num\">5.2.2&nbsp;&nbsp;</span>kNN model:</a></span></li><li><span><a href=\"#Logistic-Regression-model:\" data-toc-modified-id=\"Logistic-Regression-model:-5.2.3\"><span class=\"toc-item-num\">5.2.3&nbsp;&nbsp;</span>Logistic Regression model:</a></span></li><li><span><a href=\"#Naive-Bayes-model:\" data-toc-modified-id=\"Naive-Bayes-model:-5.2.4\"><span class=\"toc-item-num\">5.2.4&nbsp;&nbsp;</span>Naive Bayes model:</a></span></li><li><span><a href=\"#Decision-Tree-Classifier-model:\" data-toc-modified-id=\"Decision-Tree-Classifier-model:-5.2.5\"><span class=\"toc-item-num\">5.2.5&nbsp;&nbsp;</span>Decision Tree Classifier model:</a></span></li><li><span><a href=\"#Random-Forest-Classifier-model:\" data-toc-modified-id=\"Random-Forest-Classifier-model:-5.2.6\"><span class=\"toc-item-num\">5.2.6&nbsp;&nbsp;</span>Random Forest Classifier model:</a></span></li><li><span><a href=\"#Gradient-Boosted-Tree-Model:\" data-toc-modified-id=\"Gradient-Boosted-Tree-Model:-5.2.7\"><span class=\"toc-item-num\">5.2.7&nbsp;&nbsp;</span>Gradient-Boosted Tree Model:</a></span></li></ul></li><li><span><a href=\"#Modeling-with-less-params:\" data-toc-modified-id=\"Modeling-with-less-params:-5.3\"><span class=\"toc-item-num\">5.3&nbsp;&nbsp;</span>Modeling with less params:</a></span><ul class=\"toc-item\"><li><span><a href=\"#kNN:\" data-toc-modified-id=\"kNN:-5.3.1\"><span class=\"toc-item-num\">5.3.1&nbsp;&nbsp;</span>kNN:</a></span></li><li><span><a href=\"#Logistic-Regression\" data-toc-modified-id=\"Logistic-Regression-5.3.2\"><span class=\"toc-item-num\">5.3.2&nbsp;&nbsp;</span>Logistic Regression</a></span></li><li><span><a href=\"#Decision-Trees:\" data-toc-modified-id=\"Decision-Trees:-5.3.3\"><span class=\"toc-item-num\">5.3.3&nbsp;&nbsp;</span>Decision Trees:</a></span></li><li><span><a href=\"#Random-Forest:\" data-toc-modified-id=\"Random-Forest:-5.3.4\"><span class=\"toc-item-num\">5.3.4&nbsp;&nbsp;</span>Random Forest:</a></span></li><li><span><a href=\"#Gradient-Boost:\" data-toc-modified-id=\"Gradient-Boost:-5.3.5\"><span class=\"toc-item-num\">5.3.5&nbsp;&nbsp;</span>Gradient Boost:</a></span></li></ul></li></ul></li><li><span><a href=\"#Thoughts-so-far:\" data-toc-modified-id=\"Thoughts-so-far:-6\"><span class=\"toc-item-num\">6&nbsp;&nbsp;</span>Thoughts so far:</a></span><ul class=\"toc-item\"><li><span><a href=\"#Modeling-plans:\" data-toc-modified-id=\"Modeling-plans:-6.1\"><span class=\"toc-item-num\">6.1&nbsp;&nbsp;</span>Modeling plans:</a></span></li></ul></li><li><span><a href=\"#Improvements-to-come-(depending-on-future-model-results):\" data-toc-modified-id=\"Improvements-to-come-(depending-on-future-model-results):-7\"><span class=\"toc-item-num\">7&nbsp;&nbsp;</span>Improvements to come (depending on future model results):</a></span><ul class=\"toc-item\"><li><span><a href=\"#Feature-Engineering\" data-toc-modified-id=\"Feature-Engineering-7.1\"><span class=\"toc-item-num\">7.1&nbsp;&nbsp;</span>Feature Engineering</a></span></li><li><span><a href=\"#More-data-to-come?\" data-toc-modified-id=\"More-data-to-come?-7.2\"><span class=\"toc-item-num\">7.2&nbsp;&nbsp;</span>More data to come?</a></span></li><li><span><a href=\"#Things-I'm-thinking-of:\" data-toc-modified-id=\"Things-I'm-thinking-of:-7.3\"><span class=\"toc-item-num\">7.3&nbsp;&nbsp;</span>Things I'm thinking of:</a></span></li></ul></li></ul></div>"
   ]
  },
  {
   "cell_type": "markdown",
   "metadata": {},
   "source": [
    "# Problem Definition"
   ]
  },
  {
   "cell_type": "markdown",
   "metadata": {},
   "source": [
    "I'm looking at data from the Open University and trying to predict whether a student will withdrawn from a course they are taking.\n",
    "\n",
    "Data source: https://www.kaggle.com/tedogogoladze/open-university-analytics-datasets-unzipped/downloads/open-university-analytics-datasets-unzipped.zip/1\n",
    "\n",
    "Predicted / Target Variable: \"final_result\" - \"Withdrawn\" vs everything else (\"Pass\", \"Fail\", \"Distinction\")\n",
    "\n",
    "Features: Assessment ID, Student ID, Module code, Module date (semester/year), Assessment type, Date registered for course, course length, Student gender, Student location (region), Highest degree of education, Student age (binned), Number of previous attempts for this module, Total credits to date, disability\n",
    "\n",
    "Features engineered: Late registration (after module start, 0-1), Late submission of assessment (any submitted after due-date, 0-1)\n",
    "\n",
    "Target metric: recall / F1\n",
    "Rationale: With withdrawal, you care most about identifying students at risk of withdrawing in order to address the problem. However, the extra resources used to give at-risk students attention can be costly. Therefore F1 score is also important."
   ]
  },
  {
   "cell_type": "markdown",
   "metadata": {},
   "source": [
    "# Importing data and pre-processing"
   ]
  },
  {
   "cell_type": "code",
   "execution_count": 1,
   "metadata": {},
   "outputs": [
    {
     "name": "stderr",
     "output_type": "stream",
     "text": [
      "Using TensorFlow backend.\n",
      "/Users/Valentina/anaconda3/lib/python3.7/site-packages/tensorflow/python/framework/dtypes.py:516: FutureWarning: Passing (type, 1) or '1type' as a synonym of type is deprecated; in a future version of numpy, it will be understood as (type, (1,)) / '(1,)type'.\n",
      "  _np_qint8 = np.dtype([(\"qint8\", np.int8, 1)])\n",
      "/Users/Valentina/anaconda3/lib/python3.7/site-packages/tensorflow/python/framework/dtypes.py:517: FutureWarning: Passing (type, 1) or '1type' as a synonym of type is deprecated; in a future version of numpy, it will be understood as (type, (1,)) / '(1,)type'.\n",
      "  _np_quint8 = np.dtype([(\"quint8\", np.uint8, 1)])\n",
      "/Users/Valentina/anaconda3/lib/python3.7/site-packages/tensorflow/python/framework/dtypes.py:518: FutureWarning: Passing (type, 1) or '1type' as a synonym of type is deprecated; in a future version of numpy, it will be understood as (type, (1,)) / '(1,)type'.\n",
      "  _np_qint16 = np.dtype([(\"qint16\", np.int16, 1)])\n",
      "/Users/Valentina/anaconda3/lib/python3.7/site-packages/tensorflow/python/framework/dtypes.py:519: FutureWarning: Passing (type, 1) or '1type' as a synonym of type is deprecated; in a future version of numpy, it will be understood as (type, (1,)) / '(1,)type'.\n",
      "  _np_quint16 = np.dtype([(\"quint16\", np.uint16, 1)])\n",
      "/Users/Valentina/anaconda3/lib/python3.7/site-packages/tensorflow/python/framework/dtypes.py:520: FutureWarning: Passing (type, 1) or '1type' as a synonym of type is deprecated; in a future version of numpy, it will be understood as (type, (1,)) / '(1,)type'.\n",
      "  _np_qint32 = np.dtype([(\"qint32\", np.int32, 1)])\n",
      "/Users/Valentina/anaconda3/lib/python3.7/site-packages/tensorflow/python/framework/dtypes.py:525: FutureWarning: Passing (type, 1) or '1type' as a synonym of type is deprecated; in a future version of numpy, it will be understood as (type, (1,)) / '(1,)type'.\n",
      "  np_resource = np.dtype([(\"resource\", np.ubyte, 1)])\n",
      "/Users/Valentina/anaconda3/lib/python3.7/site-packages/tensorboard/compat/tensorflow_stub/dtypes.py:541: FutureWarning: Passing (type, 1) or '1type' as a synonym of type is deprecated; in a future version of numpy, it will be understood as (type, (1,)) / '(1,)type'.\n",
      "  _np_qint8 = np.dtype([(\"qint8\", np.int8, 1)])\n",
      "/Users/Valentina/anaconda3/lib/python3.7/site-packages/tensorboard/compat/tensorflow_stub/dtypes.py:542: FutureWarning: Passing (type, 1) or '1type' as a synonym of type is deprecated; in a future version of numpy, it will be understood as (type, (1,)) / '(1,)type'.\n",
      "  _np_quint8 = np.dtype([(\"quint8\", np.uint8, 1)])\n",
      "/Users/Valentina/anaconda3/lib/python3.7/site-packages/tensorboard/compat/tensorflow_stub/dtypes.py:543: FutureWarning: Passing (type, 1) or '1type' as a synonym of type is deprecated; in a future version of numpy, it will be understood as (type, (1,)) / '(1,)type'.\n",
      "  _np_qint16 = np.dtype([(\"qint16\", np.int16, 1)])\n",
      "/Users/Valentina/anaconda3/lib/python3.7/site-packages/tensorboard/compat/tensorflow_stub/dtypes.py:544: FutureWarning: Passing (type, 1) or '1type' as a synonym of type is deprecated; in a future version of numpy, it will be understood as (type, (1,)) / '(1,)type'.\n",
      "  _np_quint16 = np.dtype([(\"quint16\", np.uint16, 1)])\n",
      "/Users/Valentina/anaconda3/lib/python3.7/site-packages/tensorboard/compat/tensorflow_stub/dtypes.py:545: FutureWarning: Passing (type, 1) or '1type' as a synonym of type is deprecated; in a future version of numpy, it will be understood as (type, (1,)) / '(1,)type'.\n",
      "  _np_qint32 = np.dtype([(\"qint32\", np.int32, 1)])\n",
      "/Users/Valentina/anaconda3/lib/python3.7/site-packages/tensorboard/compat/tensorflow_stub/dtypes.py:550: FutureWarning: Passing (type, 1) or '1type' as a synonym of type is deprecated; in a future version of numpy, it will be understood as (type, (1,)) / '(1,)type'.\n",
      "  np_resource = np.dtype([(\"resource\", np.ubyte, 1)])\n"
     ]
    },
    {
     "ename": "ModuleNotFoundError",
     "evalue": "No module named 'pandas_profiling'",
     "output_type": "error",
     "traceback": [
      "\u001b[0;31m---------------------------------------------------------------------------\u001b[0m",
      "\u001b[0;31mModuleNotFoundError\u001b[0m                       Traceback (most recent call last)",
      "\u001b[0;32m<ipython-input-1-c62ef074b06c>\u001b[0m in \u001b[0;36m<module>\u001b[0;34m\u001b[0m\n\u001b[1;32m     17\u001b[0m \u001b[0;32mimport\u001b[0m \u001b[0mseaborn\u001b[0m \u001b[0;32mas\u001b[0m \u001b[0msns\u001b[0m\u001b[0;34m\u001b[0m\u001b[0;34m\u001b[0m\u001b[0m\n\u001b[1;32m     18\u001b[0m \u001b[0;32mimport\u001b[0m \u001b[0mmatplotlib\u001b[0m\u001b[0;34m.\u001b[0m\u001b[0mpyplot\u001b[0m \u001b[0;32mas\u001b[0m \u001b[0mplt\u001b[0m\u001b[0;34m\u001b[0m\u001b[0;34m\u001b[0m\u001b[0m\n\u001b[0;32m---> 19\u001b[0;31m \u001b[0;32mimport\u001b[0m \u001b[0mpandas_profiling\u001b[0m \u001b[0;32mas\u001b[0m \u001b[0mpp\u001b[0m\u001b[0;34m\u001b[0m\u001b[0;34m\u001b[0m\u001b[0m\n\u001b[0m\u001b[1;32m     20\u001b[0m \u001b[0;34m\u001b[0m\u001b[0m\n\u001b[1;32m     21\u001b[0m \u001b[0mget_ipython\u001b[0m\u001b[0;34m(\u001b[0m\u001b[0;34m)\u001b[0m\u001b[0;34m.\u001b[0m\u001b[0mrun_line_magic\u001b[0m\u001b[0;34m(\u001b[0m\u001b[0;34m'matplotlib'\u001b[0m\u001b[0;34m,\u001b[0m \u001b[0;34m'inline'\u001b[0m\u001b[0;34m)\u001b[0m\u001b[0;34m\u001b[0m\u001b[0;34m\u001b[0m\u001b[0m\n",
      "\u001b[0;31mModuleNotFoundError\u001b[0m: No module named 'pandas_profiling'"
     ]
    }
   ],
   "source": [
    "import pandas as pd\n",
    "import numpy as np\n",
    "from math import sqrt\n",
    "from operator import itemgetter\n",
    "from sklearn.preprocessing import StandardScaler\n",
    "from sklearn import naive_bayes\n",
    "from sklearn.linear_model import LogisticRegression\n",
    "from sklearn.neighbors import KNeighborsClassifier\n",
    "from sklearn.metrics import r2_score, confusion_matrix, precision_score, recall_score, f1_score, accuracy_score, mean_squared_error\n",
    "from sklearn.model_selection import train_test_split, cross_validate, GridSearchCV\n",
    "from sklearn.tree import DecisionTreeClassifier\n",
    "from sklearn.ensemble import RandomForestClassifier\n",
    "from sklearn.svm import LinearSVC, SVC\n",
    "from imblearn.over_sampling import RandomOverSampler\n",
    "from sklearn.naive_bayes import GaussianNB\n",
    "import xgboost as xgb\n",
    "import seaborn as sns\n",
    "import matplotlib.pyplot as plt\n",
    "import pandas_profiling as pp\n",
    "\n",
    "%matplotlib inline\n",
    "sns.set()\n",
    "pd.set_option('display.max_columns', None)"
   ]
  },
  {
   "cell_type": "code",
   "execution_count": 2,
   "metadata": {},
   "outputs": [],
   "source": [
    "# Load data:\n",
    "assessments = pd.read_csv('/Users/Valentina/Documents/git/Metis/Projects/Project_3/data/assessments.csv')\n",
    "courses = pd.read_csv('/Users/Valentina/Documents/git/Metis/Projects/Project_3/data/courses.csv')\n",
    "studentAssessment = pd.read_csv('/Users/Valentina/Documents/git/Metis/Projects/Project_3/data/studentAssessment.csv')\n",
    "studentInfo = pd.read_csv('/Users/Valentina/Documents/git/Metis/Projects/Project_3/data/studentInfo.csv')\n",
    "studentRegistration = pd.read_csv('/Users/Valentina/Documents/git/Metis/Projects/Project_3/data/studentRegistration.csv')\n",
    "studentVle = pd.read_csv('/Users/Valentina/Documents/git/Metis/Projects/Project_3/data/studentVle.csv')\n",
    "vle = pd.read_csv('/Users/Valentina/Documents/git/Metis/Projects/Project_3/data/vle.csv')"
   ]
  },
  {
   "cell_type": "code",
   "execution_count": 3,
   "metadata": {},
   "outputs": [],
   "source": [
    "# Column renaming:\n",
    "studentAssessment.columns = (['id_assessment', 'id_student', 'date_submitted', 'is_banked', 'score'])\n",
    "assessments.columns = (['code_module', 'code_presentation', 'id_assessment', 'assessment_type', 'date_assessment_due', 'weight'])\n",
    "courses.columns = (['code_module', 'code_presentation', 'course_length'])"
   ]
  },
  {
   "cell_type": "code",
   "execution_count": 4,
   "metadata": {},
   "outputs": [],
   "source": [
    "# Getting dummy codes for assessment types in order to sum for each module:\n",
    "assess_dummies = pd.get_dummies(assessments[['assessment_type']], drop_first=False)\n",
    "# Concatenating the df with its dummies\n",
    "assessments_dummies = pd.concat([assessments, assess_dummies], axis=1)\n",
    "grouped_assessments = (assessments_dummies.groupby(['code_module', 'code_presentation'], as_index=False)\n",
    "                                          .agg({'id_assessment': 'first', 'assessment_type': 'first',\n",
    "                                                'date_assessment_due': 'first', 'weight': 'first',\n",
    "                                                'assessment_type_CMA': 'sum', 'assessment_type_Exam': 'sum',\n",
    "                                                'assessment_type_TMA':'sum'}))\n",
    "\n",
    "grouped_assessments.columns = (['module_code', 'module_presentation', 'id_assessment', 'assessment_type',\n",
    "                                'date_assessment_due', 'weight', 'num_CMA_assess', 'num_Exams', 'num_TMA_assess'])\n",
    "\n",
    "grouped_assessments.drop(['id_assessment', 'assessment_type', 'date_assessment_due', 'weight'], axis=1, inplace=True)"
   ]
  },
  {
   "cell_type": "code",
   "execution_count": 5,
   "metadata": {},
   "outputs": [],
   "source": [
    "# Merging dataframes one by one (for sanity checks):\n",
    "df1 = studentAssessment.merge(assessments, how='left', on='id_assessment')\n",
    "df1.drop(['weight'], axis=1 , inplace=True)\n",
    "\n",
    "df2 = df1.merge(studentRegistration, how='left', on=['id_student', 'code_module', 'code_presentation'])\n",
    "\n",
    "df3 = df2.merge(courses, how='left', on=['code_module', 'code_presentation'])\n",
    "\n",
    "df4 = df3.merge(studentInfo, how='left', on=['id_student', 'code_module', 'code_presentation']) # This is our ultimate merge"
   ]
  },
  {
   "cell_type": "code",
   "execution_count": 6,
   "metadata": {},
   "outputs": [],
   "source": [
    "# df4.columns"
   ]
  },
  {
   "cell_type": "code",
   "execution_count": 6,
   "metadata": {},
   "outputs": [],
   "source": [
    "del assessments, courses, studentAssessment, studentInfo, studentRegistration, studentVle, vle, df1, df2, df3"
   ]
  },
  {
   "cell_type": "markdown",
   "metadata": {},
   "source": [
    "# Working with baseline df"
   ]
  },
  {
   "cell_type": "code",
   "execution_count": 7,
   "metadata": {},
   "outputs": [],
   "source": [
    "# Feature Engineering functions:\n",
    "\n",
    "def late_submission(vect):\n",
    "    if vect[1] == -999: # if there is no submission deadline\n",
    "        return 0\n",
    "    elif vect[0] > vect[1]: # if submitted date after submission deadline\n",
    "        return 1\n",
    "    elif vect[0] < vect[1]: # if submitted date before submission deadline\n",
    "        return 0\n",
    "\n",
    "def withdrawn(x):\n",
    "    if x == 'Withdrawn':\n",
    "        return 1\n",
    "    else:\n",
    "        return 0\n",
    "\n",
    "def extract_month(x):\n",
    "    if 'B' in x:\n",
    "        return 'Feb'\n",
    "    elif 'J' in x:\n",
    "        return 'Oct'\n",
    "\n",
    "def extract_year(x):\n",
    "    if '2013' in x:\n",
    "        return 2013\n",
    "    elif '2014' in x:\n",
    "        return 2014\n",
    "\n",
    "def to_ordinal(x, codes):\n",
    "    return codes[x]"
   ]
  },
  {
   "cell_type": "markdown",
   "metadata": {},
   "source": [
    "### Notes on prepping the data:\n",
    "\n",
    "#### Data dropped:\n",
    "- Unregistration date - 100% correlated with withdrawal. No withdrawn student DOES NOT have an unregistration date and no students that DID NOT WITHDRAW have an unregistration date\n",
    "- is_banked - not really an interesting metric\n",
    "- imd_band - had too many NaNs\n",
    "- Subset of withdrawn students had no date_registered information - dropped these rows (see diagnostic plots)\n",
    "\n",
    "#### Data transformed:\n",
    "##### Some rows did not have values for certain features, but the lack of data was meaningful so I transformed the NaNs (see diagnostic plots):\n",
    "- Some Exams had no due-date (some did, and lack of due-dates appeared for assignments taken by students with all types of final result, except for Withdrawn) - filled with -999\n",
    "- Some Tutor-Marked assessments had no score (see diagnostic plots) - imputed missing scores from mean score of that student's other assignments for that module. If no other scores for that module available then score set to 0\n",
    "- Flippped sign on date_registration so it expresses HOW MANY DAYS between registration and course start. Negative numbers express registration AFTER course start\n",
    "\n",
    "##### Some features were better expressed as binary (0-1):\n",
    "- Final_result was coded as 1 if Withdrawn (TARGET PREDICTION), 0 if anything else (Pass / Fail / Distinction)\n",
    "- Disability coded as Y - 1 and N - 0\n",
    "- Gender coded as F - 1 and M - 0\n",
    "\n",
    "##### Feature engineering:\n",
    "- Because unviable to use date_submitted because colapsing over all assessments in a module, computed whether assessments where submitted late (due_date - date_submitted) to later use if *any* were late as a predictor\n",
    "- Late-registration computed from any registration dates past day 0 (start of course)\n",
    "- age_band made ordinal: 0 = 0-35y / 1 = 35-55y / 2 = 55+y\n",
    "- highest_education made ordinal: 0 = No formal quals / 1 = Lower than A-Levels / 2 = A-Levels or equiv / 3 = HE / 4 = Post-Grad\n",
    "\n",
    "Remaining nulls dropped at the end of this process"
   ]
  },
  {
   "cell_type": "markdown",
   "metadata": {},
   "source": [
    "#### Diagnostic plots:"
   ]
  },
  {
   "cell_type": "code",
   "execution_count": 8,
   "metadata": {},
   "outputs": [],
   "source": [
    "# # Data prep for plotting - things turned to -999 for easier visibility\n",
    "plotting = df4.copy()\n",
    "\n",
    "plotting['score'].replace(' ', -999, inplace=True)\n",
    "plotting['score'] = pd.to_numeric(plotting['score'])\n",
    "\n",
    "plotting['date_assessment_due'].replace(' ', -999, inplace=True)\n",
    "plotting['date_assessment_due'] = pd.to_numeric(plotting['date_assessment_due'])\n",
    "\n",
    "plotting['date_registration'].replace(' ', 999, inplace=True)\n",
    "plotting['date_registration'] = pd.to_numeric(plotting['date_registration'])\n",
    "plotting['date_registration'] = (plotting['date_registration'] * (-1))"
   ]
  },
  {
   "cell_type": "code",
   "execution_count": 9,
   "metadata": {},
   "outputs": [
    {
     "data": {
      "text/plain": [
       "Text(0.5, 0, \"Student's final result\")"
      ]
     },
     "execution_count": 9,
     "metadata": {},
     "output_type": "execute_result"
    },
    {
     "data": {
      "image/png": "[encoded data removed]",
      "text/plain": [
       "<Figure size 864x720 with 1 Axes>"
      ]
     },
     "metadata": {
      "needs_background": "light"
     },
     "output_type": "display_data"
    }
   ],
   "source": [
    "# # Plot of date_registration :\n",
    "plt.figure(figsize = (12, 10) )\n",
    "plt.rcParams.update({'axes.labelsize': 'large', 'axes.titlesize':'large',})\n",
    "plt.scatter(plotting['final_result'], plotting['date_registration'])\n",
    "plt.title(\"Registration date by student's final result\")\n",
    "plt.ylabel('Days between registration and course start')\n",
    "plt.xlabel(\"Student's final result\")"
   ]
  },
  {
   "cell_type": "code",
   "execution_count": 10,
   "metadata": {},
   "outputs": [
    {
     "data": {
      "text/plain": [
       "Text(0.5, 0, \"Student's final result\")"
      ]
     },
     "execution_count": 10,
     "metadata": {},
     "output_type": "execute_result"
    },
    {
     "data": {
      "image/png": "[encoded data removed]",
      "text/plain": [
       "<Figure size 864x720 with 1 Axes>"
      ]
     },
     "metadata": {
      "needs_background": "light"
     },
     "output_type": "display_data"
    }
   ],
   "source": [
    "# # Plot of date_assessment_due by final result:\n",
    "plt.figure(figsize = (12, 10) )\n",
    "plt.rcParams.update({'axes.labelsize': 'large', 'axes.titlesize':'large',})\n",
    "plt.scatter(plotting['final_result'], plotting['date_assessment_due'])\n",
    "plt.title(\"Assessment due-date by student's final result\")\n",
    "plt.ylabel('Days between assessment due-date and course start')\n",
    "plt.xlabel(\"Student's final result\")"
   ]
  },
  {
   "cell_type": "code",
   "execution_count": 11,
   "metadata": {},
   "outputs": [
    {
     "data": {
      "text/plain": [
       "Text(0.5, 0, 'Assessment Type')"
      ]
     },
     "execution_count": 11,
     "metadata": {},
     "output_type": "execute_result"
    },
    {
     "data": {
      "image/png": "[encoded data removed]",
      "text/plain": [
       "<Figure size 864x720 with 1 Axes>"
      ]
     },
     "metadata": {
      "needs_background": "light"
     },
     "output_type": "display_data"
    }
   ],
   "source": [
    "# # Plot of date_assessment_due by assessment type:\n",
    "plt.figure(figsize = (12, 10) )\n",
    "plt.rcParams.update({'axes.labelsize': 'large', 'axes.titlesize':'large',})\n",
    "plt.scatter(plotting['assessment_type'], plotting['date_assessment_due'])\n",
    "plt.title(\"Assessment due-date by student's final result\")\n",
    "plt.ylabel('Days between assessment due-date and course start')\n",
    "plt.xlabel(\"Assessment Type\")"
   ]
  },
  {
   "cell_type": "code",
   "execution_count": 12,
   "metadata": {},
   "outputs": [
    {
     "data": {
      "text/plain": [
       "Text(0.5, 0, \"Student's final result\")"
      ]
     },
     "execution_count": 12,
     "metadata": {},
     "output_type": "execute_result"
    },
    {
     "data": {
      "image/png": "[encoded data removed]",
      "text/plain": [
       "<Figure size 864x720 with 1 Axes>"
      ]
     },
     "metadata": {
      "needs_background": "light"
     },
     "output_type": "display_data"
    }
   ],
   "source": [
    "# # Plot of score by final result:\n",
    "plt.figure(figsize = (12, 10) )\n",
    "plt.rcParams.update({'axes.labelsize': 'large', 'axes.titlesize':'large',})\n",
    "plt.scatter(plotting['final_result'], plotting['score'])\n",
    "plt.title(\"Score by student's final result\")\n",
    "plt.ylabel('Score')\n",
    "plt.xlabel(\"Student's final result\")"
   ]
  },
  {
   "cell_type": "code",
   "execution_count": 13,
   "metadata": {},
   "outputs": [
    {
     "data": {
      "text/plain": [
       "Text(0.5, 0, 'Assessment Type')"
      ]
     },
     "execution_count": 13,
     "metadata": {},
     "output_type": "execute_result"
    },
    {
     "data": {
      "image/png": "[encoded data removed]",
      "text/plain": [
       "<Figure size 864x720 with 1 Axes>"
      ]
     },
     "metadata": {
      "needs_background": "light"
     },
     "output_type": "display_data"
    }
   ],
   "source": [
    "# # Plot of score by assessment type:\n",
    "plt.figure(figsize = (12, 10) )\n",
    "plt.rcParams.update({'axes.labelsize': 'large', 'axes.titlesize':'large',})\n",
    "plt.scatter(plotting['assessment_type'], plotting['score'])\n",
    "plt.title(\"Score by assessment type\")\n",
    "plt.ylabel('Score')\n",
    "plt.xlabel(\"Assessment Type\")"
   ]
  },
  {
   "cell_type": "markdown",
   "metadata": {},
   "source": [
    "## Moving onto actual data cleaning..."
   ]
  },
  {
   "cell_type": "code",
   "execution_count": 10,
   "metadata": {},
   "outputs": [],
   "source": [
    "coded_df = df4.copy()"
   ]
  },
  {
   "cell_type": "code",
   "execution_count": 9,
   "metadata": {},
   "outputs": [],
   "source": [
    "# # Sanity check\n",
    "# coded_df.columns"
   ]
  },
  {
   "cell_type": "code",
   "execution_count": 11,
   "metadata": {},
   "outputs": [],
   "source": [
    "# Not including these variables in this model & dropping meaningless NaNs\n",
    "coded_df.drop(['date_unregistration', 'imd_band', 'is_banked'], axis=1, inplace=True)\n",
    "coded_df.replace(' ', np.nan, inplace=True) # some values are empty strings - make them NaNs\n",
    "coded_df.dropna(subset=['date_registration'], axis=0, inplace=True) # some students didn't register - idk, still looking into this\n",
    "\n",
    "# Dealing with values that are sometimes empty for a reason, so we don't want to get rid of them:\n",
    "coded_df['score'] = pd.to_numeric(coded_df['score'])\n",
    "coded_df['score'].fillna(coded_df.groupby(['id_student', 'code_module', 'code_presentation'])['score'].transform(\"mean\"), inplace=True)\n",
    "coded_df['score'].fillna(-99, inplace=True) ##### MAYBE THIS SHOULD BE 0??\n",
    "\n",
    "coded_df['date_assessment_due'].fillna(-999, inplace=True) # some Exams don't have a due date\n",
    "\n",
    "# Making certain variables binary:\n",
    "coded_df['final_result'] = coded_df['final_result'].apply(withdrawn) # making Withdrawns 1, everything else 0\n",
    "coded_df['disability'] = coded_df['disability'].apply(lambda x: 1 if x == 'Y' else 0)\n",
    "coded_df['gender'] = coded_df['gender'].apply(lambda x: 1 if x == 'F' else 0)\n",
    "\n",
    "# Converting data types for useability:\n",
    "coded_df['id_assessment'] = pd.to_numeric(coded_df['id_assessment'])\n",
    "coded_df['id_student'] = pd.to_numeric(coded_df['id_student'])\n",
    "coded_df['date_submitted'] = pd.to_numeric(coded_df['date_submitted'])\n",
    "coded_df['course_length'] = pd.to_numeric(coded_df['course_length'])\n",
    "coded_df['num_of_prev_attempts'] = pd.to_numeric(coded_df['num_of_prev_attempts'])\n",
    "coded_df['studied_credits'] = pd.to_numeric(coded_df['studied_credits'])\n",
    "coded_df['date_registration'] = pd.to_numeric(coded_df['date_registration'])\n",
    "coded_df['date_assessment_due'] = pd.to_numeric(coded_df['date_assessment_due'])\n",
    "\n",
    "# Feature engineering:\n",
    "coded_df['date_registration'] = coded_df['date_registration'] * (-1)\n",
    "coded_df['late_registration'] = coded_df['date_registration'].apply(lambda x: 1 if int(x) < 1 else 0)\n",
    "coded_df['late_submission'] = coded_df[['date_submitted', 'date_assessment_due']].apply(late_submission, axis=1)\n",
    "coded_df['module_month'] = coded_df['code_presentation'].apply(extract_month)\n",
    "coded_df['module_year'] = coded_df['code_presentation'].apply(extract_year)\n",
    "\n",
    "coded_df.dropna(axis=0, inplace=True)\n",
    "\n",
    "# Making age & education ordinal variables:\n",
    "age_codes = {'0-35':0, '35-55':1, '55<=':2}\n",
    "coded_df['age_code'] = coded_df['age_band'].apply(to_ordinal, args=[age_codes])\n",
    "edu_codes = {'No Formal quals': 0, 'Lower Than A Level': 1, 'A Level or Equivalent': 2, 'HE Qualification':3, 'Post Graduate Qualification': 4}\n",
    "coded_df['edu_code'] = coded_df['highest_education'].apply(to_ordinal, args=[edu_codes])"
   ]
  },
  {
   "cell_type": "code",
   "execution_count": 12,
   "metadata": {},
   "outputs": [],
   "source": [
    "# Getting dummy codes for our categorical variables:\n",
    "dummies = pd.get_dummies(coded_df[['code_module', 'module_month', 'region']], drop_first=False)"
   ]
  },
  {
   "cell_type": "code",
   "execution_count": 13,
   "metadata": {},
   "outputs": [],
   "source": [
    "# Concatenating the df with its dummies\n",
    "coded_df = pd.concat([coded_df, dummies], axis=1)"
   ]
  },
  {
   "cell_type": "code",
   "execution_count": 14,
   "metadata": {},
   "outputs": [],
   "source": [
    "# coded_df.columns"
   ]
  },
  {
   "cell_type": "markdown",
   "metadata": {},
   "source": [
    "# Visualizing data at the module (course) level\n",
    "\n",
    "## Approach:\n",
    "Apply a groupby to get all types of assessment for each module, but keep all other info the same (per student / module / presentation)"
   ]
  },
  {
   "cell_type": "code",
   "execution_count": 15,
   "metadata": {},
   "outputs": [],
   "source": [
    "grouped_df = coded_df.copy()\n",
    "# .drop(['date_submitted', 'assessment_type', 'date_assessment_due'], axis=1)\n",
    "\n",
    "grouped_df = (grouped_df.groupby(['id_student', 'code_module', 'code_presentation'], as_index=False)\n",
    "                     .agg({'score': 'mean', 'date_registration': 'first', 'course_length': 'first',\n",
    "                           'gender': 'first', 'region': 'first', 'highest_education': 'first',\n",
    "                           'age_band': 'first', 'num_of_prev_attempts': 'first', 'studied_credits': 'first',\n",
    "                           'disability': 'first', 'final_result': 'first', 'late_registration': 'first',\n",
    "                           'late_submission': 'max', 'module_month': 'first', 'module_year': 'first',\n",
    "                           'age_code': 'first', 'edu_code': 'first', 'code_module_AAA': 'first',\n",
    "                           'code_module_BBB': 'first', 'code_module_CCC': 'first', 'code_module_DDD': 'first',\n",
    "                           'code_module_EEE': 'first', 'code_module_FFF': 'first', 'code_module_GGG': 'first',\n",
    "                           'module_month_Feb': 'first', 'module_month_Oct': 'first',\n",
    "                           'region_East Anglian Region': 'first', 'region_East Midlands Region': 'first',\n",
    "                           'region_Ireland': 'first', 'region_London Region': 'first',\n",
    "                           'region_North Region': 'first', 'region_North Western Region': 'first',\n",
    "                           'region_Scotland': 'first', 'region_South East Region': 'first',\n",
    "                           'region_South Region': 'first', 'region_South West Region': 'first',\n",
    "                           'region_Wales': 'first', 'region_West Midlands Region': 'first',\n",
    "                           'region_Yorkshire Region': 'first'}))\n",
    "\n",
    "grouped_df.columns = (['student_id', 'module_code', 'module_presentation','avg_assess_score',\n",
    "       'date_registered', 'course_length', 'gender', 'region',\n",
    "       'highest_education', 'age_band', 'num_of_prev_attempts',\n",
    "       'studied_credits', 'disability', 'final_result', 'late_registration',\n",
    "       'late_assess_submission', 'module_month', 'module_year','age_code',\n",
    "       'edu_code', 'module_AAA', 'module_BBB', 'module_CCC', 'module_DDD',\n",
    "       'module_EEE', 'module_FFF', 'module_GGG', 'module_month_Feb',\n",
    "       'module_month_Oct', 'region_East_Anglia', 'region_East_Midlands',\n",
    "       'region_Ireland', 'region_London', 'region_North', 'region_North_West',\n",
    "       'region_Scotland', 'region_South_East', 'region_South',\n",
    "       'region_South_West', 'region_Wales', 'region_West_Midlands',\n",
    "       'region_Yorkshire'])\n",
    "\n",
    "# Adding in Assessment-type counts for each module (from previously aggregated df)\n",
    "grouped_df = grouped_df.merge(grouped_assessments, how='left', on=['module_code', 'module_presentation'])"
   ]
  },
  {
   "cell_type": "code",
   "execution_count": null,
   "metadata": {},
   "outputs": [],
   "source": [
    "# A few sanity checks, use at will:\n",
    "# grouped_df.columns\n",
    "# grouped_df.head()\n",
    "# grouped_df[grouped_df['num_Exams']>1]['module_code'].unique() # Shows that only module CCC has more than 1 exam - exclude?\n",
    "# grouped_df.sort_values(['student_id']).head(20)"
   ]
  },
  {
   "cell_type": "code",
   "execution_count": 291,
   "metadata": {},
   "outputs": [
    {
     "data": {
      "text/plain": [
       "(24772, 45)"
      ]
     },
     "execution_count": 291,
     "metadata": {},
     "output_type": "execute_result"
    }
   ],
   "source": [
    "grouped_df.shape"
   ]
  },
  {
   "cell_type": "markdown",
   "metadata": {},
   "source": [
    "# Modeling"
   ]
  },
  {
   "cell_type": "markdown",
   "metadata": {},
   "source": [
    "## EDA"
   ]
  },
  {
   "cell_type": "code",
   "execution_count": null,
   "metadata": {},
   "outputs": [],
   "source": [
    "# pf = pp.ProfileReport(df = grouped_df)\n",
    "# pf\n",
    "# pf.to_file(\"EDA_profile.html\")"
   ]
  },
  {
   "cell_type": "code",
   "execution_count": null,
   "metadata": {},
   "outputs": [],
   "source": [
    "# plt.scatter(x=grouped_df['avg_assess_score'], y=grouped_df['final_result'])"
   ]
  },
  {
   "cell_type": "code",
   "execution_count": null,
   "metadata": {},
   "outputs": [],
   "source": [
    "# sns.boxplot(x=grouped_df['final_result'], y=grouped_df['avg_assess_score'])"
   ]
  },
  {
   "cell_type": "markdown",
   "metadata": {},
   "source": [
    "#### THOUGHTS:\n",
    "^ Should I get rid of course_length as a variable since it seems to track module_month perfectly?"
   ]
  },
  {
   "cell_type": "code",
   "execution_count": null,
   "metadata": {},
   "outputs": [],
   "source": [
    "# plt.scatter(x=grouped_df['num_Exams'], y=grouped_df['module_code'])"
   ]
  },
  {
   "cell_type": "markdown",
   "metadata": {},
   "source": [
    "#### THOUGHTS:\n",
    "^ Should I get rid of num_Exams as a variable since only module_code CCC has more than 1?"
   ]
  },
  {
   "cell_type": "code",
   "execution_count": null,
   "metadata": {},
   "outputs": [],
   "source": [
    "grouped_subset = grouped_df[['student_id', 'module_code', 'module_month', 'module_year', 'num_CMA_assess',\n",
    "       'num_Exams', 'num_TMA_assess', 'avg_assess_score',\n",
    "       'date_registered', 'course_length', 'gender', 'region',\n",
    "       'edu_code', 'age_code', 'num_of_prev_attempts',\n",
    "       'studied_credits', 'disability', 'late_registration',\n",
    "       'late_assess_submission', 'final_result']]"
   ]
  },
  {
   "cell_type": "code",
   "execution_count": null,
   "metadata": {},
   "outputs": [],
   "source": [
    "sns.pairplot(grouped_subset, diag_kind='kde', hue = 'final_result')"
   ]
  },
  {
   "cell_type": "code",
   "execution_count": null,
   "metadata": {},
   "outputs": [],
   "source": [
    "# Can change x to visualize different features vs target\n",
    "# sns.stripplot(x='studied_credits',y='final_result', jitter=True,data=grouped_df,alpha=0.6);\n",
    "grouped_df['course_length'].unique()"
   ]
  },
  {
   "cell_type": "code",
   "execution_count": null,
   "metadata": {},
   "outputs": [],
   "source": [
    "plt.figure(figsize = (12, 10))\n",
    "corr = grouped_df.corr()\n",
    "ax = sns.heatmap(\n",
    "    corr,\n",
    "    vmin=-1, vmax=1, center=0,\n",
    "    cmap='YlOrRd',\n",
    "    square=True\n",
    ")\n",
    "ax.set_xticklabels(\n",
    "    ax.get_xticklabels(),\n",
    "    rotation=45,\n",
    "    horizontalalignment='right'\n",
    ")"
   ]
  },
  {
   "cell_type": "code",
   "execution_count": 16,
   "metadata": {
    "scrolled": true
   },
   "outputs": [
    {
     "name": "stdout",
     "output_type": "stream",
     "text": [
      "There are 4260 counts of withdrawn students (target) in the data\n",
      "There are 20512 remaining counts of students in the data\n",
      "Dataset is heavily imbalanced!\n",
      "Proportion: 4.82 : 1\n",
      "Percentage of Majority Class: 17.19683513644437\n"
     ]
    }
   ],
   "source": [
    "# Checking class imbalance:\n",
    "print(\"There are {} counts of withdrawn students (target) in the data\".format(grouped_df[grouped_df['final_result']==1].shape[0]))\n",
    "print(\"There are {} remaining counts of students in the data\".format(grouped_df.shape[0] - grouped_df[grouped_df['final_result']==1].shape[0]))\n",
    "print('Dataset is heavily imbalanced!')\n",
    "\n",
    "target_count = grouped_df['final_result'].value_counts()\n",
    "print(f'Proportion: {round(target_count[0] / target_count[1], 2)} : 1')\n",
    "print(f'Percentage of Majority Class: {target_count[1] / sum(target_count)*100}')"
   ]
  },
  {
   "cell_type": "markdown",
   "metadata": {},
   "source": [
    "## Model 1: \n",
    "### Features: \n",
    "- student id\n",
    "- gender\n",
    "- disability\n",
    "- region\n",
    "- highest level of education - as ordinal codes\n",
    "- age - as ordinal codes\n",
    "- module (code)\n",
    "- module (month)\n",
    "- module (year)\n",
    "- num Exams required\n",
    "- num Computer-Marked Assessments required\n",
    "- num Tutor-Marked Assessments required\n",
    "- date registration (# days early)\n",
    "- late registration - binary: y/n\n",
    "- Any late submissions - binary: y/n\n",
    "- course_length (days)\n",
    "- number of previous attempts\n",
    "- num studied credits"
   ]
  },
  {
   "cell_type": "code",
   "execution_count": 272,
   "metadata": {},
   "outputs": [],
   "source": [
    "models = []"
   ]
  },
  {
   "cell_type": "code",
   "execution_count": 157,
   "metadata": {},
   "outputs": [],
   "source": [
    "X1 = grouped_df.drop(['avg_assess_score','region', 'highest_education', 'age_band', 'final_result', 'module_code', 'module_presentation', 'module_month'], axis=1)\n",
    "y1 = grouped_df['final_result']"
   ]
  },
  {
   "cell_type": "code",
   "execution_count": 158,
   "metadata": {},
   "outputs": [
    {
     "data": {
      "text/plain": [
       "Index(['student_id', 'date_registered', 'course_length', 'gender',\n",
       "       'num_of_prev_attempts', 'studied_credits', 'disability',\n",
       "       'late_registration', 'late_assess_submission', 'module_year',\n",
       "       'age_code', 'edu_code', 'module_AAA', 'module_BBB', 'module_CCC',\n",
       "       'module_DDD', 'module_EEE', 'module_FFF', 'module_GGG',\n",
       "       'module_month_Feb', 'module_month_Oct', 'region_East_Anglia',\n",
       "       'region_East_Midlands', 'region_Ireland', 'region_London',\n",
       "       'region_North', 'region_North_West', 'region_Scotland',\n",
       "       'region_South_East', 'region_South', 'region_South_West',\n",
       "       'region_Wales', 'region_West_Midlands', 'region_Yorkshire',\n",
       "       'num_CMA_assess', 'num_Exams', 'num_TMA_assess'],\n",
       "      dtype='object')"
      ]
     },
     "execution_count": 158,
     "metadata": {},
     "output_type": "execute_result"
    }
   ],
   "source": [
    "# # Sanity check\n",
    "X1.columns"
   ]
  },
  {
   "cell_type": "code",
   "execution_count": 159,
   "metadata": {},
   "outputs": [],
   "source": [
    "# Building train-test split:\n",
    "X1_train, X1_test, y1_train, y1_test = train_test_split(X1, y1, test_size=.25, random_state=3)"
   ]
  },
  {
   "cell_type": "markdown",
   "metadata": {},
   "source": [
    "### kNN model:"
   ]
  },
  {
   "cell_type": "code",
   "execution_count": 160,
   "metadata": {},
   "outputs": [],
   "source": [
    "# Building train-validation split:\n",
    "X1_train1, X1_val1, y1_train1, y1_val1 = train_test_split(X1_train, y1_train, test_size=.25, random_state=3)"
   ]
  },
  {
   "cell_type": "code",
   "execution_count": 161,
   "metadata": {},
   "outputs": [],
   "source": [
    "# Over-sampling to improve deal with class imbalance\n",
    "ros = RandomOverSampler(random_state=0)\n",
    "X1_train1_resampled, y1_train1_resampled = ros.fit_sample(X1_train1,y1_train1)"
   ]
  },
  {
   "cell_type": "code",
   "execution_count": 21,
   "metadata": {
    "scrolled": true
   },
   "outputs": [],
   "source": [
    "k_recall = []\n",
    "k_f1 = []\n",
    "neighbors = list(range(1, 21))\n",
    "for neighbor in neighbors:\n",
    "    knn1 = KNeighborsClassifier(n_neighbors=neighbor)\n",
    "    knn1.fit(X1_train1_resampled, y1_train1_resampled)\n",
    "    knn_pred_train = knn1.predict(X1_train1)\n",
    "    knn_pred_val = knn1.predict(X1_val1)\n",
    "    recall_train = recall_score(y1_train1, knn_pred_train)\n",
    "    f1_train = f1_score(y1_train1, knn_pred_train)\n",
    "    recall_val = recall_score(y1_val1, knn_pred_val)\n",
    "    f1_val = f1_score(y1_val1, knn_pred_val)\n",
    "#     print('Neighbors k: {}'.format(neighbor))\n",
    "#     print('Train recall score: {}'.format(recall_train))\n",
    "#     print('Train F1 score: {}'.format(f1_train))\n",
    "#     print('Validation recall score: {}'.format(recall_val))\n",
    "#     print('Validation F1 score: {}'.format(f1_val))\n",
    "    k_recall.append(recall_val)\n",
    "    k_f1.append(f1_val)"
   ]
  },
  {
   "cell_type": "code",
   "execution_count": 22,
   "metadata": {},
   "outputs": [],
   "source": [
    "# THIS IS GIVING CRAZY SCORES - DON'T USE\n",
    "\n",
    "# k_recall = []\n",
    "# k_f1 = []\n",
    "# neighbors = list(range(1, 21))\n",
    "# for neighbor in neighbors:\n",
    "#     knn1 = KNeighborsClassifier(n_neighbors=neighbor)\n",
    "#     scores = cross_validate(knn1, X1_train1_resampled, y1_train1_resampled, # estimator, features, target\n",
    "#                 cv=5, # number of folds\n",
    "#                 scoring=['recall', 'f1'], return_train_score=True) # scoring metric\n",
    "#     print('kNN Model train recall: {}'.format(np.mean(scores['train_recall'])))\n",
    "#     print('kNN Model train F1: {}'.format(np.mean(scores['train_f1'])))\n",
    "#     print('kNN Model val recall: {}'.format(np.mean(scores['test_recall'])))\n",
    "#     print('kNN Model val F1: {}'.format(np.mean(scores['test_f1'])))\n",
    "#     k_recall.append(np.mean(scores['test_recall']))\n",
    "#     k_f1.append(np.mean(scores['test_f1']))"
   ]
  },
  {
   "cell_type": "code",
   "execution_count": 23,
   "metadata": {},
   "outputs": [
    {
     "name": "stdout",
     "output_type": "stream",
     "text": [
      "Highest recall at 13 neighbors and highest F1 at 13 neighbors\n",
      "Recall at 0.4915254237288136 and F1 at 0.2708333333333333\n"
     ]
    }
   ],
   "source": [
    "knn_zip = list(zip(neighbors, k_recall, k_f1))\n",
    "recall_max_k = max(knn_zip,key=itemgetter(1))[0]\n",
    "recall_max = max(knn_zip,key=itemgetter(1))[1]\n",
    "f1_max_k = max(knn_zip,key=itemgetter(2))[0]\n",
    "f1_max = max(knn_zip,key=itemgetter(2))[2]\n",
    "print('Highest recall at {} neighbors and highest F1 at {} neighbors'.format(recall_max_k, f1_max_k))\n",
    "print('Recall at {} and F1 at {}'.format(recall_max, f1_max))"
   ]
  },
  {
   "cell_type": "markdown",
   "metadata": {},
   "source": [
    "> Take-away: best recall and F1 scores with n=13 for a kNN model, but scores aren't great"
   ]
  },
  {
   "cell_type": "code",
   "execution_count": 290,
   "metadata": {
    "scrolled": false
   },
   "outputs": [
    {
     "name": "stdout",
     "output_type": "stream",
     "text": [
      "Accuracy: 0.563\n",
      "kNN Model Train recall score: 0.7423742786479802\n",
      "kNN Model Train precision score: 0.2978828977836586\n",
      "kNN Model Train F1 score: 0.42516525023607177\n",
      "kNN Model Validation recall score: 0.4915254237288136\n",
      "kNN Model Validation precision score: 0.18691125433812594\n",
      "kNN Model Validation F1 score: 0.2708333333333333\n"
     ]
    },
    {
     "data": {
      "image/png": "[encoded data removed]",
      "text/plain": [
       "<Figure size 900x600 with 2 Axes>"
      ]
     },
     "metadata": {
      "needs_background": "light"
     },
     "output_type": "display_data"
    }
   ],
   "source": [
    "knn2 = KNeighborsClassifier(n_neighbors=13)\n",
    "knn2.fit(X1_train1_resampled, y1_train1_resampled)\n",
    "knn2_pred_train = knn2.predict(X1_train1)\n",
    "knn2_pred_val = knn2.predict(X1_val1)\n",
    "knn2_accuracy_val2 = accuracy_score(y1_val1, knn2_pred_val)\n",
    "knn2_recall_train2 = recall_score(y1_train1, knn2_pred_train)\n",
    "knn2_precision_train2 = precision_score(y1_train1, knn2_pred_train)\n",
    "knn2_f1_train2 = f1_score(y1_train1, knn2_pred_train)\n",
    "knn2_recall_val2 = recall_score(y1_val1, knn2_pred_val)\n",
    "knn2_precision_val2 = precision_score(y1_val1, knn2_pred_val)\n",
    "knn2_f1_val2 = f1_score(y1_val1, knn2_pred_val)\n",
    "print(\"Accuracy: %.3f\"% knn2_accuracy_val2)\n",
    "print('kNN Model Train recall score: {}'.format(knn2_recall_train2))\n",
    "print('kNN Model Train precision score: {}'.format(knn2_precision_train2))\n",
    "print('kNN Model Train F1 score: {}'.format(knn2_f1_train2))\n",
    "print('kNN Model Validation recall score: {}'.format(knn2_recall_val2))\n",
    "print('kNN Model Validation precision score: {}'.format(knn2_precision_val2))\n",
    "print('kNN Model Validation F1 score: {}'.format(knn2_f1_val2))\n",
    "\n",
    "knn_confusion = confusion_matrix(y1_val1, knn2.predict(X1_val1))\n",
    "plt.figure(dpi=150)\n",
    "sns.heatmap(knn_confusion, cmap=plt.cm.Blues, annot=True, square=True, fmt='g')\n",
    "\n",
    "plt.xlabel('Predicted withdrawn students')\n",
    "plt.ylabel('Actual withdrawn students')\n",
    "plt.title('kNN confusion matrix, n=13');\n",
    "plt.savefig('figures/kNN_allfeatures.png', format='png', bbox_inches='tight')"
   ]
  },
  {
   "cell_type": "code",
   "execution_count": 273,
   "metadata": {},
   "outputs": [],
   "source": [
    "models.append({'model': 'knn', \n",
    "               'data': 'all',\n",
    "               'neighbors': 13, \n",
    "               'Validation Accuracy': knn2_accuracy_val2, \n",
    "               'Validation Recall': knn2_recall_val2,\n",
    "               'Validation Precision': knn2_precision_val2,\n",
    "               'Validation F1': knn2_f1_val2,\n",
    "               'true_neg': 2238,\n",
    "               'true_pos': 377,\n",
    "               'false_pos': 1640,\n",
    "               'false_neg': 390})"
   ]
  },
  {
   "cell_type": "code",
   "execution_count": 274,
   "metadata": {},
   "outputs": [
    {
     "data": {
      "text/plain": [
       "[{'model': 'knn',\n",
       "  'data': 'all',\n",
       "  'neighbors': 13,\n",
       "  'Validation Accuracy': 0.5629709364908504,\n",
       "  'Validation Recall': 0.4915254237288136,\n",
       "  'Validation Precision': 0.18691125433812594,\n",
       "  'Validation F1': 0.2708333333333333,\n",
       "  'true_neg': 2238,\n",
       "  'true_pos': 377,\n",
       "  'false_pos': 1640,\n",
       "  'false_neg': 390}]"
      ]
     },
     "execution_count": 274,
     "metadata": {},
     "output_type": "execute_result"
    }
   ],
   "source": [
    "models"
   ]
  },
  {
   "cell_type": "code",
   "execution_count": 25,
   "metadata": {
    "scrolled": true
   },
   "outputs": [],
   "source": [
    "# model_val_probs = knn2.predict_proba(X1_val1)[:,1]\n",
    "\n",
    "\n",
    "# thresh_ps = np.linspace(.10,1,2000)\n",
    "\n",
    "# f_scores = []\n",
    "# precision_scores = []\n",
    "# recall_scores = []\n",
    "\n",
    "# for p in thresh_ps:\n",
    "#     model_val_labels = model_val_probs >= p\n",
    "#     f_scores.append(f1_score(y1_val1, model_val_labels))\n",
    "#     precision_scores.append(precision_score(y1_val1, model_val_labels))\n",
    "#     recall_scores.append(recall_score(y1_val1, model_val_labels))\n",
    "\n",
    "# best_f_kNN = np.max(f_scores) \n",
    "# best_p_kNN = thresh_ps[np.argmax(f_scores)].round(2)\n",
    "\n",
    "# plt.figure(figsize=(12,6))\n",
    "\n",
    "# plt.subplot(1, 2, 1)\n",
    "# plt.plot(thresh_ps, f_scores)\n",
    "# plt.title('Score vs Probability Threshold\\nModel = kNN (k=13) \\nBest F1 score %.4f at p = %.2f' %\n",
    "#           (best_f_kNN, best_p_kNN))\n",
    "# plt.xlabel('P threshold')\n",
    "# plt.ylabel('F1 score');\n",
    "\n",
    "# plt.subplot(1, 2, 2)\n",
    "# plt.plot(thresh_ps, precision_scores,label='Precision')\n",
    "# plt.plot(thresh_ps, recall_scores, label='Recall')\n",
    "# plt.legend(loc='upper right')\n",
    "# plt.title('Precision and Recall Curves\\nModel = kNN (k=13) \\nBest F1 score %.4f at p = %.2f' % \n",
    "#           (best_f_kNN, best_p_kNN))\n",
    "# plt.xlabel('P Threshold')\n",
    "# plt.ylabel('Score (Precision and Recall)');"
   ]
  },
  {
   "cell_type": "code",
   "execution_count": 26,
   "metadata": {},
   "outputs": [],
   "source": [
    "# print(np.max(precision_scores))\n",
    "# print(thresh_ps[np.argmax(precision_scores)].round(2))"
   ]
  },
  {
   "cell_type": "code",
   "execution_count": 27,
   "metadata": {},
   "outputs": [],
   "source": [
    "# knn3 = KNeighborsClassifier(n_neighbors=13)\n",
    "# knn3.fit(X1_train1_resampled, y1_train1_resampled)\n",
    "# knn3_pred_train = (knn3.predict_proba(X1_train1)[:,1]<= 0.3)\n",
    "# knn3_pred_val = (knn3.predict_proba(X1_val1)[:,1]<= 0.3)\n",
    "# recall_train2 = recall_score(y1_train1, knn3_pred_train)\n",
    "# f1_train2 = f1_score(y1_train1, knn3_pred_train)\n",
    "# recall_val2 = recall_score(y1_val1, knn3_pred_val)\n",
    "# f1_val2 = f1_score(y1_val1, knn3_pred_val)\n",
    "# print('kNN Model 3 Train recall score: {}'.format(recall_train2))\n",
    "# print('kNN Model 3 Train F1 score: {}'.format(f1_train2))\n",
    "# print('kNN Model 3 Validation recall score: {}'.format(recall_val2))\n",
    "# print('kNN Model 3 Validation F1 score: {}'.format(f1_val2))\n",
    "\n",
    "# knn_confusion = confusion_matrix(y1_val1, knn3_pred_val)\n",
    "# plt.figure(dpi=150)\n",
    "# sns.heatmap(knn_confusion, cmap=plt.cm.Blues, annot=True, square=True, fmt='g')\n",
    "\n",
    "# plt.xlabel('Predicted withdrawn students')\n",
    "# plt.ylabel('Actual withdrawn students')\n",
    "# plt.title('kNN confusion matrix with p=.3 threshold');"
   ]
  },
  {
   "cell_type": "markdown",
   "metadata": {},
   "source": [
    "### Logistic Regression model:"
   ]
  },
  {
   "cell_type": "code",
   "execution_count": 164,
   "metadata": {},
   "outputs": [
    {
     "name": "stderr",
     "output_type": "stream",
     "text": [
      "/Users/Valentina/anaconda3/lib/python3.7/site-packages/ipykernel_launcher.py:3: DataConversionWarning: Data with input dtype uint8, int64, float64 were all converted to float64 by StandardScaler.\n",
      "  This is separate from the ipykernel package so we can avoid doing imports until\n"
     ]
    }
   ],
   "source": [
    "scaler = StandardScaler()\n",
    "X1_train1_scaled = scaler.fit_transform(X1_train1_resampled)\n",
    "X1_val1_scaled = scaler.transform(X1_val1)"
   ]
  },
  {
   "cell_type": "code",
   "execution_count": 29,
   "metadata": {},
   "outputs": [],
   "source": [
    "# reg = list(np.geomspace(0.01, 100, 100))\n",
    "# logit_recall = []\n",
    "# logit_f1 = []\n",
    "# for c in reg:\n",
    "#     logit1 = LogisticRegression(C=c, penalty='l1')\n",
    "#     logit1.fit(X1_train1_scaled, y1_train1_resampled)\n",
    "#     logit1_pred_train =logit1.predict(X1_train1_scaled)\n",
    "#     logit1_pred_val = logit1.predict(X1_val1_scaled)\n",
    "#     recall_train = recall_score(y1_train1_resampled, logit1_pred_train)\n",
    "#     f1_train = f1_score(y1_train1_resampled, logit1_pred_train)\n",
    "#     recall_val = recall_score(y1_val1, logit1_pred_val)\n",
    "#     f1_val = f1_score(y1_val1, logit1_pred_val)\n",
    "# #     print('Regularization strength: {}'.format(c))\n",
    "# #     print('Train recall score: {}'.format(recall_train))\n",
    "# #     print('Train F1 score: {}'.format(f1_train))\n",
    "# #     print('Validation recall score: {}'.format(recall_val))\n",
    "# #     print('Validation F1 score: {}'.format(f1_val))\n",
    "#     logit_recall.append(recall_val)\n",
    "#     logit_f1.append(f1_val)\n",
    "\n",
    "# logit_zip = list(zip(reg, logit_recall, logit_f1))\n",
    "# recall_max_c = max(logit_zip,key=itemgetter(1))[0]\n",
    "# recall_max_lr = max(logit_zip,key=itemgetter(1))[1]\n",
    "# f1_max_c = max(logit_zip,key=itemgetter(2))[0]\n",
    "# f1_max_lr = max(logit_zip,key=itemgetter(2))[2]\n",
    "# print('Highest recall at c = {} and highest F1 at c = {}'.format(recall_max_c, f1_max_c))\n",
    "# print('Recall at {} and F1 at {}'.format(recall_max_lr, f1_max_lr))"
   ]
  },
  {
   "cell_type": "code",
   "execution_count": 30,
   "metadata": {},
   "outputs": [
    {
     "name": "stdout",
     "output_type": "stream",
     "text": [
      "{'C': 0.040370172585965536, 'penalty': 'l2'}\n"
     ]
    },
    {
     "name": "stderr",
     "output_type": "stream",
     "text": [
      "/Users/Valentina/anaconda3/lib/python3.7/site-packages/sklearn/model_selection/_search.py:841: DeprecationWarning: The default of the `iid` parameter will change from True to False in version 0.22 and will be removed in 0.24. This will change numeric results when test-set sizes are unequal.\n",
      "  DeprecationWarning)\n",
      "/Users/Valentina/anaconda3/lib/python3.7/site-packages/sklearn/linear_model/logistic.py:433: FutureWarning: Default solver will be changed to 'lbfgs' in 0.22. Specify a solver to silence this warning.\n",
      "  FutureWarning)\n"
     ]
    }
   ],
   "source": [
    "lr_grid_param = {\n",
    "    'C': list(np.geomspace(0.01, 100, 100)),\n",
    "    'penalty': ['l1', 'l2']\n",
    "}\n",
    "logit2 = LogisticRegression()\n",
    "lr_gd_sr = GridSearchCV(estimator=logit2,\n",
    "                     param_grid=lr_grid_param,\n",
    "                     scoring=['accuracy','precision', 'recall', 'f1'],\n",
    "                     cv=5,\n",
    "                     refit = 'f1',\n",
    "                     n_jobs=-1)\n",
    "# Logistic_CV = pd.DataFrame(cross_validate(LogisticRegression(C=0.1, penalty='l1'), X1_train1_scaled, y1_train1_resampled, cv = 3, return_train_score=True, scoring = ['accuracy', 'precision', 'recall', 'f1']))\n",
    "# Logistic_CV.mean()\n",
    "lr_gd_sr.fit(X1_val1_scaled, y1_val1)\n",
    "best_parameters = lr_gd_sr.best_params_\n",
    "print(best_parameters)"
   ]
  },
  {
   "cell_type": "markdown",
   "metadata": {},
   "source": [
    "> Take-away: best recall and F1 scores with C=0.03 & l2 penalty"
   ]
  },
  {
   "cell_type": "code",
   "execution_count": 165,
   "metadata": {},
   "outputs": [
    {
     "name": "stderr",
     "output_type": "stream",
     "text": [
      "/Users/Valentina/anaconda3/lib/python3.7/site-packages/sklearn/linear_model/logistic.py:433: FutureWarning: Default solver will be changed to 'lbfgs' in 0.22. Specify a solver to silence this warning.\n",
      "  FutureWarning)\n"
     ]
    }
   ],
   "source": [
    "logit3 = LogisticRegression(C=0.04, penalty='l2')\n",
    "logit3.fit(X1_train1_scaled, y1_train1_resampled)\n",
    "logit3.score(X1_val1_scaled, y1_val1)\n",
    "logit3.intercept_\n",
    "logit3_coefs = list(zip(X1_train1.columns, logit3.coef_[0]))"
   ]
  },
  {
   "cell_type": "code",
   "execution_count": 166,
   "metadata": {},
   "outputs": [
    {
     "data": {
      "text/plain": [
       "[('module_GGG', -0.5056561145069022),\n",
       " ('num_TMA_assess', -0.35701932048722906),\n",
       " ('module_DDD', 0.31551313960488714),\n",
       " ('course_length', 0.2993706722640403),\n",
       " ('edu_code', -0.20618646194392273),\n",
       " ('module_EEE', -0.20298095635850638),\n",
       " ('module_month_Oct', -0.19191221058532346),\n",
       " ('module_month_Feb', 0.19191221058532273),\n",
       " ('studied_credits', 0.1729040562609639),\n",
       " ('disability', 0.17185750913517797),\n",
       " ('module_CCC', 0.1459011866473646),\n",
       " ('num_Exams', 0.1459011866473646),\n",
       " ('late_assess_submission', -0.10628425799307659),\n",
       " ('gender', 0.10445503727729985),\n",
       " ('num_CMA_assess', 0.07751605372894066),\n",
       " ('num_of_prev_attempts', 0.060740003712862214),\n",
       " ('region_Ireland', -0.050891335935021334),\n",
       " ('age_code', 0.0461101808324205),\n",
       " ('module_AAA', -0.04532148483937548),\n",
       " ('date_registered', 0.04475039752509623),\n",
       " ('late_registration', -0.04389944291215124),\n",
       " ('region_East_Anglia', -0.03438446197701095),\n",
       " ('region_West_Midlands', 0.027275163907060928),\n",
       " ('region_North', -0.02553093419449118),\n",
       " ('region_London', -0.02244647507820889),\n",
       " ('region_East_Midlands', 0.022259021663650538),\n",
       " ('module_year', 0.019971947731063453),\n",
       " ('region_North_West', 0.019758581845861396),\n",
       " ('region_Wales', 0.019668965906573042),\n",
       " ('module_FFF', -0.01859426032112358),\n",
       " ('region_Scotland', 0.015416746656055523),\n",
       " ('region_South_East', 0.010314107081485224),\n",
       " ('region_Yorkshire', 0.007855201924744707),\n",
       " ('region_South', -0.005651019128703504),\n",
       " ('student_id', -0.004392122834166992),\n",
       " ('region_South_West', 0.002545101123554148),\n",
       " ('module_BBB', -0.00023588851074747032)]"
      ]
     },
     "execution_count": 166,
     "metadata": {},
     "output_type": "execute_result"
    }
   ],
   "source": [
    "sorted(logit3_coefs, key=lambda tup: abs(tup[1]), reverse=True)"
   ]
  },
  {
   "cell_type": "code",
   "execution_count": 167,
   "metadata": {},
   "outputs": [],
   "source": [
    "logit3_coefdict = dict(logit3_coefs)"
   ]
  },
  {
   "cell_type": "code",
   "execution_count": 168,
   "metadata": {},
   "outputs": [
    {
     "name": "stdout",
     "output_type": "stream",
     "text": [
      "Accuracy: 0.629\n",
      "Logit Model Train recall score: 0.622784150156413\n",
      "Logit Model Train precision score: 0.6362748579545454\n",
      "Logit Model Train F1 score: 0.6294572281749518\n",
      "Logit Model Validation recall score: 0.5632333767926988\n",
      "Logit Model Validation precision score: 0.23749312809235845\n",
      "Logit Model Validation F1 score: 0.33410672853828305\n"
     ]
    },
    {
     "data": {
      "image/png": "[encoded data removed]",
      "text/plain": [
       "<Figure size 900x600 with 2 Axes>"
      ]
     },
     "metadata": {
      "needs_background": "light"
     },
     "output_type": "display_data"
    }
   ],
   "source": [
    "logit3_pred_train = logit3.predict(X1_train1_scaled)\n",
    "logit3_pred_val = logit3.predict(X1_val1_scaled)\n",
    "logit3_accuracy_val = accuracy_score(y1_val1, logit3_pred_val)\n",
    "logit3_recall_train = recall_score(y1_train1_resampled, logit3_pred_train)\n",
    "logit3_precision_train = precision_score(y1_train1_resampled, logit3_pred_train)\n",
    "logit3_f1_train = f1_score(y1_train1_resampled, logit3_pred_train)\n",
    "logit3_recall_val = recall_score(y1_val1, logit3_pred_val)\n",
    "logit3_precision_val = precision_score(y1_val1, logit3_pred_val)\n",
    "logit3_f1_val = f1_score(y1_val1, logit3_pred_val)\n",
    "print(\"Accuracy: %.3f\"% logit3_accuracy_val)\n",
    "print('Logit Model Train recall score: {}'.format(logit3_recall_train))\n",
    "print('Logit Model Train precision score: {}'.format(logit3_precision_train))\n",
    "print('Logit Model Train F1 score: {}'.format(logit3_f1_train))\n",
    "print('Logit Model Validation recall score: {}'.format(logit3_recall_val))\n",
    "print('Logit Model Validation precision score: {}'.format(logit3_precision_val))\n",
    "print('Logit Model Validation F1 score: {}'.format(logit3_f1_val))\n",
    "\n",
    "\n",
    "logit_confusion = confusion_matrix(y1_val1, logit3.predict(X1_val1_scaled))\n",
    "plt.figure(dpi=150)\n",
    "sns.heatmap(logit_confusion, cmap=plt.cm.Blues, annot=True, square=True, fmt='g')\n",
    "plt.xlabel('Predicted withdrawn students')\n",
    "plt.ylabel('Actual withdrawn students')\n",
    "plt.title('Logistic Regression confusion matrix');"
   ]
  },
  {
   "cell_type": "code",
   "execution_count": 275,
   "metadata": {},
   "outputs": [],
   "source": [
    "logit_model = {'model': 'logistic regression', \n",
    "               'data': 'all',\n",
    "               'C': 0.04,\n",
    "               'Regularization': 'L2',\n",
    "               'Validation Accuracy': logit3_accuracy_val, \n",
    "               'Validation Recall': logit3_recall_val,\n",
    "               'Validation Precision': logit3_precision_val,\n",
    "               'Validation F1': logit3_f1_val,\n",
    "               'true_neg': 2491,\n",
    "               'true_pos': 432,\n",
    "               'false_pos': 1387,\n",
    "               'false_neg': 335}\n",
    "logit_model.update(logit3_coefdict)\n",
    "models.append(logit_model)"
   ]
  },
  {
   "cell_type": "code",
   "execution_count": 252,
   "metadata": {},
   "outputs": [
    {
     "data": {
      "text/plain": [
       "[{'model': 'knn',\n",
       "  'data': 'all',\n",
       "  'neighbors': 13,\n",
       "  'Validation Accuracy': 0.5629709364908504,\n",
       "  'Validation Recall': 0.4915254237288136,\n",
       "  'Validation Precision': 0.18691125433812594,\n",
       "  'Validation F1': 0.2708333333333333},\n",
       " {'model': 'logistic regression',\n",
       "  'data': 'all',\n",
       "  'C': 0.04,\n",
       "  'Regularization': 'L2',\n",
       "  'Validation Accuracy': 0.6292787944025834,\n",
       "  'Validation Recall': 0.5632333767926988,\n",
       "  'Validation Precision': 0.23749312809235845,\n",
       "  'Validation F1': 0.33410672853828305,\n",
       "  'student_id': -0.004392122834166992,\n",
       "  'date_registered': 0.04475039752509623,\n",
       "  'course_length': 0.2993706722640403,\n",
       "  'gender': 0.10445503727729985,\n",
       "  'num_of_prev_attempts': 0.060740003712862214,\n",
       "  'studied_credits': 0.1729040562609639,\n",
       "  'disability': 0.17185750913517797,\n",
       "  'late_registration': -0.04389944291215124,\n",
       "  'late_assess_submission': -0.10628425799307659,\n",
       "  'module_year': 0.019971947731063453,\n",
       "  'age_code': 0.0461101808324205,\n",
       "  'edu_code': -0.20618646194392273,\n",
       "  'module_AAA': -0.04532148483937548,\n",
       "  'module_BBB': -0.00023588851074747032,\n",
       "  'module_CCC': 0.1459011866473646,\n",
       "  'module_DDD': 0.31551313960488714,\n",
       "  'module_EEE': -0.20298095635850638,\n",
       "  'module_FFF': -0.01859426032112358,\n",
       "  'module_GGG': -0.5056561145069022,\n",
       "  'module_month_Feb': 0.19191221058532273,\n",
       "  'module_month_Oct': -0.19191221058532346,\n",
       "  'region_East_Anglia': -0.03438446197701095,\n",
       "  'region_East_Midlands': 0.022259021663650538,\n",
       "  'region_Ireland': -0.050891335935021334,\n",
       "  'region_London': -0.02244647507820889,\n",
       "  'region_North': -0.02553093419449118,\n",
       "  'region_North_West': 0.019758581845861396,\n",
       "  'region_Scotland': 0.015416746656055523,\n",
       "  'region_South_East': 0.010314107081485224,\n",
       "  'region_South': -0.005651019128703504,\n",
       "  'region_South_West': 0.002545101123554148,\n",
       "  'region_Wales': 0.019668965906573042,\n",
       "  'region_West_Midlands': 0.027275163907060928,\n",
       "  'region_Yorkshire': 0.007855201924744707,\n",
       "  'num_CMA_assess': 0.07751605372894066,\n",
       "  'num_Exams': 0.1459011866473646,\n",
       "  'num_TMA_assess': -0.35701932048722906}]"
      ]
     },
     "execution_count": 252,
     "metadata": {},
     "output_type": "execute_result"
    }
   ],
   "source": [
    "models"
   ]
  },
  {
   "cell_type": "code",
   "execution_count": 34,
   "metadata": {},
   "outputs": [],
   "source": [
    "# model_val_probs = logit3.predict_proba(X1_val1_scaled)[:,1]\n",
    "\n",
    "\n",
    "# thresh_ps = np.linspace(.10,1,2000)\n",
    "\n",
    "# f_scores = []\n",
    "# precision_scores = []\n",
    "# recall_scores = []\n",
    "\n",
    "# for p in thresh_ps:\n",
    "#     model_val_labels = model_val_probs >= p\n",
    "#     f_scores.append(f1_score(y1_val1, model_val_labels))\n",
    "#     precision_scores.append(precision_score(y1_val1, model_val_labels))\n",
    "#     recall_scores.append(recall_score(y1_val1, model_val_labels))\n",
    "\n",
    "# best_f_logit = np.max(f_scores) \n",
    "# best_p_logit = thresh_ps[np.argmax(f_scores)].round(2)\n",
    "\n",
    "# plt.figure(figsize=(12,6))\n",
    "\n",
    "# plt.subplot(1, 2, 1)\n",
    "# plt.plot(thresh_ps, f_scores)\n",
    "# plt.title('Score vs Probability Threshold\\nModel = Logistic Regression \\nBest F1 score %.4f at p = %.2f' %\n",
    "#           (best_f_logit, best_p_logit))\n",
    "# plt.xlabel('P threshold')\n",
    "# plt.ylabel('F1 score');\n",
    "\n",
    "# plt.subplot(1, 2, 2)\n",
    "# plt.plot(thresh_ps, precision_scores,label='Precision')\n",
    "# plt.plot(thresh_ps, recall_scores, label='Recall')\n",
    "# plt.legend(loc='upper right')\n",
    "# plt.title('Precision and Recall Curves\\nModel = Logistic Regression \\nBest F1 score %.4f at p = %.2f' % \n",
    "#           (best_f_logit, best_p_logit))\n",
    "# plt.xlabel('P Threshold')\n",
    "# plt.ylabel('Score (Precision and Recall)');"
   ]
  },
  {
   "cell_type": "code",
   "execution_count": 35,
   "metadata": {},
   "outputs": [],
   "source": [
    "# print(np.max(precision_scores))\n",
    "# print(thresh_ps[np.argmax(precision_scores)].round(2))"
   ]
  },
  {
   "cell_type": "markdown",
   "metadata": {},
   "source": [
    "### Naive Bayes model:"
   ]
  },
  {
   "cell_type": "code",
   "execution_count": null,
   "metadata": {},
   "outputs": [],
   "source": [
    "NB = naive_bayes.GaussianNB()\n",
    "NB.fit(X1_train1_resampled, y1_train1_resampled)\n",
    "NB_pred_train = knn1.predict(X1_train1_resampled)\n",
    "NB_pred_val = knn1.predict(X1_val1)\n",
    "NB_recall_train = recall_score(y1_train1_resampled, NB_pred_train)\n",
    "NB_f1_train = f1_score(y1_train1_resampled, NB_pred_train)\n",
    "NB_recall_val = recall_score(y1_val1, NB_pred_val)\n",
    "NB_f1_val = f1_score(y1_val1, NB_pred_val)\n",
    "print(\"Accuracy: %.3f\"% accuracy_score(y1_val1, NB_pred_val))\n",
    "print('Train recall score: {}'.format(NB_recall_train))\n",
    "print('Train F1 score: {}'.format(NB_f1_train))\n",
    "print('Validation recall score: {}'.format(NB_recall_val))\n",
    "print('Validation F1 score: {}'.format(NB_f1_val))"
   ]
  },
  {
   "cell_type": "markdown",
   "metadata": {},
   "source": [
    "### Decision Tree Classifier model:"
   ]
  },
  {
   "cell_type": "code",
   "execution_count": 36,
   "metadata": {},
   "outputs": [
    {
     "name": "stdout",
     "output_type": "stream",
     "text": [
      "{'criterion': 'gini', 'min_samples_leaf': 10, 'min_samples_split': 10}\n"
     ]
    }
   ],
   "source": [
    "dt_grid_param = {\n",
    "    'criterion': ['entropy', 'gini'],\n",
    "    'min_samples_split': list(range(10, 151, 15)),\n",
    "    'min_samples_leaf': list(range(10, 151, 15))\n",
    "}\n",
    "\n",
    "DTClf = DecisionTreeClassifier()\n",
    "dt_gd_sr = GridSearchCV(estimator=DTClf,\n",
    "                     param_grid=dt_grid_param,\n",
    "                     scoring=['accuracy','precision', 'recall', 'f1'],\n",
    "                     cv=5,\n",
    "                     refit = 'f1',\n",
    "                     n_jobs=-1)\n",
    "# Logistic_CV = pd.DataFrame(cross_validate(LogisticRegression(C=0.1, penalty='l1'), X1_train1_scaled, y1_train1_resampled, cv = 3, return_train_score=True, scoring = ['accuracy', 'precision', 'recall', 'f1']))\n",
    "# Logistic_CV.mean()\n",
    "dt_gd_sr.fit(X1_val1, y1_val1)\n",
    "best_parameters = dt_gd_sr.best_params_\n",
    "print(best_parameters)"
   ]
  },
  {
   "cell_type": "code",
   "execution_count": 170,
   "metadata": {},
   "outputs": [
    {
     "name": "stdout",
     "output_type": "stream",
     "text": [
      "DT Model Accuracy: 0.607\n",
      "DT Model Train recall score: 0.720281543274244\n",
      "DT Model Train precision score: 0.6725900681596884\n",
      "DT Model Train F1 score: 0.695619335347432\n",
      "DT Model Validation recall score: 0.5684485006518905\n",
      "DT Model Train precision score: 0.6725900681596884\n",
      "DT Model Validation F1 score: 0.32344213649851633\n"
     ]
    },
    {
     "data": {
      "image/png": "[encoded data removed]",
      "text/plain": [
       "<Figure size 900x600 with 2 Axes>"
      ]
     },
     "metadata": {
      "needs_background": "light"
     },
     "output_type": "display_data"
    }
   ],
   "source": [
    "DTClf = DecisionTreeClassifier(criterion = 'entropy', min_samples_split=10, min_samples_leaf=100)\n",
    "DTClf.fit(X1_train1_resampled, y1_train1_resampled)\n",
    "DTClf_pred_train = DTClf.predict(X1_train1_resampled)\n",
    "DTClf_pred_val = DTClf.predict(X1_val1)\n",
    "DTClf_accuracy_val = accuracy_score(y1_val1, DTClf_pred_val)\n",
    "DTClf_recall_train = recall_score(y1_train1_resampled, DTClf_pred_train)\n",
    "DTClf_precision_train = precision_score(y1_train1_resampled, DTClf_pred_train)\n",
    "DTClf_f1_train = f1_score(y1_train1_resampled, DTClf_pred_train)\n",
    "DTClf_recall_val = recall_score(y1_val1, DTClf_pred_val)\n",
    "DTClf_precision_val = precision_score(y1_val1, DTClf_pred_val)\n",
    "DTClf_f1_val = f1_score(y1_val1, DTClf_pred_val)\n",
    "print(\"DT Model Accuracy: %.3f\"% DTClf_accuracy_val)\n",
    "print('DT Model Train recall score: {}'.format(DTClf_recall_train))\n",
    "print('DT Model Train precision score: {}'.format(DTClf_precision_train))\n",
    "print('DT Model Train F1 score: {}'.format(DTClf_f1_train))\n",
    "print('DT Model Validation recall score: {}'.format(DTClf_recall_val))\n",
    "print('DT Model Validation precision score: {}'.format(DTClf_precision_val))\n",
    "print('DT Model Validation F1 score: {}'.format(DTClf_f1_val))\n",
    "\n",
    "DTClf_confusion = confusion_matrix(y1_val1, DTClf.predict(X1_val1))\n",
    "plt.figure(dpi=150)\n",
    "sns.heatmap(DTClf_confusion, cmap=plt.cm.Blues, annot=True, square=True, fmt='g')\n",
    "\n",
    "plt.xlabel('Predicted withdrawn students')\n",
    "plt.ylabel('Actual withdrawn students')\n",
    "plt.title('Decision Tree Classifier confusion matrix');"
   ]
  },
  {
   "cell_type": "code",
   "execution_count": 171,
   "metadata": {},
   "outputs": [],
   "source": [
    "DTCLf_coefs = list(zip(X1_train1.columns, DTClf.feature_importances_))"
   ]
  },
  {
   "cell_type": "code",
   "execution_count": 172,
   "metadata": {},
   "outputs": [
    {
     "data": {
      "text/plain": [
       "[('module_CCC', 0.18883936861142703),\n",
       " ('student_id', 0.169894069339873),\n",
       " ('num_TMA_assess', 0.14575387060330813),\n",
       " ('date_registered', 0.13944653674279345),\n",
       " ('studied_credits', 0.0664303433439768),\n",
       " ('edu_code', 0.05936457863285429),\n",
       " ('disability', 0.04949866824010368),\n",
       " ('late_assess_submission', 0.03332657543488341),\n",
       " ('age_code', 0.025101025981749164),\n",
       " ('module_BBB', 0.0234934690613889),\n",
       " ('module_DDD', 0.021528697735003138),\n",
       " ('course_length', 0.021364101722108838),\n",
       " ('module_month_Feb', 0.011651658336289717),\n",
       " ('gender', 0.008973180834121354),\n",
       " ('region_South', 0.00847761547654832),\n",
       " ('region_North', 0.007588850915351417),\n",
       " ('num_CMA_assess', 0.007030855857242814),\n",
       " ('module_month_Oct', 0.004790282144049382),\n",
       " ('module_year', 0.0031159179056889086),\n",
       " ('region_North_West', 0.0021799361401838514),\n",
       " ('region_West_Midlands', 0.002150396941054468),\n",
       " ('num_of_prev_attempts', 0.0),\n",
       " ('late_registration', 0.0),\n",
       " ('module_AAA', 0.0),\n",
       " ('module_EEE', 0.0),\n",
       " ('module_FFF', 0.0),\n",
       " ('module_GGG', 0.0),\n",
       " ('region_East_Anglia', 0.0),\n",
       " ('region_East_Midlands', 0.0),\n",
       " ('region_Ireland', 0.0),\n",
       " ('region_London', 0.0),\n",
       " ('region_Scotland', 0.0),\n",
       " ('region_South_East', 0.0),\n",
       " ('region_South_West', 0.0),\n",
       " ('region_Wales', 0.0),\n",
       " ('region_Yorkshire', 0.0),\n",
       " ('num_Exams', 0.0)]"
      ]
     },
     "execution_count": 172,
     "metadata": {},
     "output_type": "execute_result"
    }
   ],
   "source": [
    "sorted(DTCLf_coefs, key=lambda tup: abs(tup[1]), reverse=True)"
   ]
  },
  {
   "cell_type": "code",
   "execution_count": 173,
   "metadata": {},
   "outputs": [],
   "source": [
    "DTC_coefdict = dict(DTCLf_coefs)"
   ]
  },
  {
   "cell_type": "code",
   "execution_count": 276,
   "metadata": {},
   "outputs": [],
   "source": [
    "DTC_model = {'model': 'decision tree', \n",
    "               'data': 'all',\n",
    "               'criterion' : 'entropy', \n",
    "               'min_samples_split' : 10, \n",
    "               'min_samples_leaf' : 100,\n",
    "               'Validation Accuracy': DTClf_accuracy_val, \n",
    "               'Validation Recall': DTClf_recall_val,\n",
    "               'Validation Precision': DTClf_precision_val,\n",
    "               'Validation F1': DTClf_f1_val,\n",
    "               'true_neg': 2385,\n",
    "               'true_pos': 436,\n",
    "               'false_pos': 1493,\n",
    "               'false_neg': 331}\n",
    "DTC_model.update(DTC_coefdict)\n",
    "models.append(DTC_model)"
   ]
  },
  {
   "cell_type": "code",
   "execution_count": 254,
   "metadata": {},
   "outputs": [
    {
     "data": {
      "text/plain": [
       "[{'model': 'knn',\n",
       "  'data': 'all',\n",
       "  'neighbors': 13,\n",
       "  'Validation Accuracy': 0.5629709364908504,\n",
       "  'Validation Recall': 0.4915254237288136,\n",
       "  'Validation Precision': 0.18691125433812594,\n",
       "  'Validation F1': 0.2708333333333333},\n",
       " {'model': 'logistic regression',\n",
       "  'data': 'all',\n",
       "  'C': 0.04,\n",
       "  'Regularization': 'L2',\n",
       "  'Validation Accuracy': 0.6292787944025834,\n",
       "  'Validation Recall': 0.5632333767926988,\n",
       "  'Validation Precision': 0.23749312809235845,\n",
       "  'Validation F1': 0.33410672853828305,\n",
       "  'student_id': -0.004392122834166992,\n",
       "  'date_registered': 0.04475039752509623,\n",
       "  'course_length': 0.2993706722640403,\n",
       "  'gender': 0.10445503727729985,\n",
       "  'num_of_prev_attempts': 0.060740003712862214,\n",
       "  'studied_credits': 0.1729040562609639,\n",
       "  'disability': 0.17185750913517797,\n",
       "  'late_registration': -0.04389944291215124,\n",
       "  'late_assess_submission': -0.10628425799307659,\n",
       "  'module_year': 0.019971947731063453,\n",
       "  'age_code': 0.0461101808324205,\n",
       "  'edu_code': -0.20618646194392273,\n",
       "  'module_AAA': -0.04532148483937548,\n",
       "  'module_BBB': -0.00023588851074747032,\n",
       "  'module_CCC': 0.1459011866473646,\n",
       "  'module_DDD': 0.31551313960488714,\n",
       "  'module_EEE': -0.20298095635850638,\n",
       "  'module_FFF': -0.01859426032112358,\n",
       "  'module_GGG': -0.5056561145069022,\n",
       "  'module_month_Feb': 0.19191221058532273,\n",
       "  'module_month_Oct': -0.19191221058532346,\n",
       "  'region_East_Anglia': -0.03438446197701095,\n",
       "  'region_East_Midlands': 0.022259021663650538,\n",
       "  'region_Ireland': -0.050891335935021334,\n",
       "  'region_London': -0.02244647507820889,\n",
       "  'region_North': -0.02553093419449118,\n",
       "  'region_North_West': 0.019758581845861396,\n",
       "  'region_Scotland': 0.015416746656055523,\n",
       "  'region_South_East': 0.010314107081485224,\n",
       "  'region_South': -0.005651019128703504,\n",
       "  'region_South_West': 0.002545101123554148,\n",
       "  'region_Wales': 0.019668965906573042,\n",
       "  'region_West_Midlands': 0.027275163907060928,\n",
       "  'region_Yorkshire': 0.007855201924744707,\n",
       "  'num_CMA_assess': 0.07751605372894066,\n",
       "  'num_Exams': 0.1459011866473646,\n",
       "  'num_TMA_assess': -0.35701932048722906},\n",
       " {'model': 'decision tree',\n",
       "  'data': 'all',\n",
       "  'criterion': 'entropy',\n",
       "  'min_samples_split': 10,\n",
       "  'min_samples_leaf': 100,\n",
       "  'Validation Accuracy': 0.6073196986006458,\n",
       "  'Validation Recall': 0.5684485006518905,\n",
       "  'Validation Precision': 0.22602384655261792,\n",
       "  'Validation F1': 0.32344213649851633,\n",
       "  'student_id': 0.169894069339873,\n",
       "  'date_registered': 0.13944653674279345,\n",
       "  'course_length': 0.021364101722108838,\n",
       "  'gender': 0.008973180834121354,\n",
       "  'num_of_prev_attempts': 0.0,\n",
       "  'studied_credits': 0.0664303433439768,\n",
       "  'disability': 0.04949866824010368,\n",
       "  'late_registration': 0.0,\n",
       "  'late_assess_submission': 0.03332657543488341,\n",
       "  'module_year': 0.0031159179056889086,\n",
       "  'age_code': 0.025101025981749164,\n",
       "  'edu_code': 0.05936457863285429,\n",
       "  'module_AAA': 0.0,\n",
       "  'module_BBB': 0.0234934690613889,\n",
       "  'module_CCC': 0.18883936861142703,\n",
       "  'module_DDD': 0.021528697735003138,\n",
       "  'module_EEE': 0.0,\n",
       "  'module_FFF': 0.0,\n",
       "  'module_GGG': 0.0,\n",
       "  'module_month_Feb': 0.011651658336289717,\n",
       "  'module_month_Oct': 0.004790282144049382,\n",
       "  'region_East_Anglia': 0.0,\n",
       "  'region_East_Midlands': 0.0,\n",
       "  'region_Ireland': 0.0,\n",
       "  'region_London': 0.0,\n",
       "  'region_North': 0.007588850915351417,\n",
       "  'region_North_West': 0.0021799361401838514,\n",
       "  'region_Scotland': 0.0,\n",
       "  'region_South_East': 0.0,\n",
       "  'region_South': 0.00847761547654832,\n",
       "  'region_South_West': 0.0,\n",
       "  'region_Wales': 0.0,\n",
       "  'region_West_Midlands': 0.002150396941054468,\n",
       "  'region_Yorkshire': 0.0,\n",
       "  'num_CMA_assess': 0.007030855857242814,\n",
       "  'num_Exams': 0.0,\n",
       "  'num_TMA_assess': 0.14575387060330813}]"
      ]
     },
     "execution_count": 254,
     "metadata": {},
     "output_type": "execute_result"
    }
   ],
   "source": [
    "models"
   ]
  },
  {
   "cell_type": "code",
   "execution_count": 40,
   "metadata": {},
   "outputs": [],
   "source": [
    "# model_val_probs = DTClf.predict_proba(X1_val1)[:,1]\n",
    "\n",
    "\n",
    "# thresh_ps = np.linspace(.10,1,2000)\n",
    "\n",
    "# f_scores = []\n",
    "# precision_scores = []\n",
    "# recall_scores = []\n",
    "\n",
    "# for p in thresh_ps:\n",
    "#     model_val_labels = model_val_probs >= p\n",
    "#     f_scores.append(f1_score(y1_val1, model_val_labels))\n",
    "#     precision_scores.append(precision_score(y1_val1, model_val_labels))\n",
    "#     recall_scores.append(recall_score(y1_val1, model_val_labels))\n",
    "\n",
    "# best_f_dt = np.max(f_scores) \n",
    "# best_p_dt = thresh_ps[np.argmax(f_scores)].round(2)\n",
    "\n",
    "# plt.figure(figsize=(12,6))\n",
    "\n",
    "# plt.subplot(1, 2, 1)\n",
    "# plt.plot(thresh_ps, f_scores)\n",
    "# plt.title('Score vs Probability Threshold\\nModel = Decision Tree \\nBest F1 score %.4f at p = %.2f' %\n",
    "#           (best_f_dt, best_p_dt))\n",
    "# plt.xlabel('P threshold')\n",
    "# plt.ylabel('F1 score');\n",
    "\n",
    "# plt.subplot(1, 2, 2)\n",
    "# plt.plot(thresh_ps, precision_scores,label='Precision')\n",
    "# plt.plot(thresh_ps, recall_scores, label='Recall')\n",
    "# plt.legend(loc='upper right')\n",
    "# plt.title('Precision and Recall Curves\\nModel = Decision Tree \\nBest F1 score %.4f at p = %.2f' % \n",
    "#           (best_f_dt, best_p_dt))\n",
    "# plt.xlabel('P Threshold')\n",
    "# plt.ylabel('Score (Precision and Recall)');"
   ]
  },
  {
   "cell_type": "code",
   "execution_count": 41,
   "metadata": {},
   "outputs": [],
   "source": [
    "# print(np.max(precision_scores))\n",
    "# print(thresh_ps[np.argmax(precision_scores)].round(2))"
   ]
  },
  {
   "cell_type": "code",
   "execution_count": null,
   "metadata": {},
   "outputs": [],
   "source": [
    "# DTClf_pred_train2 = (DTClf.predict_proba(X1_train1_resampled)[:,1]>= 0.5)\n",
    "# DTClf_pred_val2 = (DTClf.predict_proba(X1_val1)[:,1]>= 0.5)\n",
    "# DTClf_recall_train2 = recall_score(y1_train1_resampled, DTClf_pred_train2)\n",
    "# DTClf_f1_train2 = f1_score(y1_train1_resampled, DTClf_pred_train2)\n",
    "# DTClf_recall_val2 = recall_score(y1_val1, DTClf_pred_val2)\n",
    "# DTClf_f1_val2 = f1_score(y1_val1, DTClf_pred_val2)\n",
    "# print(\"Accuracy: %.3f\"% accuracy_score(y1_val1, DTClf_pred_val2))\n",
    "# print('Train recall score: {}'.format(DTClf_recall_train2))\n",
    "# print('Train F1 score: {}'.format(DTClf_f1_train2))\n",
    "# print('Validation recall score: {}'.format(DTClf_recall_val2))\n",
    "# print('Validation F1 score: {}'.format(DTClf_f1_val2))\n",
    "\n",
    "# DTClf_confusion = confusion_matrix(y1_val1, DTClf_pred_val2)\n",
    "# plt.figure(dpi=150)\n",
    "# sns.heatmap(DTClf_confusion, cmap=plt.cm.Blues, annot=True, square=True, fmt='g')\n",
    "\n",
    "# plt.xlabel('Predicted withdrawn students')\n",
    "# plt.ylabel('Actual withdrawn students')\n",
    "# plt.title('Decision Tree Classifier confusion matrix');"
   ]
  },
  {
   "cell_type": "markdown",
   "metadata": {},
   "source": [
    "### Random Forest Classifier model:"
   ]
  },
  {
   "cell_type": "code",
   "execution_count": 42,
   "metadata": {},
   "outputs": [
    {
     "name": "stdout",
     "output_type": "stream",
     "text": [
      "{'min_samples_leaf': 10, 'min_samples_split': 10, 'n_estimators': 10}\n"
     ]
    },
    {
     "name": "stderr",
     "output_type": "stream",
     "text": [
      "/Users/Valentina/anaconda3/lib/python3.7/site-packages/sklearn/model_selection/_search.py:841: DeprecationWarning: The default of the `iid` parameter will change from True to False in version 0.22 and will be removed in 0.24. This will change numeric results when test-set sizes are unequal.\n",
      "  DeprecationWarning)\n"
     ]
    }
   ],
   "source": [
    "rf_grid_param = {\n",
    "    'n_estimators': list(range(10, 1000, 100)),\n",
    "    'min_samples_split': list(range(10, 151, 15)),\n",
    "    'min_samples_leaf': list(range(10, 151, 15))\n",
    "}\n",
    "\n",
    "RFClf = RandomForestClassifier()\n",
    "rf_gd_sr = GridSearchCV(estimator=RFClf,\n",
    "                     param_grid=rf_grid_param,\n",
    "                     scoring=['accuracy','precision', 'recall', 'f1'],\n",
    "                     cv=5,\n",
    "                     refit = 'f1',\n",
    "                     n_jobs=-1)\n",
    "# Logistic_CV = pd.DataFrame(cross_validate(LogisticRegression(C=0.1, penalty='l1'), X1_train1_scaled, y1_train1_resampled, cv = 3, return_train_score=True, scoring = ['accuracy', 'precision', 'recall', 'f1']))\n",
    "# Logistic_CV.mean()\n",
    "rf_gd_sr.fit(X1_val1, y1_val1)\n",
    "best_parameters = rf_gd_sr.best_params_\n",
    "print(best_parameters)"
   ]
  },
  {
   "cell_type": "code",
   "execution_count": 175,
   "metadata": {},
   "outputs": [
    {
     "name": "stdout",
     "output_type": "stream",
     "text": [
      "RF Model Accuracy: 0.649\n",
      "RF Model Train recall score: 0.6831769204031978\n",
      "RF Model Train precision score: 0.6871176367767873\n",
      "RF Model Train F1 score: 0.6851416122004357\n",
      "RF Model Validation recall score: 0.5488917861799217\n",
      "RF Model Train precision score: 0.6871176367767873\n",
      "RF Model Validation F1 score: 0.3407527316875759\n"
     ]
    },
    {
     "data": {
      "text/plain": [
       "Text(0.5, 1.0, 'Random Forest Classifier confusion matrix')"
      ]
     },
     "execution_count": 175,
     "metadata": {},
     "output_type": "execute_result"
    },
    {
     "data": {
      "image/png": "[encoded data removed]",
      "text/plain": [
       "<Figure size 900x600 with 2 Axes>"
      ]
     },
     "metadata": {
      "needs_background": "light"
     },
     "output_type": "display_data"
    }
   ],
   "source": [
    "RFClf2 = RandomForestClassifier(n_estimators = 200, min_samples_split=10, min_samples_leaf=70)\n",
    "RFClf2.fit(X1_train1_resampled, y1_train1_resampled)\n",
    "RFClf_pred_train2 = RFClf2.predict(X1_train1_resampled)\n",
    "RFClf_pred_val2 = RFClf2.predict(X1_val1)\n",
    "RFClf_accuracy_val = accuracy_score(y1_val1, RFClf_pred_val2)\n",
    "RFClf_recall_train = recall_score(y1_train1_resampled, RFClf_pred_train2)\n",
    "RFClf_precision_train = precision_score(y1_train1_resampled, RFClf_pred_train2)\n",
    "RFClf_f1_train = f1_score(y1_train1_resampled, RFClf_pred_train2)\n",
    "RFClf_recall_val = recall_score(y1_val1, RFClf_pred_val2)\n",
    "RFClf_precision_val = precision_score(y1_val1, RFClf_pred_val2)\n",
    "RFClf_f1_val = f1_score(y1_val1, RFClf_pred_val2)\n",
    "print(\"RF Model Accuracy: %.3f\"% RFClf_accuracy_val)\n",
    "print('RF Model Train recall score: {}'.format(RFClf_recall_train))\n",
    "print('RF Model Train precision score: {}'.format(RFClf_precision_train))\n",
    "print('RF Model Train F1 score: {}'.format(RFClf_f1_train))\n",
    "print('RF Model Validation recall score: {}'.format(RFClf_recall_val))\n",
    "print('RF Model Validation precision score: {}'.format(RFClf_precision_val))\n",
    "print('RF Model Validation F1 score: {}'.format(RFClf_f1_val))\n",
    "\n",
    "RFClf_confusion = confusion_matrix(y1_val1, RFClf2.predict(X1_val1))\n",
    "plt.figure(dpi=150)\n",
    "sns.heatmap(RFClf_confusion, cmap=plt.cm.Blues, annot=True, square=True, fmt='g')\n",
    "\n",
    "plt.xlabel('Predicted withdrawn students')\n",
    "plt.ylabel('Actual withdrawn students')\n",
    "plt.title('Random Forest Classifier confusion matrix')"
   ]
  },
  {
   "cell_type": "code",
   "execution_count": 176,
   "metadata": {},
   "outputs": [],
   "source": [
    "RFClf_coefs = list(zip(X1_train1.columns, RFClf2.feature_importances_))"
   ]
  },
  {
   "cell_type": "code",
   "execution_count": 177,
   "metadata": {},
   "outputs": [
    {
     "data": {
      "text/plain": [
       "[('num_Exams', 0.10576264761978496),\n",
       " ('num_TMA_assess', 0.10357301735299367),\n",
       " ('module_CCC', 0.09856770679709297),\n",
       " ('studied_credits', 0.07687544327080584),\n",
       " ('student_id', 0.07543955850206116),\n",
       " ('date_registered', 0.06408273135985193),\n",
       " ('edu_code', 0.06402948923646125),\n",
       " ('num_CMA_assess', 0.052057799753646966),\n",
       " ('module_GGG', 0.04822174235873258),\n",
       " ('disability', 0.04189695020707714),\n",
       " ('late_assess_submission', 0.03753725254259285),\n",
       " ('module_EEE', 0.032150196571727914),\n",
       " ('module_DDD', 0.03027617748274742),\n",
       " ('course_length', 0.030245647708353026),\n",
       " ('module_BBB', 0.024814048777975755),\n",
       " ('module_month_Oct', 0.014152241682694591),\n",
       " ('module_FFF', 0.013091503223448821),\n",
       " ('module_year', 0.01301680033282083),\n",
       " ('gender', 0.011551019303544715),\n",
       " ('module_month_Feb', 0.011136335461007176),\n",
       " ('age_code', 0.010900160545198127),\n",
       " ('num_of_prev_attempts', 0.009049947945639136),\n",
       " ('region_South', 0.0038997616354983777),\n",
       " ('region_East_Anglia', 0.003493317966362924),\n",
       " ('region_Ireland', 0.003240253115409226),\n",
       " ('region_Scotland', 0.002993425234443802),\n",
       " ('module_AAA', 0.0026881148583968147),\n",
       " ('region_East_Midlands', 0.002542476723747171),\n",
       " ('region_West_Midlands', 0.002118930868035823),\n",
       " ('region_London', 0.0019263723756680476),\n",
       " ('region_North_West', 0.0018843835283766832),\n",
       " ('region_Wales', 0.0015425948434325363),\n",
       " ('region_South_West', 0.0014543940830461712),\n",
       " ('region_South_East', 0.0014504986295700581),\n",
       " ('region_North', 0.0014493638392423288),\n",
       " ('region_Yorkshire', 0.0008876942625111941),\n",
       " ('late_registration', 0.0)]"
      ]
     },
     "execution_count": 177,
     "metadata": {},
     "output_type": "execute_result"
    }
   ],
   "source": [
    "sorted(RFClf_coefs, key=lambda tup: abs(tup[1]), reverse=True)"
   ]
  },
  {
   "cell_type": "code",
   "execution_count": 178,
   "metadata": {},
   "outputs": [],
   "source": [
    "RF_coefdict = dict(RFClf_coefs)"
   ]
  },
  {
   "cell_type": "code",
   "execution_count": 277,
   "metadata": {},
   "outputs": [],
   "source": [
    "RF_model = {'model': 'random forest', \n",
    "               'data': 'all',\n",
    "               'n_estimators' : 200, \n",
    "               'min_samples_split' : 10, \n",
    "               'min_samples_leaf' : 70,\n",
    "               'Validation Accuracy': RFClf_accuracy_val, \n",
    "               'Validation Recall': RFClf_recall_val,\n",
    "               'Validation Precision': RFClf_precision_val,\n",
    "               'Validation F1': RFClf_f1_val,\n",
    "               'true_neg': 2595,\n",
    "               'true_pos': 421,\n",
    "               'false_pos': 1283,\n",
    "               'false_neg': 346}\n",
    "RF_model.update(RF_coefdict)\n",
    "models.append(RF_model)"
   ]
  },
  {
   "cell_type": "code",
   "execution_count": null,
   "metadata": {},
   "outputs": [],
   "source": [
    "# model_val_probs = RFClf2.predict_proba(X1_val1)[:,1]\n",
    "\n",
    "\n",
    "# thresh_ps = np.linspace(.10,1,2000)\n",
    "\n",
    "# f_scores = []\n",
    "# precision_scores = []\n",
    "# recall_scores = []\n",
    "\n",
    "# for p in thresh_ps:\n",
    "#     model_val_labels = model_val_probs >= p\n",
    "#     f_scores.append(f1_score(y1_val1, model_val_labels))\n",
    "#     precision_scores.append(precision_score(y1_val1, model_val_labels))\n",
    "#     recall_scores.append(recall_score(y1_val1, model_val_labels))\n",
    "\n",
    "# best_f_rf = np.max(f_scores) \n",
    "# best_p_rf = thresh_ps[np.argmax(f_scores)].round(2)\n",
    "\n",
    "# plt.figure(figsize=(12,6))\n",
    "\n",
    "# plt.subplot(1, 2, 1)\n",
    "# plt.plot(thresh_ps, f_scores)\n",
    "# plt.title('Score vs Probability Threshold\\nModel = Random Forest \\nBest F1 score %.4f at p = %.2f' %\n",
    "#           (best_f_rf, best_p_rf))\n",
    "# plt.xlabel('P threshold')\n",
    "# plt.ylabel('F1 score');\n",
    "\n",
    "# plt.subplot(1, 2, 2)\n",
    "# plt.plot(thresh_ps, precision_scores,label='Precision')\n",
    "# plt.plot(thresh_ps, recall_scores, label='Recall')\n",
    "# plt.legend(loc='upper right')\n",
    "# plt.title('Precision and Recall Curves\\nModel = Random Forest \\nBest F1 score %.4f at p = %.2f' % \n",
    "#           (best_f_rf, best_p_rf))\n",
    "# plt.xlabel('P Threshold')\n",
    "# plt.ylabel('Score (Precision and Recall)');"
   ]
  },
  {
   "cell_type": "markdown",
   "metadata": {},
   "source": [
    "### Gradient-Boosted Tree Model:"
   ]
  },
  {
   "cell_type": "code",
   "execution_count": null,
   "metadata": {},
   "outputs": [],
   "source": [
    "XGBClf1 = xgb.XGBClassifier(n_estimators=1000, #arbitrary large number\n",
    "                       max_depth=3,\n",
    "                       objective=\"binary:logistic\",\n",
    "                       learning_rate=.2, \n",
    "                       subsample=0.2,\n",
    "                       min_child_weight=3,\n",
    "                       colsample_bytree=.8\n",
    "                      )\n",
    "\n",
    "eval_set=[(X1_train1_resampled, y1_train1_resampled),(X1_val1.values, y1_val1.values)] #tracking train/validation error as we go\n",
    "fit_model = XGBClf1.fit( \n",
    "                    X1_train1_resampled, y1_train1_resampled, \n",
    "                    eval_set=eval_set,\n",
    "                    eval_metric='rmse',\n",
    "                    early_stopping_rounds=10,\n",
    "                    verbose=True #gives output log as below\n",
    "                   )\n",
    "# XGBClf.fit(X1_tain1_resample, y1_train1_resample)\n",
    "XGBClf_pred_train1 = XGBCl1.predict(X1_train1_resampled)\n",
    "XGBClf_pred_val1 = XGBCl1.predict(X1_val1.values)\n",
    "XGBClf_recall_train1 = recall_score(y1_train1_resampled, XGBClf_pred_train1)\n",
    "XGBClf_f1_train1 = f1_score(y1_train1_resampled, XGBClf_pred_train1)\n",
    "XGBClf_recall_val1 = recall_score(y1_val1, XGBClf_pred_val1)\n",
    "XGBClf_f1_val1 = f1_score(y1_val1, XGBClf_pred_val1)\n",
    "print(\"Accuracy: %.3f\"% accuracy_score(y1_val1, XGBClf_pred_val1))\n",
    "print('Train recall score: {}'.format(XGBClf_recall_train1))\n",
    "print('Train F1 score: {}'.format(XGBClf_f1_train1))\n",
    "print('Validation recall score: {}'.format(XGBClf_recall_val1))\n",
    "print('Validation F1 score: {}'.format(XGBClf_f1_val1))\n",
    "\n",
    "XGBClf_confusion = confusion_matrix(y1_val1.values, XGBClf1.predict(X1_val1.values))\n",
    "plt.figure(dpi=150)\n",
    "sns.heatmap(XGBClf_confusion, cmap=plt.cm.Blues, annot=True, square=True, fmt='g')\n",
    "plt.xlabel('Predicted withdrawn students')\n",
    "plt.ylabel('Actual withdrawn students')\n",
    "plt.title('Boosted Tree Classifier confusion matrix - First pass')\n",
    "plt.savefig('XGBoost_confusion_FirstPass.png', format='png', bbox_inches='tight')"
   ]
  },
  {
   "cell_type": "code",
   "execution_count": 256,
   "metadata": {},
   "outputs": [],
   "source": [
    "XGBoost_coefdict = {'student_id': 0.020652514,\n",
    " 'date_registered': 0.019315246,\n",
    " 'course_length': 0.018540371,\n",
    " 'gender': 0.014705291,\n",
    " 'num_of_prev_attempts': 0.019895952,\n",
    " 'studied_credits': 0.025878297,\n",
    " 'disability': 0.040465508,\n",
    " 'late_registration': 0.0,\n",
    " 'late_assess_submission': 0.022126572,\n",
    " 'module_year': 0.012350842,\n",
    " 'age_code': 0.015882548,\n",
    " 'edu_code': 0.0227807,\n",
    " 'module_AAA': 0.021388268,\n",
    " 'module_BBB': 0.03259029,\n",
    " 'module_CCC': 0.12229993,\n",
    " 'module_DDD': 0.03650665,\n",
    " 'module_EEE': 0.018664058,\n",
    " 'module_FFF': 0.019272525,\n",
    " 'module_GGG': 0.028813388,\n",
    " 'module_month_Feb': 0.02904662,\n",
    " 'module_month_Oct': 0.015152242,\n",
    " 'region_East_Anglia': 0.022280598,\n",
    " 'region_East_Midlands': 0.015524906,\n",
    " 'region_Ireland': 0.023354566,\n",
    " 'region_London': 0.0209986,\n",
    " 'region_North': 0.021360507,\n",
    " 'region_North_West': 0.020678496,\n",
    " 'region_Scotland': 0.01975193,\n",
    " 'region_South_East': 0.015823567,\n",
    " 'region_South': 0.018621227,\n",
    " 'region_South_West': 0.031125855,\n",
    " 'region_Wales': 0.024295406,\n",
    " 'region_West_Midlands': 0.018170096,\n",
    " 'region_Yorkshire': 0.017403716,\n",
    " 'num_CMA_assess': 0.03266954,\n",
    " 'num_Exams': 0.0728552,\n",
    " 'num_TMA_assess': 0.06875791}"
   ]
  },
  {
   "cell_type": "code",
   "execution_count": 278,
   "metadata": {},
   "outputs": [],
   "source": [
    "XGBoost_model = {'model': 'gradient boosted trees',\n",
    " 'data': 'all',\n",
    " 'n_estimators': 1000,\n",
    " 'max_depth': 3,\n",
    " 'objective': 'binary:logistic',\n",
    " 'learning_rate': 0.2,\n",
    " 'subsample': 0.2,\n",
    " 'min_child_weight': 3,\n",
    " 'colsample_bytree': 0.8,\n",
    " 'Validation Accuracy': 0.646,\n",
    " 'Validation Recall': 0.5749674054758801,\n",
    " 'Validation Precision': 0.2505681818181818,\n",
    " 'Validation F1': 0.34903047091412737,\n",
    " 'student_id': 0.020652514,\n",
    " 'date_registered': 0.019315246,\n",
    " 'course_length': 0.018540371,\n",
    " 'gender': 0.014705291,\n",
    " 'num_of_prev_attempts': 0.019895952,\n",
    " 'studied_credits': 0.025878297,\n",
    " 'disability': 0.040465508,\n",
    " 'late_registration': 0.0,\n",
    " 'late_assess_submission': 0.022126572,\n",
    " 'module_year': 0.012350842,\n",
    " 'age_code': 0.015882548,\n",
    " 'edu_code': 0.0227807,\n",
    " 'module_AAA': 0.021388268,\n",
    " 'module_BBB': 0.03259029,\n",
    " 'module_CCC': 0.12229993,\n",
    " 'module_DDD': 0.03650665,\n",
    " 'module_EEE': 0.018664058,\n",
    " 'module_FFF': 0.019272525,\n",
    " 'module_GGG': 0.028813388,\n",
    " 'module_month_Feb': 0.02904662,\n",
    " 'module_month_Oct': 0.015152242,\n",
    " 'region_East_Anglia': 0.022280598,\n",
    " 'region_East_Midlands': 0.015524906,\n",
    " 'region_Ireland': 0.023354566,\n",
    " 'region_London': 0.0209986,\n",
    " 'region_North': 0.021360507,\n",
    " 'region_North_West': 0.020678496,\n",
    " 'region_Scotland': 0.01975193,\n",
    " 'region_South_East': 0.015823567,\n",
    " 'region_South': 0.018621227,\n",
    " 'region_South_West': 0.031125855,\n",
    " 'region_Wales': 0.024295406,\n",
    " 'region_West_Midlands': 0.018170096,\n",
    " 'region_Yorkshire': 0.017403716,\n",
    " 'num_CMA_assess': 0.03266954,\n",
    " 'num_Exams': 0.0728552,\n",
    " 'num_TMA_assess': 0.06875791,\n",
    "               'true_neg': 2559,\n",
    "               'true_pos': 441,\n",
    "               'false_pos': 1319,\n",
    "               'false_neg': 326}"
   ]
  },
  {
   "cell_type": "code",
   "execution_count": 279,
   "metadata": {},
   "outputs": [],
   "source": [
    "models.append(XGBoost_model)"
   ]
  },
  {
   "cell_type": "code",
   "execution_count": 259,
   "metadata": {},
   "outputs": [
    {
     "data": {
      "text/plain": [
       "[{'model': 'knn',\n",
       "  'data': 'all',\n",
       "  'neighbors': 13,\n",
       "  'Validation Accuracy': 0.5629709364908504,\n",
       "  'Validation Recall': 0.4915254237288136,\n",
       "  'Validation Precision': 0.18691125433812594,\n",
       "  'Validation F1': 0.2708333333333333},\n",
       " {'model': 'logistic regression',\n",
       "  'data': 'all',\n",
       "  'C': 0.04,\n",
       "  'Regularization': 'L2',\n",
       "  'Validation Accuracy': 0.6292787944025834,\n",
       "  'Validation Recall': 0.5632333767926988,\n",
       "  'Validation Precision': 0.23749312809235845,\n",
       "  'Validation F1': 0.33410672853828305,\n",
       "  'student_id': -0.004392122834166992,\n",
       "  'date_registered': 0.04475039752509623,\n",
       "  'course_length': 0.2993706722640403,\n",
       "  'gender': 0.10445503727729985,\n",
       "  'num_of_prev_attempts': 0.060740003712862214,\n",
       "  'studied_credits': 0.1729040562609639,\n",
       "  'disability': 0.17185750913517797,\n",
       "  'late_registration': -0.04389944291215124,\n",
       "  'late_assess_submission': -0.10628425799307659,\n",
       "  'module_year': 0.019971947731063453,\n",
       "  'age_code': 0.0461101808324205,\n",
       "  'edu_code': -0.20618646194392273,\n",
       "  'module_AAA': -0.04532148483937548,\n",
       "  'module_BBB': -0.00023588851074747032,\n",
       "  'module_CCC': 0.1459011866473646,\n",
       "  'module_DDD': 0.31551313960488714,\n",
       "  'module_EEE': -0.20298095635850638,\n",
       "  'module_FFF': -0.01859426032112358,\n",
       "  'module_GGG': -0.5056561145069022,\n",
       "  'module_month_Feb': 0.19191221058532273,\n",
       "  'module_month_Oct': -0.19191221058532346,\n",
       "  'region_East_Anglia': -0.03438446197701095,\n",
       "  'region_East_Midlands': 0.022259021663650538,\n",
       "  'region_Ireland': -0.050891335935021334,\n",
       "  'region_London': -0.02244647507820889,\n",
       "  'region_North': -0.02553093419449118,\n",
       "  'region_North_West': 0.019758581845861396,\n",
       "  'region_Scotland': 0.015416746656055523,\n",
       "  'region_South_East': 0.010314107081485224,\n",
       "  'region_South': -0.005651019128703504,\n",
       "  'region_South_West': 0.002545101123554148,\n",
       "  'region_Wales': 0.019668965906573042,\n",
       "  'region_West_Midlands': 0.027275163907060928,\n",
       "  'region_Yorkshire': 0.007855201924744707,\n",
       "  'num_CMA_assess': 0.07751605372894066,\n",
       "  'num_Exams': 0.1459011866473646,\n",
       "  'num_TMA_assess': -0.35701932048722906},\n",
       " {'model': 'decision tree',\n",
       "  'data': 'all',\n",
       "  'criterion': 'entropy',\n",
       "  'min_samples_split': 10,\n",
       "  'min_samples_leaf': 100,\n",
       "  'Validation Accuracy': 0.6073196986006458,\n",
       "  'Validation Recall': 0.5684485006518905,\n",
       "  'Validation Precision': 0.22602384655261792,\n",
       "  'Validation F1': 0.32344213649851633,\n",
       "  'student_id': 0.169894069339873,\n",
       "  'date_registered': 0.13944653674279345,\n",
       "  'course_length': 0.021364101722108838,\n",
       "  'gender': 0.008973180834121354,\n",
       "  'num_of_prev_attempts': 0.0,\n",
       "  'studied_credits': 0.0664303433439768,\n",
       "  'disability': 0.04949866824010368,\n",
       "  'late_registration': 0.0,\n",
       "  'late_assess_submission': 0.03332657543488341,\n",
       "  'module_year': 0.0031159179056889086,\n",
       "  'age_code': 0.025101025981749164,\n",
       "  'edu_code': 0.05936457863285429,\n",
       "  'module_AAA': 0.0,\n",
       "  'module_BBB': 0.0234934690613889,\n",
       "  'module_CCC': 0.18883936861142703,\n",
       "  'module_DDD': 0.021528697735003138,\n",
       "  'module_EEE': 0.0,\n",
       "  'module_FFF': 0.0,\n",
       "  'module_GGG': 0.0,\n",
       "  'module_month_Feb': 0.011651658336289717,\n",
       "  'module_month_Oct': 0.004790282144049382,\n",
       "  'region_East_Anglia': 0.0,\n",
       "  'region_East_Midlands': 0.0,\n",
       "  'region_Ireland': 0.0,\n",
       "  'region_London': 0.0,\n",
       "  'region_North': 0.007588850915351417,\n",
       "  'region_North_West': 0.0021799361401838514,\n",
       "  'region_Scotland': 0.0,\n",
       "  'region_South_East': 0.0,\n",
       "  'region_South': 0.00847761547654832,\n",
       "  'region_South_West': 0.0,\n",
       "  'region_Wales': 0.0,\n",
       "  'region_West_Midlands': 0.002150396941054468,\n",
       "  'region_Yorkshire': 0.0,\n",
       "  'num_CMA_assess': 0.007030855857242814,\n",
       "  'num_Exams': 0.0,\n",
       "  'num_TMA_assess': 0.14575387060330813},\n",
       " {'model': 'random forest',\n",
       "  'data': 'all',\n",
       "  'n_estimators': 200,\n",
       "  'min_samples_split': 10,\n",
       "  'min_samples_leaf': 70,\n",
       "  'Validation Accuracy': 0.6493003229278794,\n",
       "  'Validation Recall': 0.5488917861799217,\n",
       "  'Validation Precision': 0.24706572769953053,\n",
       "  'Validation F1': 0.3407527316875759,\n",
       "  'student_id': 0.07543955850206116,\n",
       "  'date_registered': 0.06408273135985193,\n",
       "  'course_length': 0.030245647708353026,\n",
       "  'gender': 0.011551019303544715,\n",
       "  'num_of_prev_attempts': 0.009049947945639136,\n",
       "  'studied_credits': 0.07687544327080584,\n",
       "  'disability': 0.04189695020707714,\n",
       "  'late_registration': 0.0,\n",
       "  'late_assess_submission': 0.03753725254259285,\n",
       "  'module_year': 0.01301680033282083,\n",
       "  'age_code': 0.010900160545198127,\n",
       "  'edu_code': 0.06402948923646125,\n",
       "  'module_AAA': 0.0026881148583968147,\n",
       "  'module_BBB': 0.024814048777975755,\n",
       "  'module_CCC': 0.09856770679709297,\n",
       "  'module_DDD': 0.03027617748274742,\n",
       "  'module_EEE': 0.032150196571727914,\n",
       "  'module_FFF': 0.013091503223448821,\n",
       "  'module_GGG': 0.04822174235873258,\n",
       "  'module_month_Feb': 0.011136335461007176,\n",
       "  'module_month_Oct': 0.014152241682694591,\n",
       "  'region_East_Anglia': 0.003493317966362924,\n",
       "  'region_East_Midlands': 0.002542476723747171,\n",
       "  'region_Ireland': 0.003240253115409226,\n",
       "  'region_London': 0.0019263723756680476,\n",
       "  'region_North': 0.0014493638392423288,\n",
       "  'region_North_West': 0.0018843835283766832,\n",
       "  'region_Scotland': 0.002993425234443802,\n",
       "  'region_South_East': 0.0014504986295700581,\n",
       "  'region_South': 0.0038997616354983777,\n",
       "  'region_South_West': 0.0014543940830461712,\n",
       "  'region_Wales': 0.0015425948434325363,\n",
       "  'region_West_Midlands': 0.002118930868035823,\n",
       "  'region_Yorkshire': 0.0008876942625111941,\n",
       "  'num_CMA_assess': 0.052057799753646966,\n",
       "  'num_Exams': 0.10576264761978496,\n",
       "  'num_TMA_assess': 0.10357301735299367},\n",
       " {'model': 'gradient boosted trees',\n",
       "  'data': 'all',\n",
       "  'n_estimators': 1000,\n",
       "  'max_depth': 3,\n",
       "  'objective': 'binary:logistic',\n",
       "  'learning_rate': 0.2,\n",
       "  'subsample': 0.2,\n",
       "  'min_child_weight': 3,\n",
       "  'colsample_bytree': 0.8,\n",
       "  'Validation Accuracy': 0.646,\n",
       "  'Validation Recall': 0.5749674054758801,\n",
       "  'Validation Precision': 0.2505681818181818,\n",
       "  'Validation F1': 0.34903047091412737,\n",
       "  'student_id': 0.020652514,\n",
       "  'date_registered': 0.019315246,\n",
       "  'course_length': 0.018540371,\n",
       "  'gender': 0.014705291,\n",
       "  'num_of_prev_attempts': 0.019895952,\n",
       "  'studied_credits': 0.025878297,\n",
       "  'disability': 0.040465508,\n",
       "  'late_registration': 0.0,\n",
       "  'late_assess_submission': 0.022126572,\n",
       "  'module_year': 0.012350842,\n",
       "  'age_code': 0.015882548,\n",
       "  'edu_code': 0.0227807,\n",
       "  'module_AAA': 0.021388268,\n",
       "  'module_BBB': 0.03259029,\n",
       "  'module_CCC': 0.12229993,\n",
       "  'module_DDD': 0.03650665,\n",
       "  'module_EEE': 0.018664058,\n",
       "  'module_FFF': 0.019272525,\n",
       "  'module_GGG': 0.028813388,\n",
       "  'module_month_Feb': 0.02904662,\n",
       "  'module_month_Oct': 0.015152242,\n",
       "  'region_East_Anglia': 0.022280598,\n",
       "  'region_East_Midlands': 0.015524906,\n",
       "  'region_Ireland': 0.023354566,\n",
       "  'region_London': 0.0209986,\n",
       "  'region_North': 0.021360507,\n",
       "  'region_North_West': 0.020678496,\n",
       "  'region_Scotland': 0.01975193,\n",
       "  'region_South_East': 0.015823567,\n",
       "  'region_South': 0.018621227,\n",
       "  'region_South_West': 0.031125855,\n",
       "  'region_Wales': 0.024295406,\n",
       "  'region_West_Midlands': 0.018170096,\n",
       "  'region_Yorkshire': 0.017403716,\n",
       "  'num_CMA_assess': 0.03266954,\n",
       "  'num_Exams': 0.0728552,\n",
       "  'num_TMA_assess': 0.06875791}]"
      ]
     },
     "execution_count": 259,
     "metadata": {},
     "output_type": "execute_result"
    }
   ],
   "source": [
    "models"
   ]
  },
  {
   "cell_type": "code",
   "execution_count": null,
   "metadata": {},
   "outputs": [],
   "source": []
  },
  {
   "cell_type": "code",
   "execution_count": null,
   "metadata": {},
   "outputs": [],
   "source": [
    "subsample_XGBoost_model ="
   ]
  },
  {
   "cell_type": "code",
   "execution_count": null,
   "metadata": {},
   "outputs": [],
   "source": []
  },
  {
   "cell_type": "code",
   "execution_count": null,
   "metadata": {},
   "outputs": [],
   "source": []
  },
  {
   "cell_type": "code",
   "execution_count": null,
   "metadata": {},
   "outputs": [],
   "source": []
  },
  {
   "cell_type": "code",
   "execution_count": null,
   "metadata": {},
   "outputs": [],
   "source": []
  },
  {
   "cell_type": "code",
   "execution_count": null,
   "metadata": {},
   "outputs": [],
   "source": [
    "# print('Fitting Grid Search')\n",
    "# print('Setting Up Params')\n",
    "# xg_grid_param = {\n",
    "# 'n_estimators': list(range(10, 1000, 100)),\n",
    "# 'max_depth':[list(range(3,11))],\n",
    "# 'objective':['reg:logistic','binary:logistic'],\n",
    "# 'learning_rate':list(np.arange(.01, 1., .01)),\n",
    "# 'subsample':list(np.arange(0.5, 1, .01)),\n",
    "# 'min_child_weight':list(range(1, 11)),\n",
    "# 'colsample_bytree':list(np.arange(0.5, 1, .01))\n",
    "# }\n",
    "    \n",
    "# print('Creating Classifier')\n",
    "# XGBClf2 = xgb.XGBClassifier()\n",
    "# print('Implementing Classifier with Params search')\n",
    "# xg_gd_sr = GridSearchCV(estimator=XGBClf2,\n",
    "#                          param_grid=xg_grid_param,\n",
    "#                          scoring=['accuracy','precision', 'recall', 'f1'],\n",
    "#                          cv=5,\n",
    "#                          refit = 'f1',\n",
    "#                          n_jobs=-1)\n",
    "# # Logistic_CV = pd.DataFrame(cross_validate(LogisticRegression(C=0.1, penalty='l1'), X1_train1_scaled, y1_train1_resampled, cv = 3, return_train_score=True, scoring = ['accuracy', 'precision', 'recall', 'f1']))\n",
    "# # Logistic_CV.mean()\n",
    "# print('Fititng GridSearch Model')\n",
    "# xg_gd_sr.fit(X1_val1.values, y1_val1.values)\n",
    "# print('Storing best params')\n",
    "# best_parameters = xg_gd_sr.best_params_\n",
    "# print('GridSearch best parameters' + str(best_parameters))\n",
    "    \n",
    "# print('Creatinf classifier with Grid Search best params')\n",
    "    \n",
    "    \n",
    "# XGBClf2 = xgb.XGBClassifier(n_estimators=best_parameters['n_estimators'], #arbitrary large number\n",
    "#                        max_depth=best_parameters['max_depth'],\n",
    "#                        objective=best_parameters['objective'],\n",
    "#                        learning_rate=best_parameters['learning_rate'],\n",
    "#                        subsample=best_parameters['subsample'],\n",
    "#                        min_child_weight=best_parameters['min_child_weight'],\n",
    "#                        colsample_bytree=best_parameters['colsample_bytree']\n",
    "#                       )\n",
    "# print('creating eval set')\n",
    "# eval_set=[(X1_train1_resampled, y1_train1_resampled),(X1_val1.values, y1_val1.values)] #tracking train/validation error as we go\n",
    "# print('fitting best params model from GSCV')\n",
    "# fit_model = XGBClf2.fit(\n",
    "#                         X1_train1_resampled, y1_train1_resampled,\n",
    "#                         eval_set=eval_set,\n",
    "#                         eval_metric='rmse',\n",
    "#                         early_stopping_rounds=20,\n",
    "#                         verbose=False #gives output log as below\n",
    "#                        )\n",
    "    \n",
    "# print('Retraining')\n",
    "    \n",
    "#     # XGBClf.fit(X1_tain1_resample, y1_train1_resample)\n",
    "# print('Predicting from GridSearch model')\n",
    "# XGBClf_pred_train2 = XGBClf2.predict(X1_train1_resampled)\n",
    "# XGBClf_pred_val2 = XGBClf2.predict(X1_val1.values)\n",
    "# XGBClf_recall_train2 = recall_score(y1_train1_resampled, XGBClf_pred_train2)\n",
    "# XGBClf_f1_train2 = f1_score(y1_train1_resampled, XGBClf_pred_train2)\n",
    "# XGBClf_recall_val2 = recall_score(y1_val1, XGBClf_pred_val2)\n",
    "# XGBClf_f1_val2 = f1_score(y1_val1, XGBClf_pred_val2)\n",
    "# print(\"XGB 2 Accuracy: %.3f\"% accuracy_score(y1_val1, XGBClf_pred_val2))\n",
    "# print('XGB 2 Train recall score: {}'.format(XGBClf_recall_train2))\n",
    "# print('XGB 2 Train F1 score: {}'.format(XGBClf_f1_train2))\n",
    "# print('XGB 2 Validation recall score: {}'.format(XGBClf_recall_val2))\n",
    "# print('XGB 2 Validation F1 score: {}'.format(XGBClf_f1_val2))\n",
    "    \n",
    "# XGBClf_confusion2 = confusion_matrix(y1_val1.values, XGBClf2.predict(X1_val1.values))\n",
    "# plt.figure(dpi=150)\n",
    "# sns.heatmap(XGBClf_confusion2, cmap=plt.cm.Blues, annot=True, square=True, fmt='g')\n",
    "# plt.xlabel('Predicted withdrawn students')\n",
    "# plt.ylabel('Actual withdrawn students')\n",
    "# plt.title('Boosted Tree Classifier confusion matrix - Grid Search')\n",
    "# plt.savefig('XGBoost_confusion_GridSearch.png', format='png', bbox_inches='tight')"
   ]
  },
  {
   "cell_type": "markdown",
   "metadata": {},
   "source": [
    "## Modeling with less params:"
   ]
  },
  {
   "cell_type": "code",
   "execution_count": 48,
   "metadata": {},
   "outputs": [
    {
     "data": {
      "text/plain": [
       "Index(['student_id', 'module_code', 'module_presentation', 'avg_assess_score',\n",
       "       'date_registered', 'course_length', 'gender', 'region',\n",
       "       'highest_education', 'age_band', 'num_of_prev_attempts',\n",
       "       'studied_credits', 'disability', 'final_result', 'late_registration',\n",
       "       'late_assess_submission', 'module_month', 'module_year', 'age_code',\n",
       "       'edu_code', 'module_AAA', 'module_BBB', 'module_CCC', 'module_DDD',\n",
       "       'module_EEE', 'module_FFF', 'module_GGG', 'module_month_Feb',\n",
       "       'module_month_Oct', 'region_East_Anglia', 'region_East_Midlands',\n",
       "       'region_Ireland', 'region_London', 'region_North', 'region_North_West',\n",
       "       'region_Scotland', 'region_South_East', 'region_South',\n",
       "       'region_South_West', 'region_Wales', 'region_West_Midlands',\n",
       "       'region_Yorkshire', 'num_CMA_assess', 'num_Exams', 'num_TMA_assess'],\n",
       "      dtype='object')"
      ]
     },
     "execution_count": 48,
     "metadata": {},
     "output_type": "execute_result"
    }
   ],
   "source": [
    "grouped_df.columns"
   ]
  },
  {
   "cell_type": "code",
   "execution_count": 180,
   "metadata": {},
   "outputs": [],
   "source": [
    "X2 = (grouped_df[['num_Exams','module_CCC', 'num_TMA_assess', 'edu_code', 'module_GGG', 'disability', \n",
    "                  'module_DDD', 'course_length', 'date_registered', 'module_month_Feb']])\n",
    "y2 = grouped_df['final_result']\n",
    "\n",
    "# Building train-test split:\n",
    "X2_train, X2_test, y2_train, y2_test = train_test_split(X2, y2, test_size=.25, random_state=3)\n",
    "# Building train-validation split:\n",
    "X2_train1, X2_val1, y2_train1, y2_val1 = train_test_split(X2_train, y2_train, test_size=.25, random_state=3)\n",
    "# Over-sampling to improve deal with class imbalance\n",
    "ros = RandomOverSampler(random_state=0)\n",
    "X2_train1_resampled, y2_train1_resampled = ros.fit_sample(X2_train1,y2_train1)"
   ]
  },
  {
   "cell_type": "markdown",
   "metadata": {},
   "source": [
    "### kNN:"
   ]
  },
  {
   "cell_type": "code",
   "execution_count": 150,
   "metadata": {},
   "outputs": [
    {
     "name": "stdout",
     "output_type": "stream",
     "text": [
      "Highest recall at 17 neighbors and highest F1 at 17 neighbors\n",
      "Recall at 0.4758800521512386 and F1 at 0.27464258841234007\n"
     ]
    }
   ],
   "source": [
    "k_recall = []\n",
    "k_f1 = []\n",
    "neighbors = list(range(1, 21))\n",
    "for neighbor in neighbors:\n",
    "    knn2 = KNeighborsClassifier(n_neighbors=neighbor)\n",
    "    knn2.fit(X2_train1_resampled, y2_train1_resampled)\n",
    "    knn_pred_train = knn2.predict(X2_train1)\n",
    "    knn_pred_val = knn2.predict(X2_val1)\n",
    "    recall_train = recall_score(y2_train1, knn_pred_train)\n",
    "    f1_train = f1_score(y2_train1, knn_pred_train)\n",
    "    recall_val = recall_score(y2_val1, knn_pred_val)\n",
    "    f1_val = f1_score(y2_val1, knn_pred_val)\n",
    "#     print('Neighbors k: {}'.format(neighbor))\n",
    "#     print('Train recall score: {}'.format(recall_train))\n",
    "#     print('Train F1 score: {}'.format(f1_train))\n",
    "#     print('Validation recall score: {}'.format(recall_val))\n",
    "#     print('Validation F1 score: {}'.format(f1_val))\n",
    "    k_recall.append(recall_val)\n",
    "    k_f1.append(f1_val)\n",
    "    \n",
    "knn_zip = list(zip(neighbors, k_recall, k_f1))\n",
    "recall_max_k = max(knn_zip,key=itemgetter(1))[0]\n",
    "recall_max = max(knn_zip,key=itemgetter(1))[1]\n",
    "f1_max_k = max(knn_zip,key=itemgetter(2))[0]\n",
    "f1_max = max(knn_zip,key=itemgetter(2))[2]\n",
    "print('Highest recall at {} neighbors and highest F1 at {} neighbors'.format(recall_max_k, f1_max_k))\n",
    "print('Recall at {} and F1 at {}'.format(recall_max, f1_max))"
   ]
  },
  {
   "cell_type": "code",
   "execution_count": 181,
   "metadata": {
    "scrolled": true
   },
   "outputs": [
    {
     "name": "stdout",
     "output_type": "stream",
     "text": [
      "Accuracy: 0.585\n",
      "kNN Model Train recall score: 0.7419620774938169\n",
      "kNN Model Train precision score: 0.3125\n",
      "kNN Model Train F1 score: 0.4397752259956022\n",
      "kNN Model Validation recall score: 0.4758800521512386\n",
      "kNN Model Validation precision score: 0.1930195663670016\n",
      "kNN Model Validation F1 score: 0.27464258841234007\n"
     ]
    },
    {
     "data": {
      "image/png": "[encoded data removed]",
      "text/plain": [
       "<Figure size 900x600 with 2 Axes>"
      ]
     },
     "metadata": {
      "needs_background": "light"
     },
     "output_type": "display_data"
    }
   ],
   "source": [
    "subsample_knn2 = KNeighborsClassifier(n_neighbors=17)\n",
    "subsample_knn2.fit(X2_train1_resampled, y2_train1_resampled)\n",
    "subsample_knn2_pred_train = subsample_knn2.predict(X2_train1)\n",
    "subsample_knn2_pred_val = subsample_knn2.predict(X2_val1)\n",
    "subsample_knn2_accuracy_val2 = accuracy_score(y2_val1, subsample_knn2_pred_val)\n",
    "subsample_knn2_recall_train2 = recall_score(y2_train1, subsample_knn2_pred_train)\n",
    "subsample_knn2_precision_train2 = precision_score(y2_train1, subsample_knn2_pred_train)\n",
    "subsample_knn2_f1_train2 = f1_score(y2_train1, subsample_knn2_pred_train)\n",
    "subsample_knn2_recall_val2 = recall_score(y2_val1, subsample_knn2_pred_val)\n",
    "subsample_knn2_precision_val2 = precision_score(y2_val1, subsample_knn2_pred_val)\n",
    "subsample_knn2_f1_val2 = f1_score(y2_val1, subsample_knn2_pred_val)\n",
    "print(\"Accuracy: %.3f\"% subsample_knn2_accuracy_val2)\n",
    "print('kNN Model Train recall score: {}'.format(subsample_knn2_recall_train2))\n",
    "print('kNN Model Train precision score: {}'.format(subsample_knn2_precision_train2))\n",
    "print('kNN Model Train F1 score: {}'.format(subsample_knn2_f1_train2))\n",
    "print('kNN Model Validation recall score: {}'.format(subsample_knn2_recall_val2))\n",
    "print('kNN Model Validation precision score: {}'.format(subsample_knn2_precision_val2))\n",
    "print('kNN Model Validation F1 score: {}'.format(subsample_knn2_f1_val2))\n",
    "\n",
    "knn_confusion = confusion_matrix(y2_val1, subsample_knn2.predict(X2_val1))\n",
    "plt.figure(dpi=150)\n",
    "sns.heatmap(knn_confusion, cmap=plt.cm.Blues, annot=True, square=True, fmt='g')\n",
    "\n",
    "plt.xlabel('Predicted withdrawn students')\n",
    "plt.ylabel('Actual withdrawn students')\n",
    "plt.title('kNN confusion matrix');"
   ]
  },
  {
   "cell_type": "code",
   "execution_count": 280,
   "metadata": {},
   "outputs": [],
   "source": [
    "models.append({'model': 'knn', \n",
    "               'data': 'subsample',\n",
    "               'neighbors': 17, \n",
    "               'Validation Accuracy': subsample_knn2_accuracy_val2, \n",
    "               'Validation Recall': subsample_knn2_recall_val2,\n",
    "               'Validation Precision': subsample_knn2_precision_val2,\n",
    "               'Validation F1': subsample_knn2_f1_val2,\n",
    "               'true_neg': 2352,\n",
    "               'true_pos': 365,\n",
    "               'false_pos': 1526,\n",
    "               'false_neg': 402})"
   ]
  },
  {
   "cell_type": "markdown",
   "metadata": {},
   "source": [
    "### Logistic Regression"
   ]
  },
  {
   "cell_type": "code",
   "execution_count": 190,
   "metadata": {},
   "outputs": [
    {
     "name": "stderr",
     "output_type": "stream",
     "text": [
      "/Users/Valentina/anaconda3/lib/python3.7/site-packages/sklearn/utils/validation.py:595: DataConversionWarning: Data with input dtype int64 was converted to float64 by StandardScaler.\n",
      "  warnings.warn(msg, DataConversionWarning)\n",
      "/Users/Valentina/anaconda3/lib/python3.7/site-packages/sklearn/utils/validation.py:595: DataConversionWarning: Data with input dtype int64 was converted to float64 by StandardScaler.\n",
      "  warnings.warn(msg, DataConversionWarning)\n",
      "/Users/Valentina/anaconda3/lib/python3.7/site-packages/ipykernel_launcher.py:3: DataConversionWarning: Data with input dtype uint8, int64 were all converted to float64 by StandardScaler.\n",
      "  This is separate from the ipykernel package so we can avoid doing imports until\n"
     ]
    },
    {
     "name": "stdout",
     "output_type": "stream",
     "text": [
      "{'C': 0.01, 'penalty': 'l2'}\n"
     ]
    },
    {
     "name": "stderr",
     "output_type": "stream",
     "text": [
      "/Users/Valentina/anaconda3/lib/python3.7/site-packages/sklearn/model_selection/_search.py:841: DeprecationWarning: The default of the `iid` parameter will change from True to False in version 0.22 and will be removed in 0.24. This will change numeric results when test-set sizes are unequal.\n",
      "  DeprecationWarning)\n",
      "/Users/Valentina/anaconda3/lib/python3.7/site-packages/sklearn/linear_model/logistic.py:433: FutureWarning: Default solver will be changed to 'lbfgs' in 0.22. Specify a solver to silence this warning.\n",
      "  FutureWarning)\n"
     ]
    }
   ],
   "source": [
    "scaler = StandardScaler()\n",
    "X2_train1_scaled = scaler.fit_transform(X2_train1_resampled)\n",
    "X2_val1_scaled = scaler.transform(X2_val1)\n",
    "\n",
    "lr_grid_param = {\n",
    "    'C': list(np.geomspace(0.01, 100, 100)),\n",
    "    'penalty': ['l1', 'l2']\n",
    "}\n",
    "logit2 = LogisticRegression()\n",
    "lr_gd_sr = GridSearchCV(estimator=logit2,\n",
    "                     param_grid=lr_grid_param,\n",
    "                     scoring=['accuracy','precision', 'recall', 'f1'],\n",
    "                     cv=5,\n",
    "                     refit = 'f1',\n",
    "                     n_jobs=-1)\n",
    "# Logistic_CV = pd.DataFrame(cross_validate(LogisticRegression(C=0.1, penalty='l1'), X1_train1_scaled, y1_train1_resampled, cv = 3, return_train_score=True, scoring = ['accuracy', 'precision', 'recall', 'f1']))\n",
    "# Logistic_CV.mean()\n",
    "lr_gd_sr.fit(X2_val1_scaled, y2_val1)\n",
    "best_parameters = lr_gd_sr.best_params_\n",
    "print(best_parameters)"
   ]
  },
  {
   "cell_type": "code",
   "execution_count": 211,
   "metadata": {},
   "outputs": [
    {
     "name": "stdout",
     "output_type": "stream",
     "text": [
      "Accuracy: 0.654\n",
      "Logit Model Train recall score: 0.5346715328467153\n",
      "Logit Model Train precision score: 0.6369565217391304\n",
      "Logit Model Train F1 score: 0.5813492063492063\n",
      "Logit Model Validation recall score: 0.4876140808344198\n",
      "Logit Model Validation precision score: 0.23566477630749844\n",
      "Logit Model Validation F1 score: 0.31775700934579443\n"
     ]
    },
    {
     "name": "stderr",
     "output_type": "stream",
     "text": [
      "/Users/Valentina/anaconda3/lib/python3.7/site-packages/sklearn/linear_model/logistic.py:433: FutureWarning: Default solver will be changed to 'lbfgs' in 0.22. Specify a solver to silence this warning.\n",
      "  FutureWarning)\n"
     ]
    },
    {
     "data": {
      "image/png": "[encoded data removed]",
      "text/plain": [
       "<Figure size 900x600 with 2 Axes>"
      ]
     },
     "metadata": {
      "needs_background": "light"
     },
     "output_type": "display_data"
    }
   ],
   "source": [
    "subsample_logit3 = LogisticRegression(C=1, penalty='l2')\n",
    "subsample_logit3.fit(X2_train1_scaled, y2_train1_resampled)\n",
    "subsample_logit3.score(X2_val1_scaled, y2_val1)\n",
    "subsample_logit3_pred_train = subsample_logit3.predict(X2_train1_scaled)\n",
    "subsample_logit3_pred_val = subsample_logit3.predict(X2_val1_scaled)\n",
    "subsample_logit3_accuracy_val = accuracy_score(y2_val1, subsample_logit3_pred_val)\n",
    "subsample_logit3_recall_train = recall_score(y2_train1_resampled, subsample_logit3_pred_train)\n",
    "subsample_logit3_precision_train = precision_score(y2_train1_resampled, subsample_logit3_pred_train)\n",
    "subsample_logit3_f1_train = f1_score(y2_train1_resampled, subsample_logit3_pred_train)\n",
    "subsample_logit3_recall_val = recall_score(y2_val1, subsample_logit3_pred_val)\n",
    "subsample_logit3_precision_val = precision_score(y2_val1, subsample_logit3_pred_val)\n",
    "subsample_logit3_f1_val = f1_score(y2_val1, subsample_logit3_pred_val)\n",
    "print(\"Accuracy: %.3f\"% subsample_logit3_accuracy_val)\n",
    "print('Logit Model Train recall score: {}'.format(subsample_logit3_recall_train))\n",
    "print('Logit Model Train precision score: {}'.format(subsample_logit3_precision_train))\n",
    "print('Logit Model Train F1 score: {}'.format(subsample_logit3_f1_train))\n",
    "print('Logit Model Validation recall score: {}'.format(subsample_logit3_recall_val))\n",
    "print('Logit Model Validation precision score: {}'.format(subsample_logit3_precision_val))\n",
    "print('Logit Model Validation F1 score: {}'.format(subsample_logit3_f1_val))\n",
    "\n",
    "\n",
    "logit_confusion = confusion_matrix(y2_val1, subsample_logit3.predict(X2_val1_scaled))\n",
    "plt.figure(dpi=150)\n",
    "sns.heatmap(logit_confusion, cmap=plt.cm.Blues, annot=True, square=True, fmt='g')\n",
    "plt.xlabel('Predicted withdrawn students')\n",
    "plt.ylabel('Actual withdrawn students')\n",
    "plt.title('Logistic Regression confusion matrix');"
   ]
  },
  {
   "cell_type": "code",
   "execution_count": 209,
   "metadata": {},
   "outputs": [
    {
     "data": {
      "text/plain": [
       "[('module_year', 0.42838587649444937),\n",
       " ('late_registration', 0.36079349621146606),\n",
       " ('num_of_prev_attempts', -0.28514348050039723),\n",
       " ('student_id', 0.2234323084591337),\n",
       " ('date_registered', 0.2234323084591337),\n",
       " ('gender', -0.20180447592710274),\n",
       " ('disability', 0.19991638762838057),\n",
       " ('studied_credits', 0.19119288339461427),\n",
       " ('late_assess_submission', 0.06715539603289356),\n",
       " ('course_length', 0.019454372981654755)]"
      ]
     },
     "execution_count": 209,
     "metadata": {},
     "output_type": "execute_result"
    }
   ],
   "source": [
    "subsample_logit3.intercept_\n",
    "subsample_logit3_coefs = list(zip(X1_train1.columns, subsample_logit3.coef_[0]))\n",
    "sorted(subsample_logit3_coefs, key=lambda tup: abs(tup[1]), reverse=True)"
   ]
  },
  {
   "cell_type": "code",
   "execution_count": 212,
   "metadata": {},
   "outputs": [],
   "source": [
    "subsample_logit3_coefsdict = dict(subsample_logit3_coefs)"
   ]
  },
  {
   "cell_type": "code",
   "execution_count": 281,
   "metadata": {},
   "outputs": [],
   "source": [
    "subsample_logit_model = {'model': 'logistic regression', \n",
    "               'data': 'subsample',\n",
    "               'C': 1,\n",
    "               'Regularization': 'L2',\n",
    "               'Validation Accuracy': subsample_logit3_accuracy_val, \n",
    "               'Validation Recall': subsample_logit3_recall_val,\n",
    "               'Validation Precision': subsample_logit3_precision_val,\n",
    "               'Validation F1': subsample_logit3_f1_val,\n",
    "               'true_neg': 2665,\n",
    "               'true_pos': 374,\n",
    "               'false_pos': 1213,\n",
    "               'false_neg': 393}\n",
    "subsample_logit_model.update(subsample_logit3_coefsdict)\n",
    "models.append(subsample_logit_model)"
   ]
  },
  {
   "cell_type": "markdown",
   "metadata": {},
   "source": [
    "### Decision Trees:"
   ]
  },
  {
   "cell_type": "code",
   "execution_count": 57,
   "metadata": {},
   "outputs": [
    {
     "name": "stdout",
     "output_type": "stream",
     "text": [
      "{'criterion': 'gini', 'min_samples_leaf': 10, 'min_samples_split': 10}\n"
     ]
    }
   ],
   "source": [
    "subsample_dt_grid_param = {\n",
    "    'criterion': ['entropy', 'gini'],\n",
    "    'min_samples_split': list(range(10, 151, 20)),\n",
    "    'min_samples_leaf': list(range(10, 151, 20))\n",
    "}\n",
    "\n",
    "subsample_DTClf = DecisionTreeClassifier()\n",
    "subsample_dt_gd_sr = GridSearchCV(estimator=subsample_DTClf,\n",
    "                     param_grid=subsample_dt_grid_param,\n",
    "                     scoring=['accuracy','precision', 'recall', 'f1'],\n",
    "                     cv=5,\n",
    "                     refit = 'f1',\n",
    "                     n_jobs=-1)\n",
    "# Logistic_CV = pd.DataFrame(cross_validate(LogisticRegression(C=0.1, penalty='l1'), X1_train1_scaled, y1_train1_resampled, cv = 3, return_train_score=True, scoring = ['accuracy', 'precision', 'recall', 'f1']))\n",
    "# Logistic_CV.mean()\n",
    "subsample_dt_gd_sr.fit(X2_val1, y2_val1)\n",
    "best_parameters = subsample_dt_gd_sr.best_params_\n",
    "print(best_parameters)"
   ]
  },
  {
   "cell_type": "code",
   "execution_count": 234,
   "metadata": {},
   "outputs": [
    {
     "name": "stdout",
     "output_type": "stream",
     "text": [
      "DT Model Accuracy: 0.608\n",
      "DT Model Train recall score: 0.6637990962808481\n",
      "DT Model Train precision score: 0.6519586924980797\n",
      "DT Model Train F1 score: 0.6578256189451023\n",
      "DT Model Validation recall score: 0.4915254237288136\n",
      "DT Model Train precision score: 0.6519586924980797\n",
      "DT Model Validation F1 score: 0.29292929292929293\n"
     ]
    },
    {
     "data": {
      "image/png": "[encoded data removed]",
      "text/plain": [
       "<Figure size 900x600 with 2 Axes>"
      ]
     },
     "metadata": {
      "needs_background": "light"
     },
     "output_type": "display_data"
    }
   ],
   "source": [
    "subsample_DTClf = DecisionTreeClassifier(criterion = 'entropy', min_samples_split=10, min_samples_leaf=100)\n",
    "subsample_DTClf.fit(X2_train1_resampled, y2_train1_resampled)\n",
    "subsample_DTClf_pred_train = subsample_DTClf.predict(X2_train1_resampled)\n",
    "subsample_DTClf_pred_val = subsample_DTClf.predict(X2_val1)\n",
    "subsample_DTClf_accuracy_val = accuracy_score(y2_val1, subsample_DTClf_pred_val)\n",
    "subsample_DTClf_recall_train = recall_score(y2_train1_resampled, subsample_DTClf_pred_train)\n",
    "subsample_DTClf_precision_train = precision_score(y2_train1_resampled, subsample_DTClf_pred_train)\n",
    "subsample_DTClf_f1_train = f1_score(y2_train1_resampled, subsample_DTClf_pred_train)\n",
    "subsample_DTClf_recall_val = recall_score(y2_val1, subsample_DTClf_pred_val)\n",
    "subsample_DTClf_precision_val = precision_score(y2_val1, subsample_DTClf_pred_val)\n",
    "subsample_DTClf_f1_val = f1_score(y2_val1, subsample_DTClf_pred_val)\n",
    "print(\"DT Model Accuracy: %.3f\"% subsample_DTClf_accuracy_val)\n",
    "print('DT Model Train recall score: {}'.format(subsample_DTClf_recall_train))\n",
    "print('DT Model Train precision score: {}'.format(subsample_DTClf_precision_train))\n",
    "print('DT Model Train F1 score: {}'.format(subsample_DTClf_f1_train))\n",
    "print('DT Model Validation recall score: {}'.format(subsample_DTClf_recall_val))\n",
    "print('DT Model Validation precision score: {}'.format(subsample_DTClf_precision_val))\n",
    "print('DT Model Validation F1 score: {}'.format(subsample_DTClf_f1_val))\n",
    "\n",
    "DTClf_confusion = confusion_matrix(y2_val1, subsample_DTClf.predict(X2_val1))\n",
    "plt.figure(dpi=150)\n",
    "sns.heatmap(DTClf_confusion, cmap=plt.cm.Blues, annot=True, square=True, fmt='g')\n",
    "\n",
    "plt.xlabel('Predicted withdrawn students')\n",
    "plt.ylabel('Actual withdrawn students')\n",
    "plt.title('Decision Tree Classifier confusion matrix');"
   ]
  },
  {
   "cell_type": "code",
   "execution_count": 217,
   "metadata": {},
   "outputs": [
    {
     "data": {
      "text/plain": [
       "[('late_assess_submission', 0.28527455826992537),\n",
       " ('date_registered', 0.25859779621706497),\n",
       " ('course_length', 0.19076179031094004),\n",
       " ('gender', 0.09235940990233565),\n",
       " ('studied_credits', 0.06778378161658327),\n",
       " ('late_registration', 0.048117719924460456),\n",
       " ('disability', 0.03656878820272709),\n",
       " ('module_year', 0.02053615555596308),\n",
       " ('student_id', 0.0),\n",
       " ('num_of_prev_attempts', 0.0)]"
      ]
     },
     "execution_count": 217,
     "metadata": {},
     "output_type": "execute_result"
    }
   ],
   "source": [
    "subsample_DTCLf_coefs = list(zip(X1_train1.columns, subsample_DTClf.feature_importances_))\n",
    "sorted(subsample_DTCLf_coefs, key=lambda tup: abs(tup[1]), reverse=True)"
   ]
  },
  {
   "cell_type": "code",
   "execution_count": 218,
   "metadata": {},
   "outputs": [],
   "source": [
    "subsample_DTC_coefdict = dict(subsample_DTCLf_coefs)"
   ]
  },
  {
   "cell_type": "code",
   "execution_count": 282,
   "metadata": {},
   "outputs": [],
   "source": [
    "subsample_DTC_model = {'model': 'decision tree', \n",
    "               'data': 'subsample',\n",
    "               'criterion' : 'entropy', \n",
    "               'min_samples_split' : 10, \n",
    "               'min_samples_leaf' : 100,\n",
    "               'Validation Accuracy': subsample_DTClf_accuracy_val, \n",
    "               'Validation Recall': subsample_DTClf_recall_val,\n",
    "               'Validation Precision': subsample_DTClf_precision_val,\n",
    "               'Validation F1': subsample_DTClf_f1_val,\n",
    "               'true_neg': 2448,\n",
    "               'true_pos': 377,\n",
    "               'false_pos': 1430,\n",
    "               'false_neg': 390}\n",
    "subsample_DTC_model.update(subsample_DTC_coefdict)\n",
    "models.append(subsample_DTC_model)"
   ]
  },
  {
   "cell_type": "code",
   "execution_count": 220,
   "metadata": {},
   "outputs": [
    {
     "data": {
      "text/plain": [
       "[{'model': 'logistic regression',\n",
       "  'data': 'all',\n",
       "  'C': 0.04,\n",
       "  'Regularization': 'L2',\n",
       "  'Validation Accuracy': 0.6292787944025834,\n",
       "  'Validation Recall': 0.5632333767926988,\n",
       "  'Validation Precision': 0.23749312809235845,\n",
       "  'Validation F1': 0.33410672853828305,\n",
       "  'student_id': -0.004392122834166992,\n",
       "  'date_registered': 0.04475039752509623,\n",
       "  'course_length': 0.2993706722640403,\n",
       "  'gender': 0.10445503727729985,\n",
       "  'num_of_prev_attempts': 0.060740003712862214,\n",
       "  'studied_credits': 0.1729040562609639,\n",
       "  'disability': 0.17185750913517797,\n",
       "  'late_registration': -0.04389944291215124,\n",
       "  'late_assess_submission': -0.10628425799307659,\n",
       "  'module_year': 0.019971947731063453,\n",
       "  'age_code': 0.0461101808324205,\n",
       "  'edu_code': -0.20618646194392273,\n",
       "  'module_AAA': -0.04532148483937548,\n",
       "  'module_BBB': -0.00023588851074747032,\n",
       "  'module_CCC': 0.1459011866473646,\n",
       "  'module_DDD': 0.31551313960488714,\n",
       "  'module_EEE': -0.20298095635850638,\n",
       "  'module_FFF': -0.01859426032112358,\n",
       "  'module_GGG': -0.5056561145069022,\n",
       "  'module_month_Feb': 0.19191221058532273,\n",
       "  'module_month_Oct': -0.19191221058532346,\n",
       "  'region_East_Anglia': -0.03438446197701095,\n",
       "  'region_East_Midlands': 0.022259021663650538,\n",
       "  'region_Ireland': -0.050891335935021334,\n",
       "  'region_London': -0.02244647507820889,\n",
       "  'region_North': -0.02553093419449118,\n",
       "  'region_North_West': 0.019758581845861396,\n",
       "  'region_Scotland': 0.015416746656055523,\n",
       "  'region_South_East': 0.010314107081485224,\n",
       "  'region_South': -0.005651019128703504,\n",
       "  'region_South_West': 0.002545101123554148,\n",
       "  'region_Wales': 0.019668965906573042,\n",
       "  'region_West_Midlands': 0.027275163907060928,\n",
       "  'region_Yorkshire': 0.007855201924744707,\n",
       "  'num_CMA_assess': 0.07751605372894066,\n",
       "  'num_Exams': 0.1459011866473646,\n",
       "  'num_TMA_assess': -0.35701932048722906},\n",
       " {'model': 'decision tree',\n",
       "  'data': 'all',\n",
       "  'criterion': 'entropy',\n",
       "  'min_samples_split': 10,\n",
       "  'min_samples_leaf': 100,\n",
       "  'Validation Accuracy': 0.6073196986006458,\n",
       "  'Validation Recall': 0.5684485006518905,\n",
       "  'Validation Precision': 0.22602384655261792,\n",
       "  'Validation F1': 0.32344213649851633,\n",
       "  'student_id': 0.169894069339873,\n",
       "  'date_registered': 0.13944653674279345,\n",
       "  'course_length': 0.021364101722108838,\n",
       "  'gender': 0.008973180834121354,\n",
       "  'num_of_prev_attempts': 0.0,\n",
       "  'studied_credits': 0.0664303433439768,\n",
       "  'disability': 0.04949866824010368,\n",
       "  'late_registration': 0.0,\n",
       "  'late_assess_submission': 0.03332657543488341,\n",
       "  'module_year': 0.0031159179056889086,\n",
       "  'age_code': 0.025101025981749164,\n",
       "  'edu_code': 0.05936457863285429,\n",
       "  'module_AAA': 0.0,\n",
       "  'module_BBB': 0.0234934690613889,\n",
       "  'module_CCC': 0.18883936861142703,\n",
       "  'module_DDD': 0.021528697735003138,\n",
       "  'module_EEE': 0.0,\n",
       "  'module_FFF': 0.0,\n",
       "  'module_GGG': 0.0,\n",
       "  'module_month_Feb': 0.011651658336289717,\n",
       "  'module_month_Oct': 0.004790282144049382,\n",
       "  'region_East_Anglia': 0.0,\n",
       "  'region_East_Midlands': 0.0,\n",
       "  'region_Ireland': 0.0,\n",
       "  'region_London': 0.0,\n",
       "  'region_North': 0.007588850915351417,\n",
       "  'region_North_West': 0.0021799361401838514,\n",
       "  'region_Scotland': 0.0,\n",
       "  'region_South_East': 0.0,\n",
       "  'region_South': 0.00847761547654832,\n",
       "  'region_South_West': 0.0,\n",
       "  'region_Wales': 0.0,\n",
       "  'region_West_Midlands': 0.002150396941054468,\n",
       "  'region_Yorkshire': 0.0,\n",
       "  'num_CMA_assess': 0.007030855857242814,\n",
       "  'num_Exams': 0.0,\n",
       "  'num_TMA_assess': 0.14575387060330813},\n",
       " {'model': 'random forest',\n",
       "  'data': 'all',\n",
       "  'n_estimators': 200,\n",
       "  'min_samples_split': 10,\n",
       "  'min_samples_leaf': 70,\n",
       "  'Validation Accuracy': 0.6493003229278794,\n",
       "  'Validation Recall': 0.5488917861799217,\n",
       "  'Validation Precision': 0.24706572769953053,\n",
       "  'Validation F1': 0.3407527316875759,\n",
       "  'student_id': 0.07543955850206116,\n",
       "  'date_registered': 0.06408273135985193,\n",
       "  'course_length': 0.030245647708353026,\n",
       "  'gender': 0.011551019303544715,\n",
       "  'num_of_prev_attempts': 0.009049947945639136,\n",
       "  'studied_credits': 0.07687544327080584,\n",
       "  'disability': 0.04189695020707714,\n",
       "  'late_registration': 0.0,\n",
       "  'late_assess_submission': 0.03753725254259285,\n",
       "  'module_year': 0.01301680033282083,\n",
       "  'age_code': 0.010900160545198127,\n",
       "  'edu_code': 0.06402948923646125,\n",
       "  'module_AAA': 0.0026881148583968147,\n",
       "  'module_BBB': 0.024814048777975755,\n",
       "  'module_CCC': 0.09856770679709297,\n",
       "  'module_DDD': 0.03027617748274742,\n",
       "  'module_EEE': 0.032150196571727914,\n",
       "  'module_FFF': 0.013091503223448821,\n",
       "  'module_GGG': 0.04822174235873258,\n",
       "  'module_month_Feb': 0.011136335461007176,\n",
       "  'module_month_Oct': 0.014152241682694591,\n",
       "  'region_East_Anglia': 0.003493317966362924,\n",
       "  'region_East_Midlands': 0.002542476723747171,\n",
       "  'region_Ireland': 0.003240253115409226,\n",
       "  'region_London': 0.0019263723756680476,\n",
       "  'region_North': 0.0014493638392423288,\n",
       "  'region_North_West': 0.0018843835283766832,\n",
       "  'region_Scotland': 0.002993425234443802,\n",
       "  'region_South_East': 0.0014504986295700581,\n",
       "  'region_South': 0.0038997616354983777,\n",
       "  'region_South_West': 0.0014543940830461712,\n",
       "  'region_Wales': 0.0015425948434325363,\n",
       "  'region_West_Midlands': 0.002118930868035823,\n",
       "  'region_Yorkshire': 0.0008876942625111941,\n",
       "  'num_CMA_assess': 0.052057799753646966,\n",
       "  'num_Exams': 0.10576264761978496,\n",
       "  'num_TMA_assess': 0.10357301735299367},\n",
       " {'model': 'knn',\n",
       "  'data': 'all',\n",
       "  'neighbors': 13,\n",
       "  'Validation Accuracy': 0.5629709364908504,\n",
       "  'Validation Recall': 0.4915254237288136,\n",
       "  'Validation Precision': 0.18691125433812594,\n",
       "  'Validation F1': 0.2708333333333333},\n",
       " {'model': 'knn',\n",
       "  'data': 'subsample',\n",
       "  'neighbors': 17,\n",
       "  'Validation Accuracy': 0.584930032292788,\n",
       "  'Validation Recall': 0.4758800521512386,\n",
       "  'Validation Precision': 0.1930195663670016,\n",
       "  'Validation F1': 0.27464258841234007},\n",
       " {'model': 'logistic regression',\n",
       "  'data': 'subsample',\n",
       "  'C': 1,\n",
       "  'Regularization': 'L2',\n",
       "  'Validation Accuracy': 0.6542518837459634,\n",
       "  'Validation Recall': 0.4876140808344198,\n",
       "  'Validation Precision': 0.23566477630749844,\n",
       "  'Validation F1': 0.31775700934579443,\n",
       "  'student_id': 0.2234323084591337,\n",
       "  'date_registered': 0.2234323084591337,\n",
       "  'course_length': 0.019454372981654755,\n",
       "  'gender': -0.20180447592710274,\n",
       "  'num_of_prev_attempts': -0.28514348050039723,\n",
       "  'studied_credits': 0.19119288339461427,\n",
       "  'disability': 0.19991638762838057,\n",
       "  'late_registration': 0.36079349621146606,\n",
       "  'late_assess_submission': 0.06715539603289356,\n",
       "  'module_year': 0.42838587649444937},\n",
       " {'model': 'decision tree',\n",
       "  'data': 'subsample',\n",
       "  'criterion': 'entropy',\n",
       "  'min_samples_split': 10,\n",
       "  'min_samples_leaf': 100,\n",
       "  'Validation Accuracy': 0.6081808396124866,\n",
       "  'Validation Recall': 0.4915254237288136,\n",
       "  'Validation Precision': 0.20863309352517986,\n",
       "  'Validation F1': 0.29292929292929293,\n",
       "  'student_id': 0.0,\n",
       "  'date_registered': 0.25859779621706497,\n",
       "  'course_length': 0.19076179031094004,\n",
       "  'gender': 0.09235940990233565,\n",
       "  'num_of_prev_attempts': 0.0,\n",
       "  'studied_credits': 0.06778378161658327,\n",
       "  'disability': 0.03656878820272709,\n",
       "  'late_registration': 0.048117719924460456,\n",
       "  'late_assess_submission': 0.28527455826992537,\n",
       "  'module_year': 0.02053615555596308}]"
      ]
     },
     "execution_count": 220,
     "metadata": {},
     "output_type": "execute_result"
    }
   ],
   "source": [
    "models"
   ]
  },
  {
   "cell_type": "markdown",
   "metadata": {},
   "source": [
    "### Random Forest:"
   ]
  },
  {
   "cell_type": "code",
   "execution_count": 71,
   "metadata": {},
   "outputs": [
    {
     "name": "stderr",
     "output_type": "stream",
     "text": [
      "/Users/Valentina/anaconda3/lib/python3.7/site-packages/sklearn/externals/joblib/externals/loky/process_executor.py:706: UserWarning: A worker stopped while some jobs were given to the executor. This can be caused by a too short worker timeout or by a memory leak.\n",
      "  \"timeout or by a memory leak.\", UserWarning\n",
      "/Users/Valentina/anaconda3/lib/python3.7/site-packages/sklearn/externals/joblib/externals/loky/process_executor.py:706: UserWarning: A worker stopped while some jobs were given to the executor. This can be caused by a too short worker timeout or by a memory leak.\n",
      "  \"timeout or by a memory leak.\", UserWarning\n",
      "/Users/Valentina/anaconda3/lib/python3.7/site-packages/sklearn/externals/joblib/externals/loky/process_executor.py:706: UserWarning: A worker stopped while some jobs were given to the executor. This can be caused by a too short worker timeout or by a memory leak.\n",
      "  \"timeout or by a memory leak.\", UserWarning\n",
      "/Users/Valentina/anaconda3/lib/python3.7/site-packages/sklearn/model_selection/_search.py:841: DeprecationWarning: The default of the `iid` parameter will change from True to False in version 0.22 and will be removed in 0.24. This will change numeric results when test-set sizes are unequal.\n",
      "  DeprecationWarning)\n"
     ]
    },
    {
     "name": "stdout",
     "output_type": "stream",
     "text": [
      "{'min_samples_leaf': 10, 'min_samples_split': 10, 'n_estimators': 310}\n"
     ]
    }
   ],
   "source": [
    "subsample_rf_grid_param = {\n",
    "    'n_estimators': list(range(10, 1000, 100)),\n",
    "    'min_samples_split': list(range(10, 151, 15)),\n",
    "    'min_samples_leaf': list(range(10, 151, 15))\n",
    "}\n",
    "\n",
    "subsample_RFClf = RandomForestClassifier()\n",
    "subsample_rf_gd_sr = GridSearchCV(estimator=subsample_RFClf,\n",
    "                     param_grid=subsample_rf_grid_param,\n",
    "                     scoring=['accuracy','precision', 'recall', 'f1'],\n",
    "                     cv=5,\n",
    "                     refit = 'f1',\n",
    "                     n_jobs=-1)\n",
    "# Logistic_CV = pd.DataFrame(cross_validate(LogisticRegression(C=0.1, penalty='l1'), X1_train1_scaled, y1_train1_resampled, cv = 3, return_train_score=True, scoring = ['accuracy', 'precision', 'recall', 'f1']))\n",
    "# Logistic_CV.mean()\n",
    "subsample_rf_gd_sr.fit(X2_val1, y2_val1)\n",
    "best_parameters = subsample_rf_gd_sr.best_params_\n",
    "print(best_parameters)"
   ]
  },
  {
   "cell_type": "code",
   "execution_count": 237,
   "metadata": {},
   "outputs": [
    {
     "name": "stdout",
     "output_type": "stream",
     "text": [
      "RF Model Accuracy: 0.598\n",
      "RF Model Train recall score: 0.668839068474105\n",
      "RF Model Train precision score: 0.6430242272347535\n",
      "RF Model Train F1 score: 0.6556776556776557\n",
      "RF Model Validation recall score: 0.5267275097783573\n",
      "RF Model Train precision score: 0.6430242272347535\n",
      "RF Model Validation F1 score: 0.3022820800598578\n"
     ]
    },
    {
     "data": {
      "text/plain": [
       "Text(0.5, 1.0, 'Random Forest Classifier confusion matrix')"
      ]
     },
     "execution_count": 237,
     "metadata": {},
     "output_type": "execute_result"
    },
    {
     "data": {
      "image/png": "[encoded data removed]",
      "text/plain": [
       "<Figure size 900x600 with 2 Axes>"
      ]
     },
     "metadata": {
      "needs_background": "light"
     },
     "output_type": "display_data"
    }
   ],
   "source": [
    "subsample_RFClf2 = RandomForestClassifier(n_estimators = 310, min_samples_split=10, min_samples_leaf=90)\n",
    "subsample_RFClf2.fit(X2_train1_resampled, y2_train1_resampled)\n",
    "subsample_RFClf_pred_train2 = subsample_RFClf2.predict(X2_train1_resampled)\n",
    "subsample_RFClf_pred_val2 = subsample_RFClf2.predict(X2_val1)\n",
    "subsample_RFClf_accuracy_val = accuracy_score(y2_val1, subsample_RFClf_pred_val2)\n",
    "subsample_RFClf_recall_train = recall_score(y2_train1_resampled, subsample_RFClf_pred_train2)\n",
    "subsample_RFClf_precision_train = precision_score(y2_train1_resampled, subsample_RFClf_pred_train2)\n",
    "subsample_RFClf_f1_train = f1_score(y2_train1_resampled, subsample_RFClf_pred_train2)\n",
    "subsample_RFClf_recall_val = recall_score(y2_val1, subsample_RFClf_pred_val2)\n",
    "subsample_RFClf_precision_val = precision_score(y2_val1, subsample_RFClf_pred_val2)\n",
    "subsample_RFClf_f1_val = f1_score(y2_val1, subsample_RFClf_pred_val2)\n",
    "print(\"RF Model Accuracy: %.3f\"% subsample_RFClf_accuracy_val)\n",
    "print('RF Model Train recall score: {}'.format(subsample_RFClf_recall_train))\n",
    "print('RF Model Train precision score: {}'.format(subsample_RFClf_precision_train))\n",
    "print('RF Model Train F1 score: {}'.format(subsample_RFClf_f1_train))\n",
    "print('RF Model Validation recall score: {}'.format(subsample_RFClf_recall_val))\n",
    "print('RF Model Validation precision score: {}'.format(subsample_RFClf_precision_val))\n",
    "print('RF Model Validation F1 score: {}'.format(subsample_RFClf_f1_val))\n",
    "\n",
    "RFClf_confusion = confusion_matrix(y2_val1, subsample_RFClf2.predict(X2_val1))\n",
    "plt.figure(dpi=150)\n",
    "sns.heatmap(RFClf_confusion, cmap=plt.cm.Blues, annot=True, square=True, fmt='g')\n",
    "\n",
    "plt.xlabel('Predicted withdrawn students')\n",
    "plt.ylabel('Actual withdrawn students')\n",
    "plt.title('Random Forest Classifier confusion matrix')"
   ]
  },
  {
   "cell_type": "code",
   "execution_count": 238,
   "metadata": {},
   "outputs": [
    {
     "data": {
      "text/plain": [
       "[('date_registered', 0.1645528312148359),\n",
       " ('late_assess_submission', 0.15726247843912103),\n",
       " ('student_id', 0.15332107928247876),\n",
       " ('course_length', 0.14297171453519822),\n",
       " ('gender', 0.10338931410762053),\n",
       " ('num_of_prev_attempts', 0.08024980079743241),\n",
       " ('studied_credits', 0.07155227276902819),\n",
       " ('disability', 0.05635572350385425),\n",
       " ('late_registration', 0.05276153428009558),\n",
       " ('module_year', 0.017583251070335256)]"
      ]
     },
     "execution_count": 238,
     "metadata": {},
     "output_type": "execute_result"
    }
   ],
   "source": [
    "subsample_RFClf_coefs = list(zip(X1_train1.columns, subsample_RFClf2.feature_importances_))\n",
    "sorted(subsample_RFClf_coefs, key=lambda tup: abs(tup[1]), reverse=True)"
   ]
  },
  {
   "cell_type": "code",
   "execution_count": 239,
   "metadata": {},
   "outputs": [],
   "source": [
    "subsample_RF_coefdict = dict(subsample_RFClf_coefs)"
   ]
  },
  {
   "cell_type": "code",
   "execution_count": 283,
   "metadata": {},
   "outputs": [],
   "source": [
    "subsample_RF_model = {'model': 'random forest', \n",
    "               'data': 'subsample',\n",
    "               'n_estimators' : 310, \n",
    "               'min_samples_split' : 10, \n",
    "               'min_samples_leaf' : 90,\n",
    "               'Validation Accuracy': subsample_RFClf_accuracy_val, \n",
    "               'Validation Recall': subsample_RFClf_recall_val,\n",
    "               'Validation Precision': subsample_RFClf_precision_val,\n",
    "               'Validation F1': subsample_RFClf_f1_val,\n",
    "               'true_neg': 2376,\n",
    "               'true_pos': 404,\n",
    "               'false_pos': 1502,\n",
    "               'false_neg': 363}\n",
    "subsample_RF_model.update(subsample_RF_coefdict)\n",
    "models.append(subsample_RF_model)"
   ]
  },
  {
   "cell_type": "code",
   "execution_count": 264,
   "metadata": {},
   "outputs": [
    {
     "data": {
      "text/plain": [
       "[{'model': 'knn',\n",
       "  'data': 'all',\n",
       "  'neighbors': 13,\n",
       "  'Validation Accuracy': 0.5629709364908504,\n",
       "  'Validation Recall': 0.4915254237288136,\n",
       "  'Validation Precision': 0.18691125433812594,\n",
       "  'Validation F1': 0.2708333333333333},\n",
       " {'model': 'logistic regression',\n",
       "  'data': 'all',\n",
       "  'C': 0.04,\n",
       "  'Regularization': 'L2',\n",
       "  'Validation Accuracy': 0.6292787944025834,\n",
       "  'Validation Recall': 0.5632333767926988,\n",
       "  'Validation Precision': 0.23749312809235845,\n",
       "  'Validation F1': 0.33410672853828305,\n",
       "  'student_id': -0.004392122834166992,\n",
       "  'date_registered': 0.04475039752509623,\n",
       "  'course_length': 0.2993706722640403,\n",
       "  'gender': 0.10445503727729985,\n",
       "  'num_of_prev_attempts': 0.060740003712862214,\n",
       "  'studied_credits': 0.1729040562609639,\n",
       "  'disability': 0.17185750913517797,\n",
       "  'late_registration': -0.04389944291215124,\n",
       "  'late_assess_submission': -0.10628425799307659,\n",
       "  'module_year': 0.019971947731063453,\n",
       "  'age_code': 0.0461101808324205,\n",
       "  'edu_code': -0.20618646194392273,\n",
       "  'module_AAA': -0.04532148483937548,\n",
       "  'module_BBB': -0.00023588851074747032,\n",
       "  'module_CCC': 0.1459011866473646,\n",
       "  'module_DDD': 0.31551313960488714,\n",
       "  'module_EEE': -0.20298095635850638,\n",
       "  'module_FFF': -0.01859426032112358,\n",
       "  'module_GGG': -0.5056561145069022,\n",
       "  'module_month_Feb': 0.19191221058532273,\n",
       "  'module_month_Oct': -0.19191221058532346,\n",
       "  'region_East_Anglia': -0.03438446197701095,\n",
       "  'region_East_Midlands': 0.022259021663650538,\n",
       "  'region_Ireland': -0.050891335935021334,\n",
       "  'region_London': -0.02244647507820889,\n",
       "  'region_North': -0.02553093419449118,\n",
       "  'region_North_West': 0.019758581845861396,\n",
       "  'region_Scotland': 0.015416746656055523,\n",
       "  'region_South_East': 0.010314107081485224,\n",
       "  'region_South': -0.005651019128703504,\n",
       "  'region_South_West': 0.002545101123554148,\n",
       "  'region_Wales': 0.019668965906573042,\n",
       "  'region_West_Midlands': 0.027275163907060928,\n",
       "  'region_Yorkshire': 0.007855201924744707,\n",
       "  'num_CMA_assess': 0.07751605372894066,\n",
       "  'num_Exams': 0.1459011866473646,\n",
       "  'num_TMA_assess': -0.35701932048722906},\n",
       " {'model': 'decision tree',\n",
       "  'data': 'all',\n",
       "  'criterion': 'entropy',\n",
       "  'min_samples_split': 10,\n",
       "  'min_samples_leaf': 100,\n",
       "  'Validation Accuracy': 0.6073196986006458,\n",
       "  'Validation Recall': 0.5684485006518905,\n",
       "  'Validation Precision': 0.22602384655261792,\n",
       "  'Validation F1': 0.32344213649851633,\n",
       "  'student_id': 0.169894069339873,\n",
       "  'date_registered': 0.13944653674279345,\n",
       "  'course_length': 0.021364101722108838,\n",
       "  'gender': 0.008973180834121354,\n",
       "  'num_of_prev_attempts': 0.0,\n",
       "  'studied_credits': 0.0664303433439768,\n",
       "  'disability': 0.04949866824010368,\n",
       "  'late_registration': 0.0,\n",
       "  'late_assess_submission': 0.03332657543488341,\n",
       "  'module_year': 0.0031159179056889086,\n",
       "  'age_code': 0.025101025981749164,\n",
       "  'edu_code': 0.05936457863285429,\n",
       "  'module_AAA': 0.0,\n",
       "  'module_BBB': 0.0234934690613889,\n",
       "  'module_CCC': 0.18883936861142703,\n",
       "  'module_DDD': 0.021528697735003138,\n",
       "  'module_EEE': 0.0,\n",
       "  'module_FFF': 0.0,\n",
       "  'module_GGG': 0.0,\n",
       "  'module_month_Feb': 0.011651658336289717,\n",
       "  'module_month_Oct': 0.004790282144049382,\n",
       "  'region_East_Anglia': 0.0,\n",
       "  'region_East_Midlands': 0.0,\n",
       "  'region_Ireland': 0.0,\n",
       "  'region_London': 0.0,\n",
       "  'region_North': 0.007588850915351417,\n",
       "  'region_North_West': 0.0021799361401838514,\n",
       "  'region_Scotland': 0.0,\n",
       "  'region_South_East': 0.0,\n",
       "  'region_South': 0.00847761547654832,\n",
       "  'region_South_West': 0.0,\n",
       "  'region_Wales': 0.0,\n",
       "  'region_West_Midlands': 0.002150396941054468,\n",
       "  'region_Yorkshire': 0.0,\n",
       "  'num_CMA_assess': 0.007030855857242814,\n",
       "  'num_Exams': 0.0,\n",
       "  'num_TMA_assess': 0.14575387060330813},\n",
       " {'model': 'random forest',\n",
       "  'data': 'all',\n",
       "  'n_estimators': 200,\n",
       "  'min_samples_split': 10,\n",
       "  'min_samples_leaf': 70,\n",
       "  'Validation Accuracy': 0.6493003229278794,\n",
       "  'Validation Recall': 0.5488917861799217,\n",
       "  'Validation Precision': 0.24706572769953053,\n",
       "  'Validation F1': 0.3407527316875759,\n",
       "  'student_id': 0.07543955850206116,\n",
       "  'date_registered': 0.06408273135985193,\n",
       "  'course_length': 0.030245647708353026,\n",
       "  'gender': 0.011551019303544715,\n",
       "  'num_of_prev_attempts': 0.009049947945639136,\n",
       "  'studied_credits': 0.07687544327080584,\n",
       "  'disability': 0.04189695020707714,\n",
       "  'late_registration': 0.0,\n",
       "  'late_assess_submission': 0.03753725254259285,\n",
       "  'module_year': 0.01301680033282083,\n",
       "  'age_code': 0.010900160545198127,\n",
       "  'edu_code': 0.06402948923646125,\n",
       "  'module_AAA': 0.0026881148583968147,\n",
       "  'module_BBB': 0.024814048777975755,\n",
       "  'module_CCC': 0.09856770679709297,\n",
       "  'module_DDD': 0.03027617748274742,\n",
       "  'module_EEE': 0.032150196571727914,\n",
       "  'module_FFF': 0.013091503223448821,\n",
       "  'module_GGG': 0.04822174235873258,\n",
       "  'module_month_Feb': 0.011136335461007176,\n",
       "  'module_month_Oct': 0.014152241682694591,\n",
       "  'region_East_Anglia': 0.003493317966362924,\n",
       "  'region_East_Midlands': 0.002542476723747171,\n",
       "  'region_Ireland': 0.003240253115409226,\n",
       "  'region_London': 0.0019263723756680476,\n",
       "  'region_North': 0.0014493638392423288,\n",
       "  'region_North_West': 0.0018843835283766832,\n",
       "  'region_Scotland': 0.002993425234443802,\n",
       "  'region_South_East': 0.0014504986295700581,\n",
       "  'region_South': 0.0038997616354983777,\n",
       "  'region_South_West': 0.0014543940830461712,\n",
       "  'region_Wales': 0.0015425948434325363,\n",
       "  'region_West_Midlands': 0.002118930868035823,\n",
       "  'region_Yorkshire': 0.0008876942625111941,\n",
       "  'num_CMA_assess': 0.052057799753646966,\n",
       "  'num_Exams': 0.10576264761978496,\n",
       "  'num_TMA_assess': 0.10357301735299367},\n",
       " {'model': 'gradient boosted trees',\n",
       "  'data': 'all',\n",
       "  'n_estimators': 1000,\n",
       "  'max_depth': 3,\n",
       "  'objective': 'binary:logistic',\n",
       "  'learning_rate': 0.2,\n",
       "  'subsample': 0.2,\n",
       "  'min_child_weight': 3,\n",
       "  'colsample_bytree': 0.8,\n",
       "  'Validation Accuracy': 0.646,\n",
       "  'Validation Recall': 0.5749674054758801,\n",
       "  'Validation Precision': 0.2505681818181818,\n",
       "  'Validation F1': 0.34903047091412737,\n",
       "  'student_id': 0.020652514,\n",
       "  'date_registered': 0.019315246,\n",
       "  'course_length': 0.018540371,\n",
       "  'gender': 0.014705291,\n",
       "  'num_of_prev_attempts': 0.019895952,\n",
       "  'studied_credits': 0.025878297,\n",
       "  'disability': 0.040465508,\n",
       "  'late_registration': 0.0,\n",
       "  'late_assess_submission': 0.022126572,\n",
       "  'module_year': 0.012350842,\n",
       "  'age_code': 0.015882548,\n",
       "  'edu_code': 0.0227807,\n",
       "  'module_AAA': 0.021388268,\n",
       "  'module_BBB': 0.03259029,\n",
       "  'module_CCC': 0.12229993,\n",
       "  'module_DDD': 0.03650665,\n",
       "  'module_EEE': 0.018664058,\n",
       "  'module_FFF': 0.019272525,\n",
       "  'module_GGG': 0.028813388,\n",
       "  'module_month_Feb': 0.02904662,\n",
       "  'module_month_Oct': 0.015152242,\n",
       "  'region_East_Anglia': 0.022280598,\n",
       "  'region_East_Midlands': 0.015524906,\n",
       "  'region_Ireland': 0.023354566,\n",
       "  'region_London': 0.0209986,\n",
       "  'region_North': 0.021360507,\n",
       "  'region_North_West': 0.020678496,\n",
       "  'region_Scotland': 0.01975193,\n",
       "  'region_South_East': 0.015823567,\n",
       "  'region_South': 0.018621227,\n",
       "  'region_South_West': 0.031125855,\n",
       "  'region_Wales': 0.024295406,\n",
       "  'region_West_Midlands': 0.018170096,\n",
       "  'region_Yorkshire': 0.017403716,\n",
       "  'num_CMA_assess': 0.03266954,\n",
       "  'num_Exams': 0.0728552,\n",
       "  'num_TMA_assess': 0.06875791},\n",
       " {'model': 'knn',\n",
       "  'data': 'subsample',\n",
       "  'neighbors': 17,\n",
       "  'Validation Accuracy': 0.584930032292788,\n",
       "  'Validation Recall': 0.4758800521512386,\n",
       "  'Validation Precision': 0.1930195663670016,\n",
       "  'Validation F1': 0.27464258841234007},\n",
       " {'model': 'logistic regression',\n",
       "  'data': 'subsample',\n",
       "  'C': 1,\n",
       "  'Regularization': 'L2',\n",
       "  'Validation Accuracy': 0.6542518837459634,\n",
       "  'Validation Recall': 0.4876140808344198,\n",
       "  'Validation Precision': 0.23566477630749844,\n",
       "  'Validation F1': 0.31775700934579443,\n",
       "  'student_id': 0.2234323084591337,\n",
       "  'date_registered': 0.2234323084591337,\n",
       "  'course_length': 0.019454372981654755,\n",
       "  'gender': -0.20180447592710274,\n",
       "  'num_of_prev_attempts': -0.28514348050039723,\n",
       "  'studied_credits': 0.19119288339461427,\n",
       "  'disability': 0.19991638762838057,\n",
       "  'late_registration': 0.36079349621146606,\n",
       "  'late_assess_submission': 0.06715539603289356,\n",
       "  'module_year': 0.42838587649444937},\n",
       " {'model': 'decision tree',\n",
       "  'data': 'subsample',\n",
       "  'criterion': 'entropy',\n",
       "  'min_samples_split': 10,\n",
       "  'min_samples_leaf': 100,\n",
       "  'Validation Accuracy': 0.6081808396124866,\n",
       "  'Validation Recall': 0.4915254237288136,\n",
       "  'Validation Precision': 0.20863309352517986,\n",
       "  'Validation F1': 0.29292929292929293,\n",
       "  'student_id': 0.0,\n",
       "  'date_registered': 0.25859779621706497,\n",
       "  'course_length': 0.19076179031094004,\n",
       "  'gender': 0.09235940990233565,\n",
       "  'num_of_prev_attempts': 0.0,\n",
       "  'studied_credits': 0.06778378161658327,\n",
       "  'disability': 0.03656878820272709,\n",
       "  'late_registration': 0.048117719924460456,\n",
       "  'late_assess_submission': 0.28527455826992537,\n",
       "  'module_year': 0.02053615555596308},\n",
       " {'model': 'random forest',\n",
       "  'data': 'subsample',\n",
       "  'n_estimators': 310,\n",
       "  'min_samples_split': 10,\n",
       "  'min_samples_leaf': 90,\n",
       "  'Validation Accuracy': 0.5984930032292788,\n",
       "  'Validation Recall': 0.5267275097783573,\n",
       "  'Validation Precision': 0.21196222455403987,\n",
       "  'Validation F1': 0.3022820800598578,\n",
       "  'student_id': 0.15332107928247876,\n",
       "  'date_registered': 0.1645528312148359,\n",
       "  'course_length': 0.14297171453519822,\n",
       "  'gender': 0.10338931410762053,\n",
       "  'num_of_prev_attempts': 0.08024980079743241,\n",
       "  'studied_credits': 0.07155227276902819,\n",
       "  'disability': 0.05635572350385425,\n",
       "  'late_registration': 0.05276153428009558,\n",
       "  'late_assess_submission': 0.15726247843912103,\n",
       "  'module_year': 0.017583251070335256}]"
      ]
     },
     "execution_count": 264,
     "metadata": {},
     "output_type": "execute_result"
    }
   ],
   "source": [
    "models"
   ]
  },
  {
   "cell_type": "markdown",
   "metadata": {},
   "source": [
    "### Gradient Boost:"
   ]
  },
  {
   "cell_type": "code",
   "execution_count": null,
   "metadata": {},
   "outputs": [],
   "source": [
    "xg_grid_param = {\n",
    "    'n_estimators': [100, 200, 500, 800, 1000, 2000],\n",
    "    'max_depth':list(range(3,11)),\n",
    "    'objective':['binary:logistic'],\n",
    "    'learning_rate':list(np.arange(.01, 1., .01)),\n",
    "    'subsample':list(np.arange(0.5, 1, .1)),\n",
    "    'min_child_weight':list(range(1, 11)),\n",
    "    'colsample_bytree':list(np.arange(0.5, 1, .1))\n",
    "}\n",
    "    \n",
    "print('Creating Classifier')\n",
    "XGBClf1 = xgb.XGBClassifier()\n",
    "print('Implementing Classifier with Params search')\n",
    "xg_gd_sr = GridSearchCV(estimator=XGBClf1,\n",
    "                         param_grid=xg_grid_param,\n",
    "                         scoring=['accuracy','precision', 'recall', 'f1'],\n",
    "                         cv=5,\n",
    "                         refit = 'f1',\n",
    "                         n_jobs=-1)\n",
    "\n",
    "print('Fititng GridSearch Model')\n",
    "xg_gd_sr.fit(X1_val1.values, y1_val1.values)\n",
    "print('Storing best params')\n",
    "best_parameters = xg_gd_sr.best_params_\n",
    "print(best_parameters)"
   ]
  },
  {
   "cell_type": "code",
   "execution_count": null,
   "metadata": {},
   "outputs": [],
   "source": [
    "XGBClf2 = xgb.XGBClassifier(n_estimators=best_parameters['n_estimators'], #arbitrary large number\n",
    "                       max_depth=best_parameters['max_depth'],\n",
    "                       objective=best_parameters['objective'],\n",
    "                       learning_rate=best_parameters['learning_rate'],\n",
    "                       subsample=best_parameters['subsample'],\n",
    "                       min_child_weight=best_parameters['min_child_weight'],\n",
    "                       colsample_bytree=best_parameters['colsample_bytree']\n",
    "                      )\n",
    "print('creating eval set')\n",
    "eval_set=[(X1_train1_resampled, y1_train1_resampled),(X1_val1.values, y1_val1.values)] #tracking train/validation error as we go\n",
    "print('fitting best params model from GSCV')\n",
    "fit_model = XGBClf2.fit(\n",
    "                        X1_train1_resampled, y1_train1_resampled,\n",
    "                        eval_set=eval_set,\n",
    "                        eval_metric='rmse',\n",
    "                        early_stopping_rounds=20,\n",
    "                        verbose=False #gives output log as below\n",
    "                       )\n",
    "    \n",
    "print('Retraining')\n",
    "    \n",
    "    # XGBClf.fit(X1_tain1_resample, y1_train1_resample)\n",
    "print('Predicting from GridSearch model')\n",
    "XGBClf_pred_train2 = XGBClf2.predict(X1_train1_resampled)\n",
    "XGBClf_pred_val2 = XGBClf2.predict(X1_val1.values)\n",
    "XGBClf_recall_train2 = recall_score(y1_train1_resampled, XGBClf_pred_train2)\n",
    "XGBClf_f1_train2 = f1_score(y1_train1_resampled, XGBClf_pred_train2)\n",
    "XGBClf_recall_val2 = recall_score(y1_val1, XGBClf_pred_val2)\n",
    "XGBClf_f1_val2 = f1_score(y1_val1, XGBClf_pred_val2)\n",
    "print(\"XGB 2 Accuracy: %.3f\"% accuracy_score(y1_val1, XGBClf_pred_val2))\n",
    "print('XGB 2 Train recall score: {}'.format(XGBClf_recall_train2))\n",
    "print('XGB 2 Train F1 score: {}'.format(XGBClf_f1_train2))\n",
    "print('XGB 2 Validation recall score: {}'.format(XGBClf_recall_val2))\n",
    "print('XGB 2 Validation F1 score: {}'.format(XGBClf_f1_val2))\n",
    "    \n",
    "XGBClf_confusion2 = confusion_matrix(y1_val1.values, XGBClf2.predict(X1_val1.values))\n",
    "plt.figure(dpi=150)\n",
    "sns.heatmap(XGBClf_confusion2, cmap=plt.cm.Blues, annot=True, square=True, fmt='g')\n",
    "plt.xlabel('Predicted withdrawn students')\n",
    "plt.ylabel('Actual withdrawn students')\n",
    "plt.title('Boosted Tree Classifier confusion matrix - Grid Search')"
   ]
  },
  {
   "cell_type": "code",
   "execution_count": null,
   "metadata": {},
   "outputs": [],
   "source": [
    "XGBClf_coef = list(zip(X1_train1.columns, XGBClf1.feature_importances_))\n",
    "sorted(XGBClf_coef, key=lambda tup: abs(tup[1]), reverse=True)"
   ]
  },
  {
   "cell_type": "code",
   "execution_count": 284,
   "metadata": {},
   "outputs": [],
   "source": [
    "subsample_XGB_model = {'model': 'gradient boosted trees',\n",
    " 'data': 'subsample',\n",
    " 'n_estimators': 1000,\n",
    " 'max_depth': 3,\n",
    " 'objective': 'binary:logistic',\n",
    " 'learning_rate': 0.3,\n",
    " 'subsample': 0.9,\n",
    " 'min_child_weight': 1,\n",
    " 'colsample_bytree': 0.4,\n",
    " 'Validation Accuracy': 0.6012917115177611,\n",
    " 'Validation Recall': 0.590612777053455,\n",
    " 'Validation Precision': 0.2275238573581115,\n",
    " 'Validation F1': 0.3284989122552574,\n",
    " 'num_Exams': 0.27418807,\n",
    " 'module_CCC': 0.05698899,\n",
    " 'num_TMA_assess': 0.14226845,\n",
    " 'edu_code': 0.05416279,\n",
    " 'module_GGG': 0.06800332,\n",
    " 'disability': 0.16861378,\n",
    " 'module_DDD': 0.15087685,\n",
    " 'course_length': 0.03456581,\n",
    " 'date_registered': 0.033425696,\n",
    " 'module_month_Feb': 0.016906254,\n",
    "               'true_neg': 2340,\n",
    "               'true_pos': 453,\n",
    "               'false_pos': 1538,\n",
    "               'false_neg': 314}"
   ]
  },
  {
   "cell_type": "code",
   "execution_count": 285,
   "metadata": {},
   "outputs": [],
   "source": [
    "models.append(subsample_XGB_model)"
   ]
  },
  {
   "cell_type": "code",
   "execution_count": 267,
   "metadata": {},
   "outputs": [
    {
     "data": {
      "text/plain": [
       "[{'model': 'knn',\n",
       "  'data': 'all',\n",
       "  'neighbors': 13,\n",
       "  'Validation Accuracy': 0.5629709364908504,\n",
       "  'Validation Recall': 0.4915254237288136,\n",
       "  'Validation Precision': 0.18691125433812594,\n",
       "  'Validation F1': 0.2708333333333333},\n",
       " {'model': 'logistic regression',\n",
       "  'data': 'all',\n",
       "  'C': 0.04,\n",
       "  'Regularization': 'L2',\n",
       "  'Validation Accuracy': 0.6292787944025834,\n",
       "  'Validation Recall': 0.5632333767926988,\n",
       "  'Validation Precision': 0.23749312809235845,\n",
       "  'Validation F1': 0.33410672853828305,\n",
       "  'student_id': -0.004392122834166992,\n",
       "  'date_registered': 0.04475039752509623,\n",
       "  'course_length': 0.2993706722640403,\n",
       "  'gender': 0.10445503727729985,\n",
       "  'num_of_prev_attempts': 0.060740003712862214,\n",
       "  'studied_credits': 0.1729040562609639,\n",
       "  'disability': 0.17185750913517797,\n",
       "  'late_registration': -0.04389944291215124,\n",
       "  'late_assess_submission': -0.10628425799307659,\n",
       "  'module_year': 0.019971947731063453,\n",
       "  'age_code': 0.0461101808324205,\n",
       "  'edu_code': -0.20618646194392273,\n",
       "  'module_AAA': -0.04532148483937548,\n",
       "  'module_BBB': -0.00023588851074747032,\n",
       "  'module_CCC': 0.1459011866473646,\n",
       "  'module_DDD': 0.31551313960488714,\n",
       "  'module_EEE': -0.20298095635850638,\n",
       "  'module_FFF': -0.01859426032112358,\n",
       "  'module_GGG': -0.5056561145069022,\n",
       "  'module_month_Feb': 0.19191221058532273,\n",
       "  'module_month_Oct': -0.19191221058532346,\n",
       "  'region_East_Anglia': -0.03438446197701095,\n",
       "  'region_East_Midlands': 0.022259021663650538,\n",
       "  'region_Ireland': -0.050891335935021334,\n",
       "  'region_London': -0.02244647507820889,\n",
       "  'region_North': -0.02553093419449118,\n",
       "  'region_North_West': 0.019758581845861396,\n",
       "  'region_Scotland': 0.015416746656055523,\n",
       "  'region_South_East': 0.010314107081485224,\n",
       "  'region_South': -0.005651019128703504,\n",
       "  'region_South_West': 0.002545101123554148,\n",
       "  'region_Wales': 0.019668965906573042,\n",
       "  'region_West_Midlands': 0.027275163907060928,\n",
       "  'region_Yorkshire': 0.007855201924744707,\n",
       "  'num_CMA_assess': 0.07751605372894066,\n",
       "  'num_Exams': 0.1459011866473646,\n",
       "  'num_TMA_assess': -0.35701932048722906},\n",
       " {'model': 'decision tree',\n",
       "  'data': 'all',\n",
       "  'criterion': 'entropy',\n",
       "  'min_samples_split': 10,\n",
       "  'min_samples_leaf': 100,\n",
       "  'Validation Accuracy': 0.6073196986006458,\n",
       "  'Validation Recall': 0.5684485006518905,\n",
       "  'Validation Precision': 0.22602384655261792,\n",
       "  'Validation F1': 0.32344213649851633,\n",
       "  'student_id': 0.169894069339873,\n",
       "  'date_registered': 0.13944653674279345,\n",
       "  'course_length': 0.021364101722108838,\n",
       "  'gender': 0.008973180834121354,\n",
       "  'num_of_prev_attempts': 0.0,\n",
       "  'studied_credits': 0.0664303433439768,\n",
       "  'disability': 0.04949866824010368,\n",
       "  'late_registration': 0.0,\n",
       "  'late_assess_submission': 0.03332657543488341,\n",
       "  'module_year': 0.0031159179056889086,\n",
       "  'age_code': 0.025101025981749164,\n",
       "  'edu_code': 0.05936457863285429,\n",
       "  'module_AAA': 0.0,\n",
       "  'module_BBB': 0.0234934690613889,\n",
       "  'module_CCC': 0.18883936861142703,\n",
       "  'module_DDD': 0.021528697735003138,\n",
       "  'module_EEE': 0.0,\n",
       "  'module_FFF': 0.0,\n",
       "  'module_GGG': 0.0,\n",
       "  'module_month_Feb': 0.011651658336289717,\n",
       "  'module_month_Oct': 0.004790282144049382,\n",
       "  'region_East_Anglia': 0.0,\n",
       "  'region_East_Midlands': 0.0,\n",
       "  'region_Ireland': 0.0,\n",
       "  'region_London': 0.0,\n",
       "  'region_North': 0.007588850915351417,\n",
       "  'region_North_West': 0.0021799361401838514,\n",
       "  'region_Scotland': 0.0,\n",
       "  'region_South_East': 0.0,\n",
       "  'region_South': 0.00847761547654832,\n",
       "  'region_South_West': 0.0,\n",
       "  'region_Wales': 0.0,\n",
       "  'region_West_Midlands': 0.002150396941054468,\n",
       "  'region_Yorkshire': 0.0,\n",
       "  'num_CMA_assess': 0.007030855857242814,\n",
       "  'num_Exams': 0.0,\n",
       "  'num_TMA_assess': 0.14575387060330813},\n",
       " {'model': 'random forest',\n",
       "  'data': 'all',\n",
       "  'n_estimators': 200,\n",
       "  'min_samples_split': 10,\n",
       "  'min_samples_leaf': 70,\n",
       "  'Validation Accuracy': 0.6493003229278794,\n",
       "  'Validation Recall': 0.5488917861799217,\n",
       "  'Validation Precision': 0.24706572769953053,\n",
       "  'Validation F1': 0.3407527316875759,\n",
       "  'student_id': 0.07543955850206116,\n",
       "  'date_registered': 0.06408273135985193,\n",
       "  'course_length': 0.030245647708353026,\n",
       "  'gender': 0.011551019303544715,\n",
       "  'num_of_prev_attempts': 0.009049947945639136,\n",
       "  'studied_credits': 0.07687544327080584,\n",
       "  'disability': 0.04189695020707714,\n",
       "  'late_registration': 0.0,\n",
       "  'late_assess_submission': 0.03753725254259285,\n",
       "  'module_year': 0.01301680033282083,\n",
       "  'age_code': 0.010900160545198127,\n",
       "  'edu_code': 0.06402948923646125,\n",
       "  'module_AAA': 0.0026881148583968147,\n",
       "  'module_BBB': 0.024814048777975755,\n",
       "  'module_CCC': 0.09856770679709297,\n",
       "  'module_DDD': 0.03027617748274742,\n",
       "  'module_EEE': 0.032150196571727914,\n",
       "  'module_FFF': 0.013091503223448821,\n",
       "  'module_GGG': 0.04822174235873258,\n",
       "  'module_month_Feb': 0.011136335461007176,\n",
       "  'module_month_Oct': 0.014152241682694591,\n",
       "  'region_East_Anglia': 0.003493317966362924,\n",
       "  'region_East_Midlands': 0.002542476723747171,\n",
       "  'region_Ireland': 0.003240253115409226,\n",
       "  'region_London': 0.0019263723756680476,\n",
       "  'region_North': 0.0014493638392423288,\n",
       "  'region_North_West': 0.0018843835283766832,\n",
       "  'region_Scotland': 0.002993425234443802,\n",
       "  'region_South_East': 0.0014504986295700581,\n",
       "  'region_South': 0.0038997616354983777,\n",
       "  'region_South_West': 0.0014543940830461712,\n",
       "  'region_Wales': 0.0015425948434325363,\n",
       "  'region_West_Midlands': 0.002118930868035823,\n",
       "  'region_Yorkshire': 0.0008876942625111941,\n",
       "  'num_CMA_assess': 0.052057799753646966,\n",
       "  'num_Exams': 0.10576264761978496,\n",
       "  'num_TMA_assess': 0.10357301735299367},\n",
       " {'model': 'gradient boosted trees',\n",
       "  'data': 'all',\n",
       "  'n_estimators': 1000,\n",
       "  'max_depth': 3,\n",
       "  'objective': 'binary:logistic',\n",
       "  'learning_rate': 0.2,\n",
       "  'subsample': 0.2,\n",
       "  'min_child_weight': 3,\n",
       "  'colsample_bytree': 0.8,\n",
       "  'Validation Accuracy': 0.646,\n",
       "  'Validation Recall': 0.5749674054758801,\n",
       "  'Validation Precision': 0.2505681818181818,\n",
       "  'Validation F1': 0.34903047091412737,\n",
       "  'student_id': 0.020652514,\n",
       "  'date_registered': 0.019315246,\n",
       "  'course_length': 0.018540371,\n",
       "  'gender': 0.014705291,\n",
       "  'num_of_prev_attempts': 0.019895952,\n",
       "  'studied_credits': 0.025878297,\n",
       "  'disability': 0.040465508,\n",
       "  'late_registration': 0.0,\n",
       "  'late_assess_submission': 0.022126572,\n",
       "  'module_year': 0.012350842,\n",
       "  'age_code': 0.015882548,\n",
       "  'edu_code': 0.0227807,\n",
       "  'module_AAA': 0.021388268,\n",
       "  'module_BBB': 0.03259029,\n",
       "  'module_CCC': 0.12229993,\n",
       "  'module_DDD': 0.03650665,\n",
       "  'module_EEE': 0.018664058,\n",
       "  'module_FFF': 0.019272525,\n",
       "  'module_GGG': 0.028813388,\n",
       "  'module_month_Feb': 0.02904662,\n",
       "  'module_month_Oct': 0.015152242,\n",
       "  'region_East_Anglia': 0.022280598,\n",
       "  'region_East_Midlands': 0.015524906,\n",
       "  'region_Ireland': 0.023354566,\n",
       "  'region_London': 0.0209986,\n",
       "  'region_North': 0.021360507,\n",
       "  'region_North_West': 0.020678496,\n",
       "  'region_Scotland': 0.01975193,\n",
       "  'region_South_East': 0.015823567,\n",
       "  'region_South': 0.018621227,\n",
       "  'region_South_West': 0.031125855,\n",
       "  'region_Wales': 0.024295406,\n",
       "  'region_West_Midlands': 0.018170096,\n",
       "  'region_Yorkshire': 0.017403716,\n",
       "  'num_CMA_assess': 0.03266954,\n",
       "  'num_Exams': 0.0728552,\n",
       "  'num_TMA_assess': 0.06875791},\n",
       " {'model': 'knn',\n",
       "  'data': 'subsample',\n",
       "  'neighbors': 17,\n",
       "  'Validation Accuracy': 0.584930032292788,\n",
       "  'Validation Recall': 0.4758800521512386,\n",
       "  'Validation Precision': 0.1930195663670016,\n",
       "  'Validation F1': 0.27464258841234007},\n",
       " {'model': 'logistic regression',\n",
       "  'data': 'subsample',\n",
       "  'C': 1,\n",
       "  'Regularization': 'L2',\n",
       "  'Validation Accuracy': 0.6542518837459634,\n",
       "  'Validation Recall': 0.4876140808344198,\n",
       "  'Validation Precision': 0.23566477630749844,\n",
       "  'Validation F1': 0.31775700934579443,\n",
       "  'student_id': 0.2234323084591337,\n",
       "  'date_registered': 0.2234323084591337,\n",
       "  'course_length': 0.019454372981654755,\n",
       "  'gender': -0.20180447592710274,\n",
       "  'num_of_prev_attempts': -0.28514348050039723,\n",
       "  'studied_credits': 0.19119288339461427,\n",
       "  'disability': 0.19991638762838057,\n",
       "  'late_registration': 0.36079349621146606,\n",
       "  'late_assess_submission': 0.06715539603289356,\n",
       "  'module_year': 0.42838587649444937},\n",
       " {'model': 'decision tree',\n",
       "  'data': 'subsample',\n",
       "  'criterion': 'entropy',\n",
       "  'min_samples_split': 10,\n",
       "  'min_samples_leaf': 100,\n",
       "  'Validation Accuracy': 0.6081808396124866,\n",
       "  'Validation Recall': 0.4915254237288136,\n",
       "  'Validation Precision': 0.20863309352517986,\n",
       "  'Validation F1': 0.29292929292929293,\n",
       "  'student_id': 0.0,\n",
       "  'date_registered': 0.25859779621706497,\n",
       "  'course_length': 0.19076179031094004,\n",
       "  'gender': 0.09235940990233565,\n",
       "  'num_of_prev_attempts': 0.0,\n",
       "  'studied_credits': 0.06778378161658327,\n",
       "  'disability': 0.03656878820272709,\n",
       "  'late_registration': 0.048117719924460456,\n",
       "  'late_assess_submission': 0.28527455826992537,\n",
       "  'module_year': 0.02053615555596308},\n",
       " {'model': 'random forest',\n",
       "  'data': 'subsample',\n",
       "  'n_estimators': 310,\n",
       "  'min_samples_split': 10,\n",
       "  'min_samples_leaf': 90,\n",
       "  'Validation Accuracy': 0.5984930032292788,\n",
       "  'Validation Recall': 0.5267275097783573,\n",
       "  'Validation Precision': 0.21196222455403987,\n",
       "  'Validation F1': 0.3022820800598578,\n",
       "  'student_id': 0.15332107928247876,\n",
       "  'date_registered': 0.1645528312148359,\n",
       "  'course_length': 0.14297171453519822,\n",
       "  'gender': 0.10338931410762053,\n",
       "  'num_of_prev_attempts': 0.08024980079743241,\n",
       "  'studied_credits': 0.07155227276902819,\n",
       "  'disability': 0.05635572350385425,\n",
       "  'late_registration': 0.05276153428009558,\n",
       "  'late_assess_submission': 0.15726247843912103,\n",
       "  'module_year': 0.017583251070335256},\n",
       " {'model': 'gradient boosted trees',\n",
       "  'data': 'subsample',\n",
       "  'n_estimators': 1000,\n",
       "  'max_depth': 3,\n",
       "  'objective': 'binary:logistic',\n",
       "  'learning_rate': 0.3,\n",
       "  'subsample': 0.9,\n",
       "  'min_child_weight': 1,\n",
       "  'colsample_bytree': 0.4,\n",
       "  'Validation Accuracy': 0.6012917115177611,\n",
       "  'Validation Recall': 0.590612777053455,\n",
       "  'Validation Precision': 0.2275238573581115,\n",
       "  'Validation F1': 0.3284989122552574,\n",
       "  'num_Exams': 0.27418807,\n",
       "  'module_CCC': 0.05698899,\n",
       "  'num_TMA_assess': 0.14226845,\n",
       "  'edu_code': 0.05416279,\n",
       "  'module_GGG': 0.06800332,\n",
       "  'disability': 0.16861378,\n",
       "  'module_DDD': 0.15087685,\n",
       "  'course_length': 0.03456581,\n",
       "  'date_registered': 0.033425696,\n",
       "  'module_month_Feb': 0.016906254}]"
      ]
     },
     "execution_count": 267,
     "metadata": {},
     "output_type": "execute_result"
    }
   ],
   "source": [
    "models"
   ]
  },
  {
   "cell_type": "code",
   "execution_count": 286,
   "metadata": {},
   "outputs": [],
   "source": [
    "models_df = pd.DataFrame(models)"
   ]
  },
  {
   "cell_type": "code",
   "execution_count": 287,
   "metadata": {},
   "outputs": [
    {
     "data": {
      "text/html": [
       "<div>\n",
       "<style scoped>\n",
       "    .dataframe tbody tr th:only-of-type {\n",
       "        vertical-align: middle;\n",
       "    }\n",
       "\n",
       "    .dataframe tbody tr th {\n",
       "        vertical-align: top;\n",
       "    }\n",
       "\n",
       "    .dataframe thead th {\n",
       "        text-align: right;\n",
       "    }\n",
       "</style>\n",
       "<table border=\"1\" class=\"dataframe\">\n",
       "  <thead>\n",
       "    <tr style=\"text-align: right;\">\n",
       "      <th></th>\n",
       "      <th>C</th>\n",
       "      <th>Regularization</th>\n",
       "      <th>Validation Accuracy</th>\n",
       "      <th>Validation F1</th>\n",
       "      <th>Validation Precision</th>\n",
       "      <th>Validation Recall</th>\n",
       "      <th>age_code</th>\n",
       "      <th>colsample_bytree</th>\n",
       "      <th>course_length</th>\n",
       "      <th>criterion</th>\n",
       "      <th>data</th>\n",
       "      <th>date_registered</th>\n",
       "      <th>disability</th>\n",
       "      <th>edu_code</th>\n",
       "      <th>false_neg</th>\n",
       "      <th>false_pos</th>\n",
       "      <th>gender</th>\n",
       "      <th>late_assess_submission</th>\n",
       "      <th>late_registration</th>\n",
       "      <th>learning_rate</th>\n",
       "      <th>max_depth</th>\n",
       "      <th>min_child_weight</th>\n",
       "      <th>min_samples_leaf</th>\n",
       "      <th>min_samples_split</th>\n",
       "      <th>model</th>\n",
       "      <th>module_AAA</th>\n",
       "      <th>module_BBB</th>\n",
       "      <th>module_CCC</th>\n",
       "      <th>module_DDD</th>\n",
       "      <th>module_EEE</th>\n",
       "      <th>module_FFF</th>\n",
       "      <th>module_GGG</th>\n",
       "      <th>module_month_Feb</th>\n",
       "      <th>module_month_Oct</th>\n",
       "      <th>module_year</th>\n",
       "      <th>n_estimators</th>\n",
       "      <th>neighbors</th>\n",
       "      <th>num_CMA_assess</th>\n",
       "      <th>num_Exams</th>\n",
       "      <th>num_TMA_assess</th>\n",
       "      <th>num_of_prev_attempts</th>\n",
       "      <th>objective</th>\n",
       "      <th>region_East_Anglia</th>\n",
       "      <th>region_East_Midlands</th>\n",
       "      <th>region_Ireland</th>\n",
       "      <th>region_London</th>\n",
       "      <th>region_North</th>\n",
       "      <th>region_North_West</th>\n",
       "      <th>region_Scotland</th>\n",
       "      <th>region_South</th>\n",
       "      <th>region_South_East</th>\n",
       "      <th>region_South_West</th>\n",
       "      <th>region_Wales</th>\n",
       "      <th>region_West_Midlands</th>\n",
       "      <th>region_Yorkshire</th>\n",
       "      <th>student_id</th>\n",
       "      <th>studied_credits</th>\n",
       "      <th>subsample</th>\n",
       "      <th>true_neg</th>\n",
       "      <th>true_pos</th>\n",
       "    </tr>\n",
       "  </thead>\n",
       "  <tbody>\n",
       "    <tr>\n",
       "      <th>0</th>\n",
       "      <td>NaN</td>\n",
       "      <td>NaN</td>\n",
       "      <td>0.562971</td>\n",
       "      <td>0.270833</td>\n",
       "      <td>0.186911</td>\n",
       "      <td>0.491525</td>\n",
       "      <td>NaN</td>\n",
       "      <td>NaN</td>\n",
       "      <td>NaN</td>\n",
       "      <td>NaN</td>\n",
       "      <td>all</td>\n",
       "      <td>NaN</td>\n",
       "      <td>NaN</td>\n",
       "      <td>NaN</td>\n",
       "      <td>390</td>\n",
       "      <td>1640</td>\n",
       "      <td>NaN</td>\n",
       "      <td>NaN</td>\n",
       "      <td>NaN</td>\n",
       "      <td>NaN</td>\n",
       "      <td>NaN</td>\n",
       "      <td>NaN</td>\n",
       "      <td>NaN</td>\n",
       "      <td>NaN</td>\n",
       "      <td>knn</td>\n",
       "      <td>NaN</td>\n",
       "      <td>NaN</td>\n",
       "      <td>NaN</td>\n",
       "      <td>NaN</td>\n",
       "      <td>NaN</td>\n",
       "      <td>NaN</td>\n",
       "      <td>NaN</td>\n",
       "      <td>NaN</td>\n",
       "      <td>NaN</td>\n",
       "      <td>NaN</td>\n",
       "      <td>NaN</td>\n",
       "      <td>13.0</td>\n",
       "      <td>NaN</td>\n",
       "      <td>NaN</td>\n",
       "      <td>NaN</td>\n",
       "      <td>NaN</td>\n",
       "      <td>NaN</td>\n",
       "      <td>NaN</td>\n",
       "      <td>NaN</td>\n",
       "      <td>NaN</td>\n",
       "      <td>NaN</td>\n",
       "      <td>NaN</td>\n",
       "      <td>NaN</td>\n",
       "      <td>NaN</td>\n",
       "      <td>NaN</td>\n",
       "      <td>NaN</td>\n",
       "      <td>NaN</td>\n",
       "      <td>NaN</td>\n",
       "      <td>NaN</td>\n",
       "      <td>NaN</td>\n",
       "      <td>NaN</td>\n",
       "      <td>NaN</td>\n",
       "      <td>NaN</td>\n",
       "      <td>2238</td>\n",
       "      <td>377</td>\n",
       "    </tr>\n",
       "    <tr>\n",
       "      <th>1</th>\n",
       "      <td>0.04</td>\n",
       "      <td>L2</td>\n",
       "      <td>0.629279</td>\n",
       "      <td>0.334107</td>\n",
       "      <td>0.237493</td>\n",
       "      <td>0.563233</td>\n",
       "      <td>0.046110</td>\n",
       "      <td>NaN</td>\n",
       "      <td>0.299371</td>\n",
       "      <td>NaN</td>\n",
       "      <td>all</td>\n",
       "      <td>0.044750</td>\n",
       "      <td>0.171858</td>\n",
       "      <td>-0.206186</td>\n",
       "      <td>335</td>\n",
       "      <td>1387</td>\n",
       "      <td>0.104455</td>\n",
       "      <td>-0.106284</td>\n",
       "      <td>-0.043899</td>\n",
       "      <td>NaN</td>\n",
       "      <td>NaN</td>\n",
       "      <td>NaN</td>\n",
       "      <td>NaN</td>\n",
       "      <td>NaN</td>\n",
       "      <td>logistic regression</td>\n",
       "      <td>-0.045321</td>\n",
       "      <td>-0.000236</td>\n",
       "      <td>0.145901</td>\n",
       "      <td>0.315513</td>\n",
       "      <td>-0.202981</td>\n",
       "      <td>-0.018594</td>\n",
       "      <td>-0.505656</td>\n",
       "      <td>0.191912</td>\n",
       "      <td>-0.191912</td>\n",
       "      <td>0.019972</td>\n",
       "      <td>NaN</td>\n",
       "      <td>NaN</td>\n",
       "      <td>0.077516</td>\n",
       "      <td>0.145901</td>\n",
       "      <td>-0.357019</td>\n",
       "      <td>0.060740</td>\n",
       "      <td>NaN</td>\n",
       "      <td>-0.034384</td>\n",
       "      <td>0.022259</td>\n",
       "      <td>-0.050891</td>\n",
       "      <td>-0.022446</td>\n",
       "      <td>-0.025531</td>\n",
       "      <td>0.019759</td>\n",
       "      <td>0.015417</td>\n",
       "      <td>-0.005651</td>\n",
       "      <td>0.010314</td>\n",
       "      <td>0.002545</td>\n",
       "      <td>0.019669</td>\n",
       "      <td>0.027275</td>\n",
       "      <td>0.007855</td>\n",
       "      <td>-0.004392</td>\n",
       "      <td>0.172904</td>\n",
       "      <td>NaN</td>\n",
       "      <td>2491</td>\n",
       "      <td>432</td>\n",
       "    </tr>\n",
       "    <tr>\n",
       "      <th>2</th>\n",
       "      <td>NaN</td>\n",
       "      <td>NaN</td>\n",
       "      <td>0.607320</td>\n",
       "      <td>0.323442</td>\n",
       "      <td>0.226024</td>\n",
       "      <td>0.568449</td>\n",
       "      <td>0.025101</td>\n",
       "      <td>NaN</td>\n",
       "      <td>0.021364</td>\n",
       "      <td>entropy</td>\n",
       "      <td>all</td>\n",
       "      <td>0.139447</td>\n",
       "      <td>0.049499</td>\n",
       "      <td>0.059365</td>\n",
       "      <td>331</td>\n",
       "      <td>1493</td>\n",
       "      <td>0.008973</td>\n",
       "      <td>0.033327</td>\n",
       "      <td>0.000000</td>\n",
       "      <td>NaN</td>\n",
       "      <td>NaN</td>\n",
       "      <td>NaN</td>\n",
       "      <td>100.0</td>\n",
       "      <td>10.0</td>\n",
       "      <td>decision tree</td>\n",
       "      <td>0.000000</td>\n",
       "      <td>0.023493</td>\n",
       "      <td>0.188839</td>\n",
       "      <td>0.021529</td>\n",
       "      <td>0.000000</td>\n",
       "      <td>0.000000</td>\n",
       "      <td>0.000000</td>\n",
       "      <td>0.011652</td>\n",
       "      <td>0.004790</td>\n",
       "      <td>0.003116</td>\n",
       "      <td>NaN</td>\n",
       "      <td>NaN</td>\n",
       "      <td>0.007031</td>\n",
       "      <td>0.000000</td>\n",
       "      <td>0.145754</td>\n",
       "      <td>0.000000</td>\n",
       "      <td>NaN</td>\n",
       "      <td>0.000000</td>\n",
       "      <td>0.000000</td>\n",
       "      <td>0.000000</td>\n",
       "      <td>0.000000</td>\n",
       "      <td>0.007589</td>\n",
       "      <td>0.002180</td>\n",
       "      <td>0.000000</td>\n",
       "      <td>0.008478</td>\n",
       "      <td>0.000000</td>\n",
       "      <td>0.000000</td>\n",
       "      <td>0.000000</td>\n",
       "      <td>0.002150</td>\n",
       "      <td>0.000000</td>\n",
       "      <td>0.169894</td>\n",
       "      <td>0.066430</td>\n",
       "      <td>NaN</td>\n",
       "      <td>2385</td>\n",
       "      <td>436</td>\n",
       "    </tr>\n",
       "    <tr>\n",
       "      <th>3</th>\n",
       "      <td>NaN</td>\n",
       "      <td>NaN</td>\n",
       "      <td>0.649300</td>\n",
       "      <td>0.340753</td>\n",
       "      <td>0.247066</td>\n",
       "      <td>0.548892</td>\n",
       "      <td>0.010900</td>\n",
       "      <td>NaN</td>\n",
       "      <td>0.030246</td>\n",
       "      <td>NaN</td>\n",
       "      <td>all</td>\n",
       "      <td>0.064083</td>\n",
       "      <td>0.041897</td>\n",
       "      <td>0.064029</td>\n",
       "      <td>346</td>\n",
       "      <td>1283</td>\n",
       "      <td>0.011551</td>\n",
       "      <td>0.037537</td>\n",
       "      <td>0.000000</td>\n",
       "      <td>NaN</td>\n",
       "      <td>NaN</td>\n",
       "      <td>NaN</td>\n",
       "      <td>70.0</td>\n",
       "      <td>10.0</td>\n",
       "      <td>random forest</td>\n",
       "      <td>0.002688</td>\n",
       "      <td>0.024814</td>\n",
       "      <td>0.098568</td>\n",
       "      <td>0.030276</td>\n",
       "      <td>0.032150</td>\n",
       "      <td>0.013092</td>\n",
       "      <td>0.048222</td>\n",
       "      <td>0.011136</td>\n",
       "      <td>0.014152</td>\n",
       "      <td>0.013017</td>\n",
       "      <td>200.0</td>\n",
       "      <td>NaN</td>\n",
       "      <td>0.052058</td>\n",
       "      <td>0.105763</td>\n",
       "      <td>0.103573</td>\n",
       "      <td>0.009050</td>\n",
       "      <td>NaN</td>\n",
       "      <td>0.003493</td>\n",
       "      <td>0.002542</td>\n",
       "      <td>0.003240</td>\n",
       "      <td>0.001926</td>\n",
       "      <td>0.001449</td>\n",
       "      <td>0.001884</td>\n",
       "      <td>0.002993</td>\n",
       "      <td>0.003900</td>\n",
       "      <td>0.001450</td>\n",
       "      <td>0.001454</td>\n",
       "      <td>0.001543</td>\n",
       "      <td>0.002119</td>\n",
       "      <td>0.000888</td>\n",
       "      <td>0.075440</td>\n",
       "      <td>0.076875</td>\n",
       "      <td>NaN</td>\n",
       "      <td>2595</td>\n",
       "      <td>421</td>\n",
       "    </tr>\n",
       "    <tr>\n",
       "      <th>4</th>\n",
       "      <td>NaN</td>\n",
       "      <td>NaN</td>\n",
       "      <td>0.646000</td>\n",
       "      <td>0.349030</td>\n",
       "      <td>0.250568</td>\n",
       "      <td>0.574967</td>\n",
       "      <td>0.015883</td>\n",
       "      <td>0.8</td>\n",
       "      <td>0.018540</td>\n",
       "      <td>NaN</td>\n",
       "      <td>all</td>\n",
       "      <td>0.019315</td>\n",
       "      <td>0.040466</td>\n",
       "      <td>0.022781</td>\n",
       "      <td>326</td>\n",
       "      <td>1319</td>\n",
       "      <td>0.014705</td>\n",
       "      <td>0.022127</td>\n",
       "      <td>0.000000</td>\n",
       "      <td>0.2</td>\n",
       "      <td>3.0</td>\n",
       "      <td>3.0</td>\n",
       "      <td>NaN</td>\n",
       "      <td>NaN</td>\n",
       "      <td>gradient boosted trees</td>\n",
       "      <td>0.021388</td>\n",
       "      <td>0.032590</td>\n",
       "      <td>0.122300</td>\n",
       "      <td>0.036507</td>\n",
       "      <td>0.018664</td>\n",
       "      <td>0.019273</td>\n",
       "      <td>0.028813</td>\n",
       "      <td>0.029047</td>\n",
       "      <td>0.015152</td>\n",
       "      <td>0.012351</td>\n",
       "      <td>1000.0</td>\n",
       "      <td>NaN</td>\n",
       "      <td>0.032670</td>\n",
       "      <td>0.072855</td>\n",
       "      <td>0.068758</td>\n",
       "      <td>0.019896</td>\n",
       "      <td>binary:logistic</td>\n",
       "      <td>0.022281</td>\n",
       "      <td>0.015525</td>\n",
       "      <td>0.023355</td>\n",
       "      <td>0.020999</td>\n",
       "      <td>0.021361</td>\n",
       "      <td>0.020678</td>\n",
       "      <td>0.019752</td>\n",
       "      <td>0.018621</td>\n",
       "      <td>0.015824</td>\n",
       "      <td>0.031126</td>\n",
       "      <td>0.024295</td>\n",
       "      <td>0.018170</td>\n",
       "      <td>0.017404</td>\n",
       "      <td>0.020653</td>\n",
       "      <td>0.025878</td>\n",
       "      <td>0.2</td>\n",
       "      <td>2559</td>\n",
       "      <td>441</td>\n",
       "    </tr>\n",
       "  </tbody>\n",
       "</table>\n",
       "</div>"
      ],
      "text/plain": [
       "      C Regularization  Validation Accuracy  Validation F1  \\\n",
       "0   NaN            NaN             0.562971       0.270833   \n",
       "1  0.04             L2             0.629279       0.334107   \n",
       "2   NaN            NaN             0.607320       0.323442   \n",
       "3   NaN            NaN             0.649300       0.340753   \n",
       "4   NaN            NaN             0.646000       0.349030   \n",
       "\n",
       "   Validation Precision  Validation Recall  age_code  colsample_bytree  \\\n",
       "0              0.186911           0.491525       NaN               NaN   \n",
       "1              0.237493           0.563233  0.046110               NaN   \n",
       "2              0.226024           0.568449  0.025101               NaN   \n",
       "3              0.247066           0.548892  0.010900               NaN   \n",
       "4              0.250568           0.574967  0.015883               0.8   \n",
       "\n",
       "   course_length criterion data  date_registered  disability  edu_code  \\\n",
       "0            NaN       NaN  all              NaN         NaN       NaN   \n",
       "1       0.299371       NaN  all         0.044750    0.171858 -0.206186   \n",
       "2       0.021364   entropy  all         0.139447    0.049499  0.059365   \n",
       "3       0.030246       NaN  all         0.064083    0.041897  0.064029   \n",
       "4       0.018540       NaN  all         0.019315    0.040466  0.022781   \n",
       "\n",
       "   false_neg  false_pos    gender  late_assess_submission  late_registration  \\\n",
       "0        390       1640       NaN                     NaN                NaN   \n",
       "1        335       1387  0.104455               -0.106284          -0.043899   \n",
       "2        331       1493  0.008973                0.033327           0.000000   \n",
       "3        346       1283  0.011551                0.037537           0.000000   \n",
       "4        326       1319  0.014705                0.022127           0.000000   \n",
       "\n",
       "   learning_rate  max_depth  min_child_weight  min_samples_leaf  \\\n",
       "0            NaN        NaN               NaN               NaN   \n",
       "1            NaN        NaN               NaN               NaN   \n",
       "2            NaN        NaN               NaN             100.0   \n",
       "3            NaN        NaN               NaN              70.0   \n",
       "4            0.2        3.0               3.0               NaN   \n",
       "\n",
       "   min_samples_split                   model  module_AAA  module_BBB  \\\n",
       "0                NaN                     knn         NaN         NaN   \n",
       "1                NaN     logistic regression   -0.045321   -0.000236   \n",
       "2               10.0           decision tree    0.000000    0.023493   \n",
       "3               10.0           random forest    0.002688    0.024814   \n",
       "4                NaN  gradient boosted trees    0.021388    0.032590   \n",
       "\n",
       "   module_CCC  module_DDD  module_EEE  module_FFF  module_GGG  \\\n",
       "0         NaN         NaN         NaN         NaN         NaN   \n",
       "1    0.145901    0.315513   -0.202981   -0.018594   -0.505656   \n",
       "2    0.188839    0.021529    0.000000    0.000000    0.000000   \n",
       "3    0.098568    0.030276    0.032150    0.013092    0.048222   \n",
       "4    0.122300    0.036507    0.018664    0.019273    0.028813   \n",
       "\n",
       "   module_month_Feb  module_month_Oct  module_year  n_estimators  neighbors  \\\n",
       "0               NaN               NaN          NaN           NaN       13.0   \n",
       "1          0.191912         -0.191912     0.019972           NaN        NaN   \n",
       "2          0.011652          0.004790     0.003116           NaN        NaN   \n",
       "3          0.011136          0.014152     0.013017         200.0        NaN   \n",
       "4          0.029047          0.015152     0.012351        1000.0        NaN   \n",
       "\n",
       "   num_CMA_assess  num_Exams  num_TMA_assess  num_of_prev_attempts  \\\n",
       "0             NaN        NaN             NaN                   NaN   \n",
       "1        0.077516   0.145901       -0.357019              0.060740   \n",
       "2        0.007031   0.000000        0.145754              0.000000   \n",
       "3        0.052058   0.105763        0.103573              0.009050   \n",
       "4        0.032670   0.072855        0.068758              0.019896   \n",
       "\n",
       "         objective  region_East_Anglia  region_East_Midlands  region_Ireland  \\\n",
       "0              NaN                 NaN                   NaN             NaN   \n",
       "1              NaN           -0.034384              0.022259       -0.050891   \n",
       "2              NaN            0.000000              0.000000        0.000000   \n",
       "3              NaN            0.003493              0.002542        0.003240   \n",
       "4  binary:logistic            0.022281              0.015525        0.023355   \n",
       "\n",
       "   region_London  region_North  region_North_West  region_Scotland  \\\n",
       "0            NaN           NaN                NaN              NaN   \n",
       "1      -0.022446     -0.025531           0.019759         0.015417   \n",
       "2       0.000000      0.007589           0.002180         0.000000   \n",
       "3       0.001926      0.001449           0.001884         0.002993   \n",
       "4       0.020999      0.021361           0.020678         0.019752   \n",
       "\n",
       "   region_South  region_South_East  region_South_West  region_Wales  \\\n",
       "0           NaN                NaN                NaN           NaN   \n",
       "1     -0.005651           0.010314           0.002545      0.019669   \n",
       "2      0.008478           0.000000           0.000000      0.000000   \n",
       "3      0.003900           0.001450           0.001454      0.001543   \n",
       "4      0.018621           0.015824           0.031126      0.024295   \n",
       "\n",
       "   region_West_Midlands  region_Yorkshire  student_id  studied_credits  \\\n",
       "0                   NaN               NaN         NaN              NaN   \n",
       "1              0.027275          0.007855   -0.004392         0.172904   \n",
       "2              0.002150          0.000000    0.169894         0.066430   \n",
       "3              0.002119          0.000888    0.075440         0.076875   \n",
       "4              0.018170          0.017404    0.020653         0.025878   \n",
       "\n",
       "   subsample  true_neg  true_pos  \n",
       "0        NaN      2238       377  \n",
       "1        NaN      2491       432  \n",
       "2        NaN      2385       436  \n",
       "3        NaN      2595       421  \n",
       "4        0.2      2559       441  "
      ]
     },
     "execution_count": 287,
     "metadata": {},
     "output_type": "execute_result"
    }
   ],
   "source": [
    "models_df.head()"
   ]
  },
  {
   "cell_type": "code",
   "execution_count": 270,
   "metadata": {},
   "outputs": [
    {
     "data": {
      "text/plain": [
       "'/Users/Valentina/Documents/git/Metis/nyc19_ds20/student_submissions/mvp/pena_valentina'"
      ]
     },
     "execution_count": 270,
     "metadata": {},
     "output_type": "execute_result"
    }
   ],
   "source": [
    "%pwd"
   ]
  },
  {
   "cell_type": "code",
   "execution_count": 288,
   "metadata": {},
   "outputs": [],
   "source": [
    "models_df.to_csv('models_summary.csv', ',')"
   ]
  },
  {
   "cell_type": "markdown",
   "metadata": {},
   "source": [
    "# Thoughts so far:\n",
    "\n",
    "kNN seems to be doing pretty well, but I have a few concerns..."
   ]
  },
  {
   "cell_type": "markdown",
   "metadata": {},
   "source": [
    "## Modeling plans:\n",
    "- Cross-validate to test overfitting\n",
    "- Try a Logistic Regression to find most meaningful features and maybe reduce # features to prevent overfitting\n",
    "- Try other models like Decision Trees / Random Forest / Boosted Trees"
   ]
  },
  {
   "cell_type": "markdown",
   "metadata": {},
   "source": [
    "# Improvements to come (depending on future model results):"
   ]
  },
  {
   "cell_type": "markdown",
   "metadata": {},
   "source": [
    "## Feature Engineering\n",
    "\n",
    "- Make age_band feature into an ordinal score as opposed to categorical binary dummies\n",
    "- Split code_presentation into term (spring / fall) and year so they're not necessarily linked"
   ]
  },
  {
   "cell_type": "markdown",
   "metadata": {},
   "source": [
    "## More data to come?\n",
    "\n",
    "- Information about how many resources at the students' disposal\n",
    "- How many days they interacted with the online material\n",
    "- Total number of clicks on online material\n",
    "- Average number of clicks / day when interacting with online material"
   ]
  },
  {
   "cell_type": "markdown",
   "metadata": {},
   "source": [
    "## Things I'm thinking of:\n",
    "- Maybe include is_banked parameter?\n",
    "- Maybe include imd_band info despite many NaNs - requires dropping ~10,000 rows"
   ]
  }
 ],
 "metadata": {
  "kernelspec": {
   "display_name": "Python 3",
   "language": "python",
   "name": "python3"
  },
  "language_info": {
   "codemirror_mode": {
    "name": "ipython",
    "version": 3
   },
   "file_extension": ".py",
   "mimetype": "text/x-python",
   "name": "python",
   "nbconvert_exporter": "python",
   "pygments_lexer": "ipython3",
   "version": "3.7.1"
  },
  "toc": {
   "base_numbering": 1,
   "nav_menu": {},
   "number_sections": true,
   "sideBar": false,
   "skip_h1_title": false,
   "title_cell": "Table of Contents",
   "title_sidebar": "Contents",
   "toc_cell": true,
   "toc_position": {},
   "toc_section_display": true,
   "toc_window_display": false
  }
 },
 "nbformat": 4,
 "nbformat_minor": 2
}
